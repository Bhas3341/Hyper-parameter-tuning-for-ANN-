{
 "cells": [
  {
   "cell_type": "code",
   "execution_count": 160,
   "id": "1560cf3f",
   "metadata": {},
   "outputs": [],
   "source": [
    "import pandas as pd\n",
    "import pandas as pd\n",
    "import numpy as np\n",
    "import matplotlib.pyplot as plt\n",
    "from sklearn.model_selection import train_test_split"
   ]
  },
  {
   "cell_type": "code",
   "execution_count": 161,
   "id": "8c6de2d0",
   "metadata": {},
   "outputs": [],
   "source": [
    "by=pd.read_csv('/Users/bhaskaryuvaraj/Downloads/Complete-Deep-Learning-master/ANN/Churn_Modelling.csv')\n"
   ]
  },
  {
   "cell_type": "code",
   "execution_count": 162,
   "id": "5a2953da",
   "metadata": {},
   "outputs": [],
   "source": [
    "#dropping columns of surname, row number and customerid since it does not provide any necessary info\n",
    "by.drop(by.columns[[0,1,2]],axis=1,inplace=True)"
   ]
  },
  {
   "cell_type": "code",
   "execution_count": 163,
   "id": "3d983055",
   "metadata": {},
   "outputs": [],
   "source": [
    "#creating the dummy variables\n",
    "dummy1=pd.get_dummies(by['Geography'])\n",
    "dummy2=pd.get_dummies(by['Gender'])"
   ]
  },
  {
   "cell_type": "code",
   "execution_count": 164,
   "id": "6d9c6b99",
   "metadata": {},
   "outputs": [],
   "source": [
    "by=pd.concat((by,dummy1,dummy2),axis=1)\n",
    "by.drop(by.columns[[1,2]],axis=1,inplace=True)"
   ]
  },
  {
   "cell_type": "code",
   "execution_count": 165,
   "id": "61efece2",
   "metadata": {},
   "outputs": [],
   "source": [
    "#seperating dependent and independent variables\n",
    "x=by.drop(by.columns[8],axis=1)\n",
    "y=by['Exited'].copy()"
   ]
  },
  {
   "cell_type": "code",
   "execution_count": 166,
   "id": "c8247518",
   "metadata": {},
   "outputs": [
    {
     "data": {
      "text/html": [
       "<div>\n",
       "<style scoped>\n",
       "    .dataframe tbody tr th:only-of-type {\n",
       "        vertical-align: middle;\n",
       "    }\n",
       "\n",
       "    .dataframe tbody tr th {\n",
       "        vertical-align: top;\n",
       "    }\n",
       "\n",
       "    .dataframe thead th {\n",
       "        text-align: right;\n",
       "    }\n",
       "</style>\n",
       "<table border=\"1\" class=\"dataframe\">\n",
       "  <thead>\n",
       "    <tr style=\"text-align: right;\">\n",
       "      <th></th>\n",
       "      <th>CreditScore</th>\n",
       "      <th>Age</th>\n",
       "      <th>Tenure</th>\n",
       "      <th>Balance</th>\n",
       "      <th>NumOfProducts</th>\n",
       "      <th>HasCrCard</th>\n",
       "      <th>IsActiveMember</th>\n",
       "      <th>EstimatedSalary</th>\n",
       "      <th>France</th>\n",
       "      <th>Germany</th>\n",
       "      <th>Spain</th>\n",
       "      <th>Female</th>\n",
       "      <th>Male</th>\n",
       "    </tr>\n",
       "  </thead>\n",
       "  <tbody>\n",
       "    <tr>\n",
       "      <th>0</th>\n",
       "      <td>619</td>\n",
       "      <td>42</td>\n",
       "      <td>2</td>\n",
       "      <td>0.00</td>\n",
       "      <td>1</td>\n",
       "      <td>1</td>\n",
       "      <td>1</td>\n",
       "      <td>101348.88</td>\n",
       "      <td>1</td>\n",
       "      <td>0</td>\n",
       "      <td>0</td>\n",
       "      <td>1</td>\n",
       "      <td>0</td>\n",
       "    </tr>\n",
       "    <tr>\n",
       "      <th>1</th>\n",
       "      <td>608</td>\n",
       "      <td>41</td>\n",
       "      <td>1</td>\n",
       "      <td>83807.86</td>\n",
       "      <td>1</td>\n",
       "      <td>0</td>\n",
       "      <td>1</td>\n",
       "      <td>112542.58</td>\n",
       "      <td>0</td>\n",
       "      <td>0</td>\n",
       "      <td>1</td>\n",
       "      <td>1</td>\n",
       "      <td>0</td>\n",
       "    </tr>\n",
       "    <tr>\n",
       "      <th>2</th>\n",
       "      <td>502</td>\n",
       "      <td>42</td>\n",
       "      <td>8</td>\n",
       "      <td>159660.80</td>\n",
       "      <td>3</td>\n",
       "      <td>1</td>\n",
       "      <td>0</td>\n",
       "      <td>113931.57</td>\n",
       "      <td>1</td>\n",
       "      <td>0</td>\n",
       "      <td>0</td>\n",
       "      <td>1</td>\n",
       "      <td>0</td>\n",
       "    </tr>\n",
       "    <tr>\n",
       "      <th>3</th>\n",
       "      <td>699</td>\n",
       "      <td>39</td>\n",
       "      <td>1</td>\n",
       "      <td>0.00</td>\n",
       "      <td>2</td>\n",
       "      <td>0</td>\n",
       "      <td>0</td>\n",
       "      <td>93826.63</td>\n",
       "      <td>1</td>\n",
       "      <td>0</td>\n",
       "      <td>0</td>\n",
       "      <td>1</td>\n",
       "      <td>0</td>\n",
       "    </tr>\n",
       "    <tr>\n",
       "      <th>4</th>\n",
       "      <td>850</td>\n",
       "      <td>43</td>\n",
       "      <td>2</td>\n",
       "      <td>125510.82</td>\n",
       "      <td>1</td>\n",
       "      <td>1</td>\n",
       "      <td>1</td>\n",
       "      <td>79084.10</td>\n",
       "      <td>0</td>\n",
       "      <td>0</td>\n",
       "      <td>1</td>\n",
       "      <td>1</td>\n",
       "      <td>0</td>\n",
       "    </tr>\n",
       "  </tbody>\n",
       "</table>\n",
       "</div>"
      ],
      "text/plain": [
       "   CreditScore  Age  Tenure    Balance  NumOfProducts  HasCrCard  \\\n",
       "0          619   42       2       0.00              1          1   \n",
       "1          608   41       1   83807.86              1          0   \n",
       "2          502   42       8  159660.80              3          1   \n",
       "3          699   39       1       0.00              2          0   \n",
       "4          850   43       2  125510.82              1          1   \n",
       "\n",
       "   IsActiveMember  EstimatedSalary  France  Germany  Spain  Female  Male  \n",
       "0               1        101348.88       1        0      0       1     0  \n",
       "1               1        112542.58       0        0      1       1     0  \n",
       "2               0        113931.57       1        0      0       1     0  \n",
       "3               0         93826.63       1        0      0       1     0  \n",
       "4               1         79084.10       0        0      1       1     0  "
      ]
     },
     "execution_count": 166,
     "metadata": {},
     "output_type": "execute_result"
    }
   ],
   "source": [
    "x.head()"
   ]
  },
  {
   "cell_type": "code",
   "execution_count": 167,
   "id": "e2534b55",
   "metadata": {},
   "outputs": [
    {
     "data": {
      "text/plain": [
       "CreditScore          int64\n",
       "Age                  int64\n",
       "Tenure               int64\n",
       "Balance            float64\n",
       "NumOfProducts        int64\n",
       "HasCrCard            int64\n",
       "IsActiveMember       int64\n",
       "EstimatedSalary    float64\n",
       "France               uint8\n",
       "Germany              uint8\n",
       "Spain                uint8\n",
       "Female               uint8\n",
       "Male                 uint8\n",
       "dtype: object"
      ]
     },
     "execution_count": 167,
     "metadata": {},
     "output_type": "execute_result"
    }
   ],
   "source": [
    "x.dtypes"
   ]
  },
  {
   "cell_type": "code",
   "execution_count": 168,
   "id": "cb37f1f3",
   "metadata": {},
   "outputs": [
    {
     "data": {
      "text/plain": [
       "0    1\n",
       "1    0\n",
       "2    1\n",
       "3    0\n",
       "4    0\n",
       "Name: Exited, dtype: int64"
      ]
     },
     "execution_count": 168,
     "metadata": {},
     "output_type": "execute_result"
    }
   ],
   "source": [
    "y.head()"
   ]
  },
  {
   "cell_type": "code",
   "execution_count": 169,
   "id": "85bd0be0",
   "metadata": {},
   "outputs": [],
   "source": [
    "from tensorflow import keras\n",
    "from tensorflow.keras import layers\n",
    "from kerastuner.tuners import RandomSearch"
   ]
  },
  {
   "cell_type": "code",
   "execution_count": 170,
   "id": "9e4c461e",
   "metadata": {},
   "outputs": [],
   "source": [
    "def build_model(hp):\n",
    "    model = keras.Sequential()\n",
    "    for i in range(hp.Int('num_layers', 2, 20)):\n",
    "        model.add(layers.Dense(units=hp.Int('units_' + str(i),\n",
    "                                            min_value=32,\n",
    "                                            max_value=512,\n",
    "                                            step=32),\n",
    "                               activation='relu'))\n",
    "    model.add(layers.Dense(1, activation='sigmoid'))\n",
    "    model.compile(\n",
    "        optimizer=keras.optimizers.Adam(\n",
    "            hp.Choice('learning_rate', [1e-2, 1e-3, 1e-4])),\n",
    "        loss='binary_crossentropy',\n",
    "        metrics=['accuracy'])\n",
    "    return model"
   ]
  },
  {
   "cell_type": "code",
   "execution_count": 171,
   "id": "6317aed3",
   "metadata": {},
   "outputs": [
    {
     "name": "stdout",
     "output_type": "stream",
     "text": [
      "INFO:tensorflow:Reloading Oracle from existing project project/Air Quality Index/oracle.json\n"
     ]
    }
   ],
   "source": [
    "tuner = RandomSearch(\n",
    "    build_model,\n",
    "    objective='val_accuracy',\n",
    "    max_trials=5,\n",
    "    executions_per_trial=1,\n",
    "    directory='project',\n",
    "    project_name='Air Quality Index')"
   ]
  },
  {
   "cell_type": "code",
   "execution_count": 172,
   "id": "871e30ef",
   "metadata": {},
   "outputs": [
    {
     "data": {
      "text/html": [
       "<span style=\"color:#4527A0\"><h1 style=\"font-size:18px\">Search space summary</h1></span>"
      ],
      "text/plain": [
       "<IPython.core.display.HTML object>"
      ]
     },
     "metadata": {},
     "output_type": "display_data"
    },
    {
     "data": {
      "text/html": [
       "<span style=\"color:cyan\"> |-Default search space size: 4</span>"
      ],
      "text/plain": [
       "<IPython.core.display.HTML object>"
      ]
     },
     "metadata": {},
     "output_type": "display_data"
    },
    {
     "data": {
      "text/html": [
       "<span style=\"color:#7E57C2\"><h2 style=\"font-size:16px\">num_layers (Int)</h2></span>"
      ],
      "text/plain": [
       "<IPython.core.display.HTML object>"
      ]
     },
     "metadata": {},
     "output_type": "display_data"
    },
    {
     "data": {
      "text/html": [
       "<span style=\"color:cyan\"> |-default: None</span>"
      ],
      "text/plain": [
       "<IPython.core.display.HTML object>"
      ]
     },
     "metadata": {},
     "output_type": "display_data"
    },
    {
     "data": {
      "text/html": [
       "<span style=\"color:blue\"> |-max_value: 20</span>"
      ],
      "text/plain": [
       "<IPython.core.display.HTML object>"
      ]
     },
     "metadata": {},
     "output_type": "display_data"
    },
    {
     "data": {
      "text/html": [
       "<span style=\"color:cyan\"> |-min_value: 2</span>"
      ],
      "text/plain": [
       "<IPython.core.display.HTML object>"
      ]
     },
     "metadata": {},
     "output_type": "display_data"
    },
    {
     "data": {
      "text/html": [
       "<span style=\"color:blue\"> |-sampling: None</span>"
      ],
      "text/plain": [
       "<IPython.core.display.HTML object>"
      ]
     },
     "metadata": {},
     "output_type": "display_data"
    },
    {
     "data": {
      "text/html": [
       "<span style=\"color:cyan\"> |-step: 1</span>"
      ],
      "text/plain": [
       "<IPython.core.display.HTML object>"
      ]
     },
     "metadata": {},
     "output_type": "display_data"
    },
    {
     "data": {
      "text/html": [
       "<span style=\"color:#7E57C2\"><h2 style=\"font-size:16px\">units_0 (Int)</h2></span>"
      ],
      "text/plain": [
       "<IPython.core.display.HTML object>"
      ]
     },
     "metadata": {},
     "output_type": "display_data"
    },
    {
     "data": {
      "text/html": [
       "<span style=\"color:cyan\"> |-default: None</span>"
      ],
      "text/plain": [
       "<IPython.core.display.HTML object>"
      ]
     },
     "metadata": {},
     "output_type": "display_data"
    },
    {
     "data": {
      "text/html": [
       "<span style=\"color:blue\"> |-max_value: 512</span>"
      ],
      "text/plain": [
       "<IPython.core.display.HTML object>"
      ]
     },
     "metadata": {},
     "output_type": "display_data"
    },
    {
     "data": {
      "text/html": [
       "<span style=\"color:cyan\"> |-min_value: 32</span>"
      ],
      "text/plain": [
       "<IPython.core.display.HTML object>"
      ]
     },
     "metadata": {},
     "output_type": "display_data"
    },
    {
     "data": {
      "text/html": [
       "<span style=\"color:blue\"> |-sampling: None</span>"
      ],
      "text/plain": [
       "<IPython.core.display.HTML object>"
      ]
     },
     "metadata": {},
     "output_type": "display_data"
    },
    {
     "data": {
      "text/html": [
       "<span style=\"color:cyan\"> |-step: 32</span>"
      ],
      "text/plain": [
       "<IPython.core.display.HTML object>"
      ]
     },
     "metadata": {},
     "output_type": "display_data"
    },
    {
     "data": {
      "text/html": [
       "<span style=\"color:#7E57C2\"><h2 style=\"font-size:16px\">units_1 (Int)</h2></span>"
      ],
      "text/plain": [
       "<IPython.core.display.HTML object>"
      ]
     },
     "metadata": {},
     "output_type": "display_data"
    },
    {
     "data": {
      "text/html": [
       "<span style=\"color:cyan\"> |-default: None</span>"
      ],
      "text/plain": [
       "<IPython.core.display.HTML object>"
      ]
     },
     "metadata": {},
     "output_type": "display_data"
    },
    {
     "data": {
      "text/html": [
       "<span style=\"color:blue\"> |-max_value: 512</span>"
      ],
      "text/plain": [
       "<IPython.core.display.HTML object>"
      ]
     },
     "metadata": {},
     "output_type": "display_data"
    },
    {
     "data": {
      "text/html": [
       "<span style=\"color:cyan\"> |-min_value: 32</span>"
      ],
      "text/plain": [
       "<IPython.core.display.HTML object>"
      ]
     },
     "metadata": {},
     "output_type": "display_data"
    },
    {
     "data": {
      "text/html": [
       "<span style=\"color:blue\"> |-sampling: None</span>"
      ],
      "text/plain": [
       "<IPython.core.display.HTML object>"
      ]
     },
     "metadata": {},
     "output_type": "display_data"
    },
    {
     "data": {
      "text/html": [
       "<span style=\"color:cyan\"> |-step: 32</span>"
      ],
      "text/plain": [
       "<IPython.core.display.HTML object>"
      ]
     },
     "metadata": {},
     "output_type": "display_data"
    },
    {
     "data": {
      "text/html": [
       "<span style=\"color:#7E57C2\"><h2 style=\"font-size:16px\">learning_rate (Choice)</h2></span>"
      ],
      "text/plain": [
       "<IPython.core.display.HTML object>"
      ]
     },
     "metadata": {},
     "output_type": "display_data"
    },
    {
     "data": {
      "text/html": [
       "<span style=\"color:cyan\"> |-default: 0.01</span>"
      ],
      "text/plain": [
       "<IPython.core.display.HTML object>"
      ]
     },
     "metadata": {},
     "output_type": "display_data"
    },
    {
     "data": {
      "text/html": [
       "<span style=\"color:blue\"> |-ordered: True</span>"
      ],
      "text/plain": [
       "<IPython.core.display.HTML object>"
      ]
     },
     "metadata": {},
     "output_type": "display_data"
    },
    {
     "data": {
      "text/html": [
       "<span style=\"color:cyan\"> |-values: [0.01, 0.001, 0.0001]</span>"
      ],
      "text/plain": [
       "<IPython.core.display.HTML object>"
      ]
     },
     "metadata": {},
     "output_type": "display_data"
    }
   ],
   "source": [
    "tuner.search_space_summary()"
   ]
  },
  {
   "cell_type": "code",
   "execution_count": 173,
   "id": "12178882",
   "metadata": {},
   "outputs": [],
   "source": [
    "#now splitting the test and train\n",
    "x_train,x_test,y_train,y_test=train_test_split(x,y,test_size=0.3,random_state=3)"
   ]
  },
  {
   "cell_type": "code",
   "execution_count": 174,
   "id": "701b7f47",
   "metadata": {},
   "outputs": [],
   "source": [
    "x_train=x_train.values"
   ]
  },
  {
   "cell_type": "code",
   "execution_count": 175,
   "id": "805df7c2",
   "metadata": {},
   "outputs": [],
   "source": [
    "y_train=y_train.values"
   ]
  },
  {
   "cell_type": "code",
   "execution_count": 176,
   "id": "f638b59f",
   "metadata": {},
   "outputs": [],
   "source": [
    "y_test=y_test.values"
   ]
  },
  {
   "cell_type": "code",
   "execution_count": 177,
   "id": "e1d91de5",
   "metadata": {},
   "outputs": [],
   "source": [
    "x_test=x_test.values"
   ]
  },
  {
   "cell_type": "code",
   "execution_count": 178,
   "id": "8d04ee68",
   "metadata": {},
   "outputs": [
    {
     "name": "stdout",
     "output_type": "stream",
     "text": [
      "Train on 7000 samples, validate on 3000 samples\n",
      "Epoch 1/5\n",
      "7000/7000 [==============================] - ETA: 10:08 - loss: 45.1331 - accuracy: 0.75 - ETA: 2:01 - loss: 38.5394 - accuracy: 0.6500 - ETA: 1:16 - loss: 31.5857 - accuracy: 0.699 - ETA: 55s - loss: 36.7130 - accuracy: 0.661 - ETA: 38s - loss: 29.8966 - accuracy: 0.66 - ETA: 30s - loss: 27.1334 - accuracy: 0.65 - ETA: 24s - loss: 24.2344 - accuracy: 0.67 - ETA: 20s - loss: 22.6146 - accuracy: 0.65 - ETA: 18s - loss: 21.0696 - accuracy: 0.67 - ETA: 15s - loss: 19.0135 - accuracy: 0.67 - ETA: 14s - loss: 17.6925 - accuracy: 0.68 - ETA: 12s - loss: 16.8545 - accuracy: 0.67 - ETA: 11s - loss: 15.8329 - accuracy: 0.67 - ETA: 10s - loss: 14.7711 - accuracy: 0.67 - ETA: 9s - loss: 13.9323 - accuracy: 0.6812 - ETA: 8s - loss: 13.2086 - accuracy: 0.671 - ETA: 8s - loss: 12.6278 - accuracy: 0.673 - ETA: 7s - loss: 11.9883 - accuracy: 0.678 - ETA: 6s - loss: 11.3952 - accuracy: 0.675 - ETA: 6s - loss: 10.9515 - accuracy: 0.681 - ETA: 5s - loss: 10.3975 - accuracy: 0.674 - ETA: 5s - loss: 10.0369 - accuracy: 0.670 - ETA: 5s - loss: 9.5696 - accuracy: 0.673 - ETA: 4s - loss: 9.2270 - accuracy: 0.66 - ETA: 4s - loss: 8.9753 - accuracy: 0.67 - ETA: 4s - loss: 8.5944 - accuracy: 0.67 - ETA: 3s - loss: 8.2456 - accuracy: 0.67 - ETA: 3s - loss: 7.9210 - accuracy: 0.67 - ETA: 3s - loss: 7.6827 - accuracy: 0.68 - ETA: 3s - loss: 7.4010 - accuracy: 0.68 - ETA: 2s - loss: 7.1416 - accuracy: 0.69 - ETA: 2s - loss: 6.9478 - accuracy: 0.69 - ETA: 2s - loss: 6.7712 - accuracy: 0.69 - ETA: 2s - loss: 6.5614 - accuracy: 0.69 - ETA: 2s - loss: 6.3644 - accuracy: 0.69 - ETA: 1s - loss: 6.2140 - accuracy: 0.69 - ETA: 1s - loss: 6.0331 - accuracy: 0.70 - ETA: 1s - loss: 5.8987 - accuracy: 0.70 - ETA: 1s - loss: 5.7687 - accuracy: 0.71 - ETA: 1s - loss: 5.6488 - accuracy: 0.71 - ETA: 1s - loss: 5.5350 - accuracy: 0.71 - ETA: 1s - loss: 5.3969 - accuracy: 0.71 - ETA: 0s - loss: 5.2641 - accuracy: 0.71 - ETA: 0s - loss: 5.1642 - accuracy: 0.71 - ETA: 0s - loss: 5.0489 - accuracy: 0.72 - ETA: 0s - loss: 5.0043 - accuracy: 0.72 - ETA: 0s - loss: 4.9596 - accuracy: 0.72 - ETA: 0s - loss: 4.8942 - accuracy: 0.72 - ETA: 0s - loss: 4.8514 - accuracy: 0.72 - ETA: 0s - loss: 4.7880 - accuracy: 0.72 - ETA: 0s - loss: 4.7056 - accuracy: 0.72 - ETA: 0s - loss: 4.6091 - accuracy: 0.72 - 7s 973us/sample - loss: 4.5412 - accuracy: 0.7266 - val_loss: 0.5520 - val_accuracy: 0.7937\n",
      "Epoch 2/5\n",
      "7000/7000 [==============================] - ETA: 3s - loss: 0.5680 - accuracy: 0.81 - ETA: 4s - loss: 0.5389 - accuracy: 0.81 - ETA: 4s - loss: 0.5152 - accuracy: 0.81 - ETA: 4s - loss: 0.5688 - accuracy: 0.79 - ETA: 4s - loss: 0.5441 - accuracy: 0.81 - ETA: 3s - loss: 0.5384 - accuracy: 0.80 - ETA: 3s - loss: 0.5457 - accuracy: 0.80 - ETA: 3s - loss: 0.5677 - accuracy: 0.79 - ETA: 3s - loss: 0.5732 - accuracy: 0.79 - ETA: 3s - loss: 0.5772 - accuracy: 0.79 - ETA: 3s - loss: 0.5811 - accuracy: 0.78 - ETA: 3s - loss: 0.5807 - accuracy: 0.78 - ETA: 3s - loss: 0.5897 - accuracy: 0.77 - ETA: 3s - loss: 0.5820 - accuracy: 0.78 - ETA: 3s - loss: 0.5789 - accuracy: 0.78 - ETA: 3s - loss: 0.5725 - accuracy: 0.78 - ETA: 3s - loss: 0.5776 - accuracy: 0.78 - ETA: 3s - loss: 0.5728 - accuracy: 0.78 - ETA: 3s - loss: 0.5723 - accuracy: 0.78 - ETA: 3s - loss: 0.5726 - accuracy: 0.78 - ETA: 2s - loss: 0.5682 - accuracy: 0.78 - ETA: 2s - loss: 0.5664 - accuracy: 0.78 - ETA: 3s - loss: 0.5667 - accuracy: 0.78 - ETA: 3s - loss: 0.5602 - accuracy: 0.78 - ETA: 2s - loss: 0.5558 - accuracy: 0.79 - ETA: 2s - loss: 0.5553 - accuracy: 0.79 - ETA: 2s - loss: 0.5465 - accuracy: 0.79 - ETA: 2s - loss: 0.5499 - accuracy: 0.79 - ETA: 2s - loss: 0.5490 - accuracy: 0.79 - ETA: 2s - loss: 0.5474 - accuracy: 0.79 - ETA: 2s - loss: 0.5466 - accuracy: 0.79 - ETA: 2s - loss: 0.5480 - accuracy: 0.79 - ETA: 2s - loss: 0.5477 - accuracy: 0.79 - ETA: 2s - loss: 0.5474 - accuracy: 0.79 - ETA: 1s - loss: 0.5477 - accuracy: 0.79 - ETA: 1s - loss: 0.5499 - accuracy: 0.79 - ETA: 1s - loss: 0.5486 - accuracy: 0.79 - ETA: 1s - loss: 0.5457 - accuracy: 0.79 - ETA: 1s - loss: 0.5470 - accuracy: 0.79 - ETA: 1s - loss: 0.5458 - accuracy: 0.79 - ETA: 1s - loss: 0.5457 - accuracy: 0.79 - ETA: 1s - loss: 0.5445 - accuracy: 0.79 - ETA: 1s - loss: 0.5437 - accuracy: 0.79 - ETA: 1s - loss: 0.5441 - accuracy: 0.79 - ETA: 1s - loss: 0.5453 - accuracy: 0.79 - ETA: 1s - loss: 0.5455 - accuracy: 0.79 - ETA: 1s - loss: 0.5466 - accuracy: 0.79 - ETA: 1s - loss: 0.5463 - accuracy: 0.79 - ETA: 0s - loss: 0.5433 - accuracy: 0.79 - ETA: 0s - loss: 0.5431 - accuracy: 0.79 - ETA: 0s - loss: 0.5435 - accuracy: 0.79 - ETA: 0s - loss: 0.5425 - accuracy: 0.79 - ETA: 0s - loss: 0.5409 - accuracy: 0.79 - ETA: 0s - loss: 0.5392 - accuracy: 0.79 - ETA: 0s - loss: 0.5410 - accuracy: 0.79 - ETA: 0s - loss: 0.5397 - accuracy: 0.79 - ETA: 0s - loss: 0.5396 - accuracy: 0.79 - ETA: 0s - loss: 0.5400 - accuracy: 0.79 - ETA: 0s - loss: 0.5397 - accuracy: 0.79 - ETA: 0s - loss: 0.5390 - accuracy: 0.79 - ETA: 0s - loss: 0.5391 - accuracy: 0.79 - ETA: 0s - loss: 0.5396 - accuracy: 0.79 - ETA: 0s - loss: 0.5399 - accuracy: 0.79 - ETA: 0s - loss: 0.5389 - accuracy: 0.79 - ETA: 0s - loss: 0.5390 - accuracy: 0.79 - ETA: 0s - loss: 0.5384 - accuracy: 0.79 - 4s 611us/sample - loss: 0.5389 - accuracy: 0.7974 - val_loss: 0.5291 - val_accuracy: 0.7937\n",
      "Epoch 3/5\n",
      "7000/7000 [==============================] - ETA: 4s - loss: 0.3653 - accuracy: 0.96 - ETA: 5s - loss: 0.4498 - accuracy: 0.86 - ETA: 5s - loss: 0.4869 - accuracy: 0.82 - ETA: 5s - loss: 0.4770 - accuracy: 0.83 - ETA: 5s - loss: 0.5199 - accuracy: 0.79 - ETA: 5s - loss: 0.5093 - accuracy: 0.80 - ETA: 5s - loss: 0.5055 - accuracy: 0.81 - ETA: 5s - loss: 0.5068 - accuracy: 0.80 - ETA: 4s - loss: 0.5154 - accuracy: 0.79 - ETA: 4s - loss: 0.5082 - accuracy: 0.80 - ETA: 4s - loss: 0.5083 - accuracy: 0.80 - ETA: 4s - loss: 0.5013 - accuracy: 0.80 - ETA: 4s - loss: 0.4952 - accuracy: 0.81 - ETA: 4s - loss: 0.5061 - accuracy: 0.80 - ETA: 4s - loss: 0.5180 - accuracy: 0.80 - ETA: 4s - loss: 0.5164 - accuracy: 0.80 - ETA: 3s - loss: 0.5122 - accuracy: 0.80 - ETA: 3s - loss: 0.5140 - accuracy: 0.80 - ETA: 3s - loss: 0.5144 - accuracy: 0.80 - ETA: 3s - loss: 0.5132 - accuracy: 0.80 - ETA: 3s - loss: 0.5112 - accuracy: 0.80 - ETA: 3s - loss: 0.5166 - accuracy: 0.80 - ETA: 3s - loss: 0.5163 - accuracy: 0.80 - ETA: 3s - loss: 0.5169 - accuracy: 0.80 - ETA: 3s - loss: 0.5125 - accuracy: 0.80 - ETA: 3s - loss: 0.5156 - accuracy: 0.80 - ETA: 2s - loss: 0.5196 - accuracy: 0.79 - ETA: 2s - loss: 0.5235 - accuracy: 0.79 - ETA: 2s - loss: 0.5215 - accuracy: 0.79 - ETA: 2s - loss: 0.5200 - accuracy: 0.79 - ETA: 2s - loss: 0.5217 - accuracy: 0.79 - ETA: 2s - loss: 0.5235 - accuracy: 0.79 - ETA: 2s - loss: 0.5239 - accuracy: 0.79 - ETA: 2s - loss: 0.5216 - accuracy: 0.79 - ETA: 2s - loss: 0.5207 - accuracy: 0.79 - ETA: 2s - loss: 0.5186 - accuracy: 0.79 - ETA: 2s - loss: 0.5199 - accuracy: 0.79 - ETA: 2s - loss: 0.5168 - accuracy: 0.80 - ETA: 1s - loss: 0.5174 - accuracy: 0.79 - ETA: 1s - loss: 0.5158 - accuracy: 0.80 - ETA: 1s - loss: 0.5176 - accuracy: 0.79 - ETA: 1s - loss: 0.5162 - accuracy: 0.79 - ETA: 1s - loss: 0.5163 - accuracy: 0.79 - ETA: 1s - loss: 0.5162 - accuracy: 0.79 - ETA: 1s - loss: 0.5161 - accuracy: 0.79 - ETA: 1s - loss: 0.5145 - accuracy: 0.79 - ETA: 1s - loss: 0.5150 - accuracy: 0.79 - ETA: 1s - loss: 0.5147 - accuracy: 0.79 - ETA: 1s - loss: 0.5148 - accuracy: 0.79 - ETA: 1s - loss: 0.5143 - accuracy: 0.79 - ETA: 1s - loss: 0.5145 - accuracy: 0.79 - ETA: 1s - loss: 0.5142 - accuracy: 0.79 - ETA: 1s - loss: 0.5132 - accuracy: 0.79 - ETA: 1s - loss: 0.5131 - accuracy: 0.79 - ETA: 1s - loss: 0.5148 - accuracy: 0.79 - ETA: 1s - loss: 0.5147 - accuracy: 0.79 - ETA: 1s - loss: 0.5144 - accuracy: 0.79 - ETA: 1s - loss: 0.5153 - accuracy: 0.79 - ETA: 0s - loss: 0.5150 - accuracy: 0.79 - ETA: 0s - loss: 0.5133 - accuracy: 0.79 - ETA: 0s - loss: 0.5122 - accuracy: 0.79 - ETA: 0s - loss: 0.5116 - accuracy: 0.79 - ETA: 0s - loss: 0.5107 - accuracy: 0.80 - ETA: 0s - loss: 0.5099 - accuracy: 0.80 - ETA: 0s - loss: 0.5089 - accuracy: 0.80 - ETA: 0s - loss: 0.5122 - accuracy: 0.79 - ETA: 0s - loss: 0.5126 - accuracy: 0.79 - ETA: 0s - loss: 0.5129 - accuracy: 0.79 - ETA: 0s - loss: 0.5142 - accuracy: 0.79 - ETA: 0s - loss: 0.5156 - accuracy: 0.79 - ETA: 0s - loss: 0.5161 - accuracy: 0.79 - ETA: 0s - loss: 0.5167 - accuracy: 0.79 - ETA: 0s - loss: 0.5167 - accuracy: 0.79 - ETA: 0s - loss: 0.5159 - accuracy: 0.79 - ETA: 0s - loss: 0.5154 - accuracy: 0.79 - ETA: 0s - loss: 0.5148 - accuracy: 0.79 - ETA: 0s - loss: 0.5140 - accuracy: 0.79 - ETA: 0s - loss: 0.5136 - accuracy: 0.79 - ETA: 0s - loss: 0.5130 - accuracy: 0.79 - 5s 746us/sample - loss: 0.5130 - accuracy: 0.7974 - val_loss: 0.5101 - val_accuracy: 0.7937\n",
      "Epoch 4/5\n",
      "7000/7000 [==============================] - ETA: 4s - loss: 0.5640 - accuracy: 0.75 - ETA: 3s - loss: 0.5096 - accuracy: 0.79 - ETA: 3s - loss: 0.4849 - accuracy: 0.81 - ETA: 3s - loss: 0.5031 - accuracy: 0.79 - ETA: 3s - loss: 0.4890 - accuracy: 0.80 - ETA: 3s - loss: 0.5038 - accuracy: 0.79 - ETA: 3s - loss: 0.5080 - accuracy: 0.79 - ETA: 3s - loss: 0.5021 - accuracy: 0.79 - ETA: 3s - loss: 0.5167 - accuracy: 0.78 - ETA: 3s - loss: 0.5143 - accuracy: 0.79 - ETA: 3s - loss: 0.5181 - accuracy: 0.78 - ETA: 3s - loss: 0.5126 - accuracy: 0.79 - ETA: 3s - loss: 0.5083 - accuracy: 0.79 - ETA: 3s - loss: 0.5074 - accuracy: 0.79 - ETA: 2s - loss: 0.5053 - accuracy: 0.79 - ETA: 2s - loss: 0.5073 - accuracy: 0.79 - ETA: 2s - loss: 0.5060 - accuracy: 0.79 - ETA: 2s - loss: 0.5045 - accuracy: 0.79 - ETA: 2s - loss: 0.5049 - accuracy: 0.79 - ETA: 2s - loss: 0.5020 - accuracy: 0.79 - ETA: 2s - loss: 0.5014 - accuracy: 0.79 - ETA: 2s - loss: 0.5029 - accuracy: 0.79 - ETA: 2s - loss: 0.5000 - accuracy: 0.80 - ETA: 2s - loss: 0.5030 - accuracy: 0.79 - ETA: 2s - loss: 0.5042 - accuracy: 0.79 - ETA: 2s - loss: 0.5072 - accuracy: 0.79 - ETA: 2s - loss: 0.5054 - accuracy: 0.79 - ETA: 2s - loss: 0.5076 - accuracy: 0.79 - ETA: 2s - loss: 0.5096 - accuracy: 0.79 - ETA: 2s - loss: 0.5080 - accuracy: 0.79 - ETA: 2s - loss: 0.5071 - accuracy: 0.79 - ETA: 2s - loss: 0.5056 - accuracy: 0.79 - ETA: 2s - loss: 0.5069 - accuracy: 0.79 - ETA: 2s - loss: 0.5037 - accuracy: 0.79 - ETA: 2s - loss: 0.5046 - accuracy: 0.79 - ETA: 2s - loss: 0.5057 - accuracy: 0.79 - ETA: 2s - loss: 0.5063 - accuracy: 0.79 - ETA: 2s - loss: 0.5042 - accuracy: 0.79 - ETA: 2s - loss: 0.5016 - accuracy: 0.79 - ETA: 2s - loss: 0.5016 - accuracy: 0.79 - ETA: 2s - loss: 0.5020 - accuracy: 0.79 - ETA: 2s - loss: 0.5049 - accuracy: 0.79 - ETA: 2s - loss: 0.5058 - accuracy: 0.79 - ETA: 2s - loss: 0.5036 - accuracy: 0.79 - ETA: 1s - loss: 0.5014 - accuracy: 0.79 - ETA: 1s - loss: 0.5022 - accuracy: 0.79 - ETA: 1s - loss: 0.5026 - accuracy: 0.79 - ETA: 1s - loss: 0.5050 - accuracy: 0.79 - ETA: 1s - loss: 0.5034 - accuracy: 0.79 - ETA: 1s - loss: 0.5026 - accuracy: 0.79 - ETA: 1s - loss: 0.5033 - accuracy: 0.79 - ETA: 1s - loss: 0.5049 - accuracy: 0.79 - ETA: 1s - loss: 0.5066 - accuracy: 0.79 - ETA: 1s - loss: 0.5066 - accuracy: 0.79 - ETA: 1s - loss: 0.5067 - accuracy: 0.79 - ETA: 1s - loss: 0.5069 - accuracy: 0.79 - ETA: 1s - loss: 0.5058 - accuracy: 0.79 - ETA: 0s - loss: 0.5049 - accuracy: 0.79 - ETA: 0s - loss: 0.5049 - accuracy: 0.79 - ETA: 0s - loss: 0.5042 - accuracy: 0.79 - ETA: 0s - loss: 0.5016 - accuracy: 0.79 - ETA: 0s - loss: 0.5013 - accuracy: 0.79 - ETA: 0s - loss: 0.5025 - accuracy: 0.79 - ETA: 0s - loss: 0.5015 - accuracy: 0.79 - ETA: 0s - loss: 0.5017 - accuracy: 0.79 - ETA: 0s - loss: 0.5013 - accuracy: 0.79 - ETA: 0s - loss: 0.5014 - accuracy: 0.79 - ETA: 0s - loss: 0.5042 - accuracy: 0.79 - ETA: 0s - loss: 0.5043 - accuracy: 0.79 - ETA: 0s - loss: 0.5053 - accuracy: 0.79 - 4s 620us/sample - loss: 0.5044 - accuracy: 0.7974 - val_loss: 0.5090 - val_accuracy: 0.7937\n",
      "Epoch 5/5\n",
      "7000/7000 [==============================] - ETA: 3s - loss: 0.5679 - accuracy: 0.75 - ETA: 2s - loss: 0.5604 - accuracy: 0.75 - ETA: 2s - loss: 0.5403 - accuracy: 0.76 - ETA: 2s - loss: 0.5200 - accuracy: 0.78 - ETA: 2s - loss: 0.5315 - accuracy: 0.77 - ETA: 2s - loss: 0.5285 - accuracy: 0.77 - ETA: 2s - loss: 0.5281 - accuracy: 0.77 - ETA: 2s - loss: 0.5242 - accuracy: 0.78 - ETA: 2s - loss: 0.5199 - accuracy: 0.78 - ETA: 2s - loss: 0.5181 - accuracy: 0.78 - ETA: 2s - loss: 0.5224 - accuracy: 0.78 - ETA: 2s - loss: 0.5226 - accuracy: 0.78 - ETA: 2s - loss: 0.5184 - accuracy: 0.78 - ETA: 2s - loss: 0.5189 - accuracy: 0.78 - ETA: 2s - loss: 0.5200 - accuracy: 0.78 - ETA: 2s - loss: 0.5224 - accuracy: 0.78 - ETA: 2s - loss: 0.5198 - accuracy: 0.78 - ETA: 2s - loss: 0.5207 - accuracy: 0.78 - ETA: 2s - loss: 0.5188 - accuracy: 0.78 - ETA: 2s - loss: 0.5166 - accuracy: 0.78 - ETA: 2s - loss: 0.5136 - accuracy: 0.78 - ETA: 2s - loss: 0.5125 - accuracy: 0.79 - ETA: 2s - loss: 0.5186 - accuracy: 0.78 - ETA: 2s - loss: 0.5148 - accuracy: 0.78 - ETA: 2s - loss: 0.5156 - accuracy: 0.78 - ETA: 2s - loss: 0.5169 - accuracy: 0.78 - ETA: 2s - loss: 0.5154 - accuracy: 0.78 - ETA: 2s - loss: 0.5121 - accuracy: 0.79 - ETA: 2s - loss: 0.5088 - accuracy: 0.79 - ETA: 1s - loss: 0.5079 - accuracy: 0.79 - ETA: 1s - loss: 0.5076 - accuracy: 0.79 - ETA: 1s - loss: 0.5061 - accuracy: 0.79 - ETA: 1s - loss: 0.5063 - accuracy: 0.79 - ETA: 1s - loss: 0.5100 - accuracy: 0.79 - ETA: 1s - loss: 0.5096 - accuracy: 0.79 - ETA: 1s - loss: 0.5090 - accuracy: 0.79 - ETA: 1s - loss: 0.5083 - accuracy: 0.79 - ETA: 1s - loss: 0.5081 - accuracy: 0.79 - ETA: 1s - loss: 0.5079 - accuracy: 0.79 - ETA: 1s - loss: 0.5059 - accuracy: 0.79 - ETA: 1s - loss: 0.5040 - accuracy: 0.79 - ETA: 1s - loss: 0.5065 - accuracy: 0.79 - ETA: 1s - loss: 0.5058 - accuracy: 0.79 - ETA: 1s - loss: 0.5066 - accuracy: 0.79 - ETA: 1s - loss: 0.5063 - accuracy: 0.79 - ETA: 1s - loss: 0.5061 - accuracy: 0.79 - ETA: 1s - loss: 0.5078 - accuracy: 0.79 - ETA: 1s - loss: 0.5076 - accuracy: 0.79 - ETA: 1s - loss: 0.5076 - accuracy: 0.79 - ETA: 1s - loss: 0.5065 - accuracy: 0.79 - ETA: 1s - loss: 0.5061 - accuracy: 0.79 - ETA: 0s - loss: 0.5072 - accuracy: 0.79 - ETA: 0s - loss: 0.5073 - accuracy: 0.79 - ETA: 0s - loss: 0.5070 - accuracy: 0.79 - ETA: 0s - loss: 0.5076 - accuracy: 0.79 - ETA: 0s - loss: 0.5074 - accuracy: 0.79 - ETA: 0s - loss: 0.5070 - accuracy: 0.79 - ETA: 0s - loss: 0.5073 - accuracy: 0.79 - ETA: 0s - loss: 0.5082 - accuracy: 0.79 - ETA: 0s - loss: 0.5071 - accuracy: 0.79 - ETA: 0s - loss: 0.5069 - accuracy: 0.79 - ETA: 0s - loss: 0.5057 - accuracy: 0.79 - ETA: 0s - loss: 0.5080 - accuracy: 0.79 - ETA: 0s - loss: 0.5067 - accuracy: 0.79 - ETA: 0s - loss: 0.5069 - accuracy: 0.79 - ETA: 0s - loss: 0.5072 - accuracy: 0.79 - ETA: 0s - loss: 0.5063 - accuracy: 0.79 - ETA: 0s - loss: 0.5058 - accuracy: 0.79 - ETA: 0s - loss: 0.5053 - accuracy: 0.79 - ETA: 0s - loss: 0.5041 - accuracy: 0.79 - ETA: 0s - loss: 0.5043 - accuracy: 0.79 - ETA: 0s - loss: 0.5039 - accuracy: 0.79 - 5s 657us/sample - loss: 0.5040 - accuracy: 0.7974 - val_loss: 0.5095 - val_accuracy: 0.7937\n"
     ]
    },
    {
     "data": {
      "text/html": [
       "<span style=\"color:#4527A0\"><h1 style=\"font-size:18px\">Trial complete</h1></span>"
      ],
      "text/plain": [
       "<IPython.core.display.HTML object>"
      ]
     },
     "metadata": {},
     "output_type": "display_data"
    },
    {
     "data": {
      "text/html": [
       "<span style=\"color:#4527A0\"><h1 style=\"font-size:18px\">Trial summary</h1></span>"
      ],
      "text/plain": [
       "<IPython.core.display.HTML object>"
      ]
     },
     "metadata": {},
     "output_type": "display_data"
    },
    {
     "data": {
      "text/html": [
       "<span style=\"color:cyan\"> |-Trial ID: dccedf96579a3bfaa6c44000becefc20</span>"
      ],
      "text/plain": [
       "<IPython.core.display.HTML object>"
      ]
     },
     "metadata": {},
     "output_type": "display_data"
    },
    {
     "data": {
      "text/html": [
       "<span style=\"color:cyan\"> |-Score: 0.793666660785675</span>"
      ],
      "text/plain": [
       "<IPython.core.display.HTML object>"
      ]
     },
     "metadata": {},
     "output_type": "display_data"
    },
    {
     "data": {
      "text/html": [
       "<span style=\"color:cyan\"> |-Best step: 0</span>"
      ],
      "text/plain": [
       "<IPython.core.display.HTML object>"
      ]
     },
     "metadata": {},
     "output_type": "display_data"
    },
    {
     "data": {
      "text/html": [
       "<span style=\"color:#7E57C2\"><h2 style=\"font-size:16px\">Hyperparameters:</h2></span>"
      ],
      "text/plain": [
       "<IPython.core.display.HTML object>"
      ]
     },
     "metadata": {},
     "output_type": "display_data"
    },
    {
     "data": {
      "text/html": [
       "<span style=\"color:cyan\"> |-learning_rate: 0.001</span>"
      ],
      "text/plain": [
       "<IPython.core.display.HTML object>"
      ]
     },
     "metadata": {},
     "output_type": "display_data"
    },
    {
     "data": {
      "text/html": [
       "<span style=\"color:blue\"> |-num_layers: 10</span>"
      ],
      "text/plain": [
       "<IPython.core.display.HTML object>"
      ]
     },
     "metadata": {},
     "output_type": "display_data"
    },
    {
     "data": {
      "text/html": [
       "<span style=\"color:cyan\"> |-units_0: 256</span>"
      ],
      "text/plain": [
       "<IPython.core.display.HTML object>"
      ]
     },
     "metadata": {},
     "output_type": "display_data"
    },
    {
     "data": {
      "text/html": [
       "<span style=\"color:blue\"> |-units_1: 384</span>"
      ],
      "text/plain": [
       "<IPython.core.display.HTML object>"
      ]
     },
     "metadata": {},
     "output_type": "display_data"
    },
    {
     "data": {
      "text/html": [
       "<span style=\"color:cyan\"> |-units_2: 32</span>"
      ],
      "text/plain": [
       "<IPython.core.display.HTML object>"
      ]
     },
     "metadata": {},
     "output_type": "display_data"
    },
    {
     "data": {
      "text/html": [
       "<span style=\"color:blue\"> |-units_3: 32</span>"
      ],
      "text/plain": [
       "<IPython.core.display.HTML object>"
      ]
     },
     "metadata": {},
     "output_type": "display_data"
    },
    {
     "data": {
      "text/html": [
       "<span style=\"color:cyan\"> |-units_4: 32</span>"
      ],
      "text/plain": [
       "<IPython.core.display.HTML object>"
      ]
     },
     "metadata": {},
     "output_type": "display_data"
    },
    {
     "data": {
      "text/html": [
       "<span style=\"color:blue\"> |-units_5: 32</span>"
      ],
      "text/plain": [
       "<IPython.core.display.HTML object>"
      ]
     },
     "metadata": {},
     "output_type": "display_data"
    },
    {
     "data": {
      "text/html": [
       "<span style=\"color:cyan\"> |-units_6: 32</span>"
      ],
      "text/plain": [
       "<IPython.core.display.HTML object>"
      ]
     },
     "metadata": {},
     "output_type": "display_data"
    },
    {
     "data": {
      "text/html": [
       "<span style=\"color:blue\"> |-units_7: 32</span>"
      ],
      "text/plain": [
       "<IPython.core.display.HTML object>"
      ]
     },
     "metadata": {},
     "output_type": "display_data"
    },
    {
     "data": {
      "text/html": [
       "<span style=\"color:cyan\"> |-units_8: 32</span>"
      ],
      "text/plain": [
       "<IPython.core.display.HTML object>"
      ]
     },
     "metadata": {},
     "output_type": "display_data"
    },
    {
     "data": {
      "text/html": [
       "<span style=\"color:blue\"> |-units_9: 32</span>"
      ],
      "text/plain": [
       "<IPython.core.display.HTML object>"
      ]
     },
     "metadata": {},
     "output_type": "display_data"
    },
    {
     "name": "stdout",
     "output_type": "stream",
     "text": [
      "Train on 7000 samples, validate on 3000 samples\n",
      "Epoch 1/5\n",
      "7000/7000 [==============================] - ETA: 11:25 - loss: 9.5832 - accuracy: 0.281 - ETA: 3:51 - loss: 4.1545 - accuracy: 0.385 - ETA: 2:55 - loss: 3.2705 - accuracy: 0.47 - ETA: 2:23 - loss: 2.7957 - accuracy: 0.50 - ETA: 1:43 - loss: 2.1584 - accuracy: 0.56 - ETA: 1:21 - loss: 1.8440 - accuracy: 0.56 - ETA: 1:07 - loss: 1.6338 - accuracy: 0.58 - ETA: 1:02 - loss: 1.5382 - accuracy: 0.59 - ETA: 54s - loss: 1.4030 - accuracy: 0.6228 - ETA: 47s - loss: 1.2939 - accuracy: 0.642 - ETA: 42s - loss: 1.2136 - accuracy: 0.651 - ETA: 38s - loss: 1.1502 - accuracy: 0.665 - ETA: 35s - loss: 1.1150 - accuracy: 0.666 - ETA: 32s - loss: 1.0568 - accuracy: 0.681 - ETA: 30s - loss: 1.0147 - accuracy: 0.689 - ETA: 30s - loss: 0.9980 - accuracy: 0.692 - ETA: 28s - loss: 0.9695 - accuracy: 0.697 - ETA: 27s - loss: 0.9545 - accuracy: 0.702 - ETA: 26s - loss: 0.9436 - accuracy: 0.705 - ETA: 26s - loss: 0.9287 - accuracy: 0.709 - ETA: 25s - loss: 0.9209 - accuracy: 0.707 - ETA: 24s - loss: 0.9071 - accuracy: 0.708 - ETA: 23s - loss: 0.8883 - accuracy: 0.710 - ETA: 22s - loss: 0.8790 - accuracy: 0.711 - ETA: 21s - loss: 0.8613 - accuracy: 0.717 - ETA: 20s - loss: 0.8559 - accuracy: 0.717 - ETA: 19s - loss: 0.8420 - accuracy: 0.718 - ETA: 19s - loss: 0.8362 - accuracy: 0.720 - ETA: 19s - loss: 0.8301 - accuracy: 0.722 - ETA: 18s - loss: 0.8156 - accuracy: 0.727 - ETA: 17s - loss: 0.8023 - accuracy: 0.732 - ETA: 17s - loss: 0.7927 - accuracy: 0.736 - ETA: 16s - loss: 0.7848 - accuracy: 0.737 - ETA: 15s - loss: 0.7810 - accuracy: 0.736 - ETA: 15s - loss: 0.7727 - accuracy: 0.737 - ETA: 14s - loss: 0.7659 - accuracy: 0.737 - ETA: 14s - loss: 0.7621 - accuracy: 0.737 - ETA: 13s - loss: 0.7540 - accuracy: 0.739 - ETA: 13s - loss: 0.7497 - accuracy: 0.740 - ETA: 13s - loss: 0.7468 - accuracy: 0.741 - ETA: 12s - loss: 0.7398 - accuracy: 0.744 - ETA: 12s - loss: 0.7343 - accuracy: 0.746 - ETA: 11s - loss: 0.7289 - accuracy: 0.748 - ETA: 11s - loss: 0.7208 - accuracy: 0.751 - ETA: 11s - loss: 0.7156 - accuracy: 0.752 - ETA: 11s - loss: 0.7158 - accuracy: 0.752 - ETA: 11s - loss: 0.7159 - accuracy: 0.752 - ETA: 11s - loss: 0.7143 - accuracy: 0.752 - ETA: 11s - loss: 0.7129 - accuracy: 0.752 - ETA: 10s - loss: 0.7110 - accuracy: 0.753 - ETA: 10s - loss: 0.7089 - accuracy: 0.753 - ETA: 10s - loss: 0.7081 - accuracy: 0.752 - ETA: 10s - loss: 0.7041 - accuracy: 0.754 - ETA: 10s - loss: 0.7003 - accuracy: 0.756 - ETA: 10s - loss: 0.7000 - accuracy: 0.756 - ETA: 10s - loss: 0.6984 - accuracy: 0.757 - ETA: 10s - loss: 0.6969 - accuracy: 0.757 - ETA: 9s - loss: 0.6934 - accuracy: 0.758 - ETA: 9s - loss: 0.6932 - accuracy: 0.75 - ETA: 9s - loss: 0.6920 - accuracy: 0.75 - ETA: 9s - loss: 0.6905 - accuracy: 0.75 - ETA: 9s - loss: 0.6920 - accuracy: 0.75 - ETA: 9s - loss: 0.6893 - accuracy: 0.75 - ETA: 9s - loss: 0.6880 - accuracy: 0.75 - ETA: 8s - loss: 0.6868 - accuracy: 0.75 - ETA: 8s - loss: 0.6853 - accuracy: 0.75 - ETA: 8s - loss: 0.6832 - accuracy: 0.75 - ETA: 8s - loss: 0.6785 - accuracy: 0.75 - ETA: 7s - loss: 0.6776 - accuracy: 0.75 - ETA: 7s - loss: 0.6765 - accuracy: 0.75 - ETA: 7s - loss: 0.6739 - accuracy: 0.75 - ETA: 7s - loss: 0.6711 - accuracy: 0.75 - ETA: 7s - loss: 0.6688 - accuracy: 0.75 - ETA: 7s - loss: 0.6672 - accuracy: 0.76 - ETA: 7s - loss: 0.6629 - accuracy: 0.76 - ETA: 7s - loss: 0.6600 - accuracy: 0.76 - ETA: 6s - loss: 0.6579 - accuracy: 0.76 - ETA: 6s - loss: 0.6548 - accuracy: 0.76 - ETA: 6s - loss: 0.6539 - accuracy: 0.76 - ETA: 6s - loss: 0.6537 - accuracy: 0.76 - ETA: 6s - loss: 0.6513 - accuracy: 0.76 - ETA: 5s - loss: 0.6496 - accuracy: 0.76 - ETA: 5s - loss: 0.6466 - accuracy: 0.76 - ETA: 5s - loss: 0.6441 - accuracy: 0.76 - ETA: 5s - loss: 0.6435 - accuracy: 0.76 - ETA: 5s - loss: 0.6409 - accuracy: 0.76 - ETA: 5s - loss: 0.6394 - accuracy: 0.77 - ETA: 5s - loss: 0.6377 - accuracy: 0.77 - ETA: 4s - loss: 0.6380 - accuracy: 0.77 - ETA: 4s - loss: 0.6378 - accuracy: 0.77 - ETA: 4s - loss: 0.6358 - accuracy: 0.77 - ETA: 4s - loss: 0.6345 - accuracy: 0.77 - ETA: 4s - loss: 0.6343 - accuracy: 0.76 - ETA: 4s - loss: 0.6336 - accuracy: 0.77 - ETA: 4s - loss: 0.6323 - accuracy: 0.77 - ETA: 3s - loss: 0.6319 - accuracy: 0.77 - ETA: 3s - loss: 0.6311 - accuracy: 0.77 - ETA: 3s - loss: 0.6295 - accuracy: 0.77 - ETA: 3s - loss: 0.6294 - accuracy: 0.77 - ETA: 3s - loss: 0.6285 - accuracy: 0.77 - ETA: 3s - loss: 0.6275 - accuracy: 0.77 - ETA: 3s - loss: 0.6262 - accuracy: 0.77 - ETA: 2s - loss: 0.6262 - accuracy: 0.77 - ETA: 2s - loss: 0.6235 - accuracy: 0.77 - ETA: 2s - loss: 0.6215 - accuracy: 0.77 - ETA: 2s - loss: 0.6200 - accuracy: 0.77 - ETA: 2s - loss: 0.6187 - accuracy: 0.77 - ETA: 2s - loss: 0.6180 - accuracy: 0.77 - ETA: 2s - loss: 0.6167 - accuracy: 0.77 - ETA: 2s - loss: 0.6156 - accuracy: 0.77 - ETA: 1s - loss: 0.6146 - accuracy: 0.77 - ETA: 1s - loss: 0.6142 - accuracy: 0.77 - ETA: 1s - loss: 0.6124 - accuracy: 0.77 - ETA: 1s - loss: 0.6114 - accuracy: 0.77 - ETA: 1s - loss: 0.6095 - accuracy: 0.77 - ETA: 1s - loss: 0.6079 - accuracy: 0.77 - ETA: 1s - loss: 0.6073 - accuracy: 0.77 - ETA: 1s - loss: 0.6061 - accuracy: 0.77 - ETA: 1s - loss: 0.6045 - accuracy: 0.78 - ETA: 0s - loss: 0.6035 - accuracy: 0.78 - ETA: 0s - loss: 0.6032 - accuracy: 0.78 - ETA: 0s - loss: 0.6016 - accuracy: 0.78 - ETA: 0s - loss: 0.6024 - accuracy: 0.78 - ETA: 0s - loss: 0.6010 - accuracy: 0.78 - ETA: 0s - loss: 0.5994 - accuracy: 0.78 - ETA: 0s - loss: 0.5985 - accuracy: 0.78 - ETA: 0s - loss: 0.5979 - accuracy: 0.78 - ETA: 0s - loss: 0.5971 - accuracy: 0.78 - 13s 2ms/sample - loss: 0.5964 - accuracy: 0.7833 - val_loss: 0.5404 - val_accuracy: 0.7937\n",
      "Epoch 2/5\n",
      "7000/7000 [==============================] - ETA: 10s - loss: 0.3617 - accuracy: 0.875 - ETA: 8s - loss: 0.5730 - accuracy: 0.791 - ETA: 8s - loss: 0.6022 - accuracy: 0.75 - ETA: 9s - loss: 0.6130 - accuracy: 0.73 - ETA: 9s - loss: 0.6236 - accuracy: 0.73 - ETA: 9s - loss: 0.6215 - accuracy: 0.73 - ETA: 9s - loss: 0.6163 - accuracy: 0.73 - ETA: 9s - loss: 0.6202 - accuracy: 0.72 - ETA: 9s - loss: 0.6107 - accuracy: 0.73 - ETA: 9s - loss: 0.6031 - accuracy: 0.75 - ETA: 9s - loss: 0.5975 - accuracy: 0.76 - ETA: 9s - loss: 0.5997 - accuracy: 0.75 - ETA: 9s - loss: 0.5946 - accuracy: 0.76 - ETA: 9s - loss: 0.5872 - accuracy: 0.76 - ETA: 9s - loss: 0.5932 - accuracy: 0.75 - ETA: 8s - loss: 0.5818 - accuracy: 0.76 - ETA: 8s - loss: 0.5777 - accuracy: 0.76 - ETA: 8s - loss: 0.5775 - accuracy: 0.76 - ETA: 9s - loss: 0.5836 - accuracy: 0.76 - ETA: 9s - loss: 0.5901 - accuracy: 0.75 - ETA: 9s - loss: 0.5855 - accuracy: 0.75 - ETA: 9s - loss: 0.5820 - accuracy: 0.76 - ETA: 9s - loss: 0.5780 - accuracy: 0.76 - ETA: 8s - loss: 0.5707 - accuracy: 0.76 - ETA: 8s - loss: 0.5690 - accuracy: 0.77 - ETA: 8s - loss: 0.5675 - accuracy: 0.77 - ETA: 8s - loss: 0.5678 - accuracy: 0.77 - ETA: 8s - loss: 0.5654 - accuracy: 0.77 - ETA: 8s - loss: 0.5633 - accuracy: 0.77 - ETA: 8s - loss: 0.5612 - accuracy: 0.77 - ETA: 8s - loss: 0.5595 - accuracy: 0.77 - ETA: 8s - loss: 0.5574 - accuracy: 0.77 - ETA: 8s - loss: 0.5558 - accuracy: 0.77 - ETA: 8s - loss: 0.5574 - accuracy: 0.77 - ETA: 8s - loss: 0.5571 - accuracy: 0.77 - ETA: 8s - loss: 0.5563 - accuracy: 0.77 - ETA: 8s - loss: 0.5547 - accuracy: 0.77 - ETA: 8s - loss: 0.5508 - accuracy: 0.78 - ETA: 8s - loss: 0.5589 - accuracy: 0.77 - ETA: 8s - loss: 0.5562 - accuracy: 0.78 - ETA: 8s - loss: 0.5538 - accuracy: 0.78 - ETA: 8s - loss: 0.5516 - accuracy: 0.78 - ETA: 8s - loss: 0.5517 - accuracy: 0.78 - ETA: 8s - loss: 0.5502 - accuracy: 0.78 - ETA: 7s - loss: 0.5516 - accuracy: 0.78 - ETA: 7s - loss: 0.5507 - accuracy: 0.78 - ETA: 7s - loss: 0.5517 - accuracy: 0.78 - ETA: 7s - loss: 0.5502 - accuracy: 0.78 - ETA: 7s - loss: 0.5504 - accuracy: 0.78 - ETA: 7s - loss: 0.5484 - accuracy: 0.78 - ETA: 7s - loss: 0.5490 - accuracy: 0.78 - ETA: 7s - loss: 0.5471 - accuracy: 0.78 - ETA: 7s - loss: 0.5514 - accuracy: 0.78 - ETA: 7s - loss: 0.5516 - accuracy: 0.78 - ETA: 7s - loss: 0.5532 - accuracy: 0.78 - ETA: 7s - loss: 0.5512 - accuracy: 0.78 - ETA: 6s - loss: 0.5498 - accuracy: 0.78 - ETA: 6s - loss: 0.5503 - accuracy: 0.78 - ETA: 6s - loss: 0.5494 - accuracy: 0.78 - ETA: 6s - loss: 0.5495 - accuracy: 0.78 - ETA: 6s - loss: 0.5516 - accuracy: 0.78 - ETA: 6s - loss: 0.5523 - accuracy: 0.78 - ETA: 6s - loss: 0.5512 - accuracy: 0.78 - ETA: 6s - loss: 0.5510 - accuracy: 0.78 - ETA: 6s - loss: 0.5520 - accuracy: 0.78 - ETA: 6s - loss: 0.5500 - accuracy: 0.78 - ETA: 6s - loss: 0.5488 - accuracy: 0.78 - ETA: 5s - loss: 0.5503 - accuracy: 0.78 - ETA: 5s - loss: 0.5505 - accuracy: 0.78 - ETA: 5s - loss: 0.5493 - accuracy: 0.78 - ETA: 5s - loss: 0.5483 - accuracy: 0.78 - ETA: 5s - loss: 0.5473 - accuracy: 0.78 - ETA: 5s - loss: 0.5453 - accuracy: 0.78 - ETA: 5s - loss: 0.5446 - accuracy: 0.78 - ETA: 5s - loss: 0.5436 - accuracy: 0.78 - ETA: 5s - loss: 0.5435 - accuracy: 0.78 - ETA: 5s - loss: 0.5398 - accuracy: 0.79 - ETA: 5s - loss: 0.5408 - accuracy: 0.79 - ETA: 5s - loss: 0.5414 - accuracy: 0.79 - ETA: 5s - loss: 0.5417 - accuracy: 0.79 - ETA: 5s - loss: 0.5420 - accuracy: 0.78 - ETA: 5s - loss: 0.5423 - accuracy: 0.78 - ETA: 5s - loss: 0.5418 - accuracy: 0.79 - ETA: 4s - loss: 0.5414 - accuracy: 0.79 - ETA: 4s - loss: 0.5412 - accuracy: 0.79 - ETA: 4s - loss: 0.5424 - accuracy: 0.78 - ETA: 4s - loss: 0.5433 - accuracy: 0.78 - ETA: 4s - loss: 0.5431 - accuracy: 0.78 - ETA: 4s - loss: 0.5435 - accuracy: 0.78 - ETA: 4s - loss: 0.5431 - accuracy: 0.78 - ETA: 4s - loss: 0.5432 - accuracy: 0.78 - ETA: 4s - loss: 0.5436 - accuracy: 0.78 - ETA: 4s - loss: 0.5442 - accuracy: 0.78 - ETA: 4s - loss: 0.5433 - accuracy: 0.78 - ETA: 4s - loss: 0.5437 - accuracy: 0.78 - ETA: 4s - loss: 0.5434 - accuracy: 0.78 - ETA: 4s - loss: 0.5428 - accuracy: 0.78 - ETA: 4s - loss: 0.5430 - accuracy: 0.78 - ETA: 4s - loss: 0.5427 - accuracy: 0.78 - ETA: 4s - loss: 0.5438 - accuracy: 0.78 - ETA: 4s - loss: 0.5432 - accuracy: 0.78 - ETA: 4s - loss: 0.5440 - accuracy: 0.78 - ETA: 4s - loss: 0.5443 - accuracy: 0.78 - ETA: 4s - loss: 0.5443 - accuracy: 0.78 - ETA: 3s - loss: 0.5442 - accuracy: 0.78 - ETA: 3s - loss: 0.5442 - accuracy: 0.78 - ETA: 3s - loss: 0.5440 - accuracy: 0.78 - ETA: 3s - loss: 0.5442 - accuracy: 0.78 - ETA: 3s - loss: 0.5440 - accuracy: 0.78 - ETA: 3s - loss: 0.5439 - accuracy: 0.78 - ETA: 3s - loss: 0.5436 - accuracy: 0.78 - ETA: 3s - loss: 0.5433 - accuracy: 0.79 - ETA: 3s - loss: 0.5432 - accuracy: 0.79 - ETA: 3s - loss: 0.5431 - accuracy: 0.79 - ETA: 3s - loss: 0.5434 - accuracy: 0.78 - ETA: 3s - loss: 0.5442 - accuracy: 0.78 - ETA: 3s - loss: 0.5439 - accuracy: 0.78 - ETA: 3s - loss: 0.5431 - accuracy: 0.78 - ETA: 3s - loss: 0.5430 - accuracy: 0.78 - ETA: 3s - loss: 0.5419 - accuracy: 0.79 - ETA: 3s - loss: 0.5415 - accuracy: 0.79 - ETA: 3s - loss: 0.5401 - accuracy: 0.79 - ETA: 3s - loss: 0.5402 - accuracy: 0.79 - ETA: 3s - loss: 0.5401 - accuracy: 0.79 - ETA: 3s - loss: 0.5392 - accuracy: 0.79 - ETA: 3s - loss: 0.5399 - accuracy: 0.79 - ETA: 3s - loss: 0.5403 - accuracy: 0.79 - ETA: 2s - loss: 0.5411 - accuracy: 0.79 - ETA: 2s - loss: 0.5404 - accuracy: 0.79 - ETA: 2s - loss: 0.5406 - accuracy: 0.79 - ETA: 2s - loss: 0.5399 - accuracy: 0.79 - ETA: 2s - loss: 0.5394 - accuracy: 0.79 - ETA: 2s - loss: 0.5390 - accuracy: 0.79 - ETA: 2s - loss: 0.5380 - accuracy: 0.79 - ETA: 2s - loss: 0.5368 - accuracy: 0.79 - ETA: 2s - loss: 0.5369 - accuracy: 0.79 - ETA: 2s - loss: 0.5376 - accuracy: 0.79 - ETA: 2s - loss: 0.5375 - accuracy: 0.79 - ETA: 2s - loss: 0.5371 - accuracy: 0.79 - ETA: 2s - loss: 0.5376 - accuracy: 0.79 - ETA: 1s - loss: 0.5389 - accuracy: 0.79 - ETA: 1s - loss: 0.5385 - accuracy: 0.79 - ETA: 1s - loss: 0.5385 - accuracy: 0.79 - ETA: 1s - loss: 0.5381 - accuracy: 0.79 - ETA: 1s - loss: 0.5377 - accuracy: 0.79 - ETA: 1s - loss: 0.5375 - accuracy: 0.79 - ETA: 1s - loss: 0.5368 - accuracy: 0.79 - ETA: 1s - loss: 0.5372 - accuracy: 0.79 - ETA: 1s - loss: 0.5375 - accuracy: 0.79 - ETA: 1s - loss: 0.5380 - accuracy: 0.79 - ETA: 1s - loss: 0.5362 - accuracy: 0.79 - ETA: 0s - loss: 0.5409 - accuracy: 0.79 - ETA: 0s - loss: 0.5403 - accuracy: 0.79 - ETA: 0s - loss: 0.5397 - accuracy: 0.79 - ETA: 0s - loss: 0.5398 - accuracy: 0.79 - ETA: 0s - loss: 0.5399 - accuracy: 0.79 - ETA: 0s - loss: 0.5408 - accuracy: 0.79 - ETA: 0s - loss: 0.5405 - accuracy: 0.79 - ETA: 0s - loss: 0.5402 - accuracy: 0.79 - ETA: 0s - loss: 0.5397 - accuracy: 0.79 - ETA: 0s - loss: 0.5407 - accuracy: 0.79 - 12s 2ms/sample - loss: 0.5396 - accuracy: 0.7957 - val_loss: 0.5417 - val_accuracy: 0.7937\n",
      "Epoch 3/5\n",
      "7000/7000 [==============================] - ETA: 10s - loss: 0.6917 - accuracy: 0.687 - ETA: 8s - loss: 0.5402 - accuracy: 0.812 - ETA: 9s - loss: 0.5641 - accuracy: 0.79 - ETA: 9s - loss: 0.5587 - accuracy: 0.80 - ETA: 9s - loss: 0.5628 - accuracy: 0.79 - ETA: 9s - loss: 0.5828 - accuracy: 0.77 - ETA: 8s - loss: 0.5658 - accuracy: 0.78 - ETA: 8s - loss: 0.5623 - accuracy: 0.78 - ETA: 8s - loss: 0.5575 - accuracy: 0.78 - ETA: 8s - loss: 0.5570 - accuracy: 0.78 - ETA: 8s - loss: 0.5600 - accuracy: 0.77 - ETA: 8s - loss: 0.5535 - accuracy: 0.78 - ETA: 8s - loss: 0.5572 - accuracy: 0.77 - ETA: 8s - loss: 0.5500 - accuracy: 0.78 - ETA: 8s - loss: 0.5470 - accuracy: 0.78 - ETA: 8s - loss: 0.5519 - accuracy: 0.77 - ETA: 7s - loss: 0.5477 - accuracy: 0.78 - ETA: 7s - loss: 0.5478 - accuracy: 0.78 - ETA: 7s - loss: 0.5485 - accuracy: 0.78 - ETA: 7s - loss: 0.5453 - accuracy: 0.78 - ETA: 7s - loss: 0.5461 - accuracy: 0.78 - ETA: 7s - loss: 0.5528 - accuracy: 0.78 - ETA: 7s - loss: 0.5564 - accuracy: 0.77 - ETA: 7s - loss: 0.5547 - accuracy: 0.78 - ETA: 7s - loss: 0.5517 - accuracy: 0.78 - ETA: 7s - loss: 0.5515 - accuracy: 0.78 - ETA: 7s - loss: 0.5501 - accuracy: 0.78 - ETA: 7s - loss: 0.5485 - accuracy: 0.78 - ETA: 6s - loss: 0.5472 - accuracy: 0.78 - ETA: 6s - loss: 0.5485 - accuracy: 0.78 - ETA: 7s - loss: 0.5495 - accuracy: 0.78 - ETA: 6s - loss: 0.5483 - accuracy: 0.78 - ETA: 6s - loss: 0.5470 - accuracy: 0.78 - ETA: 6s - loss: 0.5429 - accuracy: 0.78 - ETA: 6s - loss: 0.5400 - accuracy: 0.78 - ETA: 6s - loss: 0.5422 - accuracy: 0.78 - ETA: 6s - loss: 0.5433 - accuracy: 0.78 - ETA: 6s - loss: 0.5418 - accuracy: 0.79 - ETA: 6s - loss: 0.5402 - accuracy: 0.79 - ETA: 6s - loss: 0.5399 - accuracy: 0.79 - ETA: 5s - loss: 0.5402 - accuracy: 0.79 - ETA: 5s - loss: 0.5398 - accuracy: 0.79 - ETA: 5s - loss: 0.5432 - accuracy: 0.78 - ETA: 5s - loss: 0.5430 - accuracy: 0.78 - ETA: 5s - loss: 0.5410 - accuracy: 0.79 - ETA: 5s - loss: 0.5391 - accuracy: 0.79 - ETA: 5s - loss: 0.5383 - accuracy: 0.79 - ETA: 5s - loss: 0.5385 - accuracy: 0.79 - ETA: 5s - loss: 0.5387 - accuracy: 0.79 - ETA: 5s - loss: 0.5416 - accuracy: 0.78 - ETA: 5s - loss: 0.5411 - accuracy: 0.78 - ETA: 4s - loss: 0.5398 - accuracy: 0.79 - ETA: 4s - loss: 0.5388 - accuracy: 0.79 - ETA: 4s - loss: 0.5382 - accuracy: 0.79 - ETA: 4s - loss: 0.5375 - accuracy: 0.79 - ETA: 4s - loss: 0.5358 - accuracy: 0.79 - ETA: 4s - loss: 0.5373 - accuracy: 0.79 - ETA: 4s - loss: 0.5351 - accuracy: 0.79 - ETA: 4s - loss: 0.5331 - accuracy: 0.79 - ETA: 4s - loss: 0.5317 - accuracy: 0.79 - ETA: 4s - loss: 0.5307 - accuracy: 0.79 - ETA: 4s - loss: 0.5302 - accuracy: 0.79 - ETA: 4s - loss: 0.5272 - accuracy: 0.79 - ETA: 3s - loss: 0.5309 - accuracy: 0.79 - ETA: 3s - loss: 0.5330 - accuracy: 0.79 - ETA: 3s - loss: 0.5329 - accuracy: 0.79 - ETA: 3s - loss: 0.5328 - accuracy: 0.79 - ETA: 3s - loss: 0.5350 - accuracy: 0.79 - ETA: 3s - loss: 0.5356 - accuracy: 0.79 - ETA: 3s - loss: 0.5355 - accuracy: 0.79 - ETA: 3s - loss: 0.5354 - accuracy: 0.79 - ETA: 3s - loss: 0.5347 - accuracy: 0.79 - ETA: 3s - loss: 0.5344 - accuracy: 0.79 - ETA: 3s - loss: 0.5339 - accuracy: 0.79 - ETA: 3s - loss: 0.5328 - accuracy: 0.79 - ETA: 3s - loss: 0.5318 - accuracy: 0.79 - ETA: 3s - loss: 0.5316 - accuracy: 0.79 - ETA: 2s - loss: 0.5311 - accuracy: 0.79 - ETA: 2s - loss: 0.5326 - accuracy: 0.79 - ETA: 2s - loss: 0.5314 - accuracy: 0.79 - ETA: 2s - loss: 0.5311 - accuracy: 0.79 - ETA: 2s - loss: 0.5317 - accuracy: 0.79 - ETA: 2s - loss: 0.5315 - accuracy: 0.79 - ETA: 2s - loss: 0.5313 - accuracy: 0.79 - ETA: 2s - loss: 0.5309 - accuracy: 0.79 - ETA: 2s - loss: 0.5310 - accuracy: 0.79 - ETA: 2s - loss: 0.5307 - accuracy: 0.79 - ETA: 2s - loss: 0.5305 - accuracy: 0.79 - ETA: 2s - loss: 0.5301 - accuracy: 0.79 - ETA: 2s - loss: 0.5298 - accuracy: 0.79 - ETA: 2s - loss: 0.5304 - accuracy: 0.79 - ETA: 2s - loss: 0.5306 - accuracy: 0.79 - ETA: 1s - loss: 0.5304 - accuracy: 0.79 - ETA: 1s - loss: 0.5304 - accuracy: 0.79 - ETA: 1s - loss: 0.5302 - accuracy: 0.79 - ETA: 1s - loss: 0.5313 - accuracy: 0.79 - ETA: 1s - loss: 0.5316 - accuracy: 0.79 - ETA: 1s - loss: 0.5315 - accuracy: 0.79 - ETA: 1s - loss: 0.5314 - accuracy: 0.79 - ETA: 1s - loss: 0.5313 - accuracy: 0.79 - ETA: 1s - loss: 0.5310 - accuracy: 0.79 - ETA: 1s - loss: 0.5306 - accuracy: 0.79 - ETA: 1s - loss: 0.5314 - accuracy: 0.79 - ETA: 1s - loss: 0.5308 - accuracy: 0.79 - ETA: 1s - loss: 0.5319 - accuracy: 0.79 - ETA: 1s - loss: 0.5302 - accuracy: 0.79 - ETA: 1s - loss: 0.5294 - accuracy: 0.79 - ETA: 0s - loss: 0.5289 - accuracy: 0.79 - ETA: 0s - loss: 0.5292 - accuracy: 0.79 - ETA: 0s - loss: 0.5298 - accuracy: 0.79 - ETA: 0s - loss: 0.5301 - accuracy: 0.79 - ETA: 0s - loss: 0.5298 - accuracy: 0.79 - ETA: 0s - loss: 0.5306 - accuracy: 0.79 - ETA: 0s - loss: 0.5303 - accuracy: 0.79 - ETA: 0s - loss: 0.5303 - accuracy: 0.79 - ETA: 0s - loss: 0.5298 - accuracy: 0.79 - ETA: 0s - loss: 0.5295 - accuracy: 0.79 - ETA: 0s - loss: 0.5297 - accuracy: 0.79 - ETA: 0s - loss: 0.5298 - accuracy: 0.79 - ETA: 0s - loss: 0.5299 - accuracy: 0.79 - ETA: 0s - loss: 0.5303 - accuracy: 0.79 - ETA: 0s - loss: 0.5304 - accuracy: 0.79 - 9s 1ms/sample - loss: 0.5313 - accuracy: 0.7974 - val_loss: 0.5304 - val_accuracy: 0.7937\n",
      "Epoch 4/5\n",
      "7000/7000 [==============================] - ETA: 13s - loss: 0.4447 - accuracy: 0.875 - ETA: 12s - loss: 0.4697 - accuracy: 0.875 - ETA: 10s - loss: 0.5257 - accuracy: 0.804 - ETA: 9s - loss: 0.5272 - accuracy: 0.812 - ETA: 9s - loss: 0.5085 - accuracy: 0.82 - ETA: 9s - loss: 0.5291 - accuracy: 0.80 - ETA: 8s - loss: 0.5211 - accuracy: 0.80 - ETA: 8s - loss: 0.5168 - accuracy: 0.81 - ETA: 8s - loss: 0.5151 - accuracy: 0.81 - ETA: 8s - loss: 0.5007 - accuracy: 0.82 - ETA: 8s - loss: 0.5081 - accuracy: 0.81 - ETA: 8s - loss: 0.5128 - accuracy: 0.81 - ETA: 8s - loss: 0.5163 - accuracy: 0.80 - ETA: 9s - loss: 0.5112 - accuracy: 0.81 - ETA: 9s - loss: 0.5126 - accuracy: 0.80 - ETA: 9s - loss: 0.5117 - accuracy: 0.80 - ETA: 9s - loss: 0.5102 - accuracy: 0.80 - ETA: 9s - loss: 0.5081 - accuracy: 0.81 - ETA: 9s - loss: 0.5102 - accuracy: 0.80 - ETA: 9s - loss: 0.5130 - accuracy: 0.80 - ETA: 9s - loss: 0.5192 - accuracy: 0.80 - ETA: 9s - loss: 0.5205 - accuracy: 0.80 - ETA: 9s - loss: 0.5241 - accuracy: 0.80 - ETA: 9s - loss: 0.5220 - accuracy: 0.80 - ETA: 10s - loss: 0.5261 - accuracy: 0.797 - ETA: 10s - loss: 0.5228 - accuracy: 0.800 - ETA: 10s - loss: 0.5209 - accuracy: 0.802 - ETA: 10s - loss: 0.5235 - accuracy: 0.800 - ETA: 10s - loss: 0.5246 - accuracy: 0.799 - ETA: 10s - loss: 0.5234 - accuracy: 0.800 - ETA: 10s - loss: 0.5297 - accuracy: 0.796 - ETA: 9s - loss: 0.5277 - accuracy: 0.800 - ETA: 9s - loss: 0.5275 - accuracy: 0.79 - ETA: 9s - loss: 0.5283 - accuracy: 0.79 - ETA: 9s - loss: 0.5265 - accuracy: 0.80 - ETA: 9s - loss: 0.5294 - accuracy: 0.80 - ETA: 9s - loss: 0.5309 - accuracy: 0.79 - ETA: 8s - loss: 0.5277 - accuracy: 0.80 - ETA: 8s - loss: 0.5306 - accuracy: 0.79 - ETA: 8s - loss: 0.5323 - accuracy: 0.79 - ETA: 8s - loss: 0.5337 - accuracy: 0.79 - ETA: 8s - loss: 0.5335 - accuracy: 0.79 - ETA: 8s - loss: 0.5341 - accuracy: 0.79 - ETA: 8s - loss: 0.5318 - accuracy: 0.79 - ETA: 7s - loss: 0.5333 - accuracy: 0.79 - ETA: 7s - loss: 0.5345 - accuracy: 0.79 - ETA: 7s - loss: 0.5326 - accuracy: 0.79 - ETA: 7s - loss: 0.5310 - accuracy: 0.79 - ETA: 7s - loss: 0.5281 - accuracy: 0.79 - ETA: 7s - loss: 0.5299 - accuracy: 0.79 - ETA: 7s - loss: 0.5309 - accuracy: 0.79 - ETA: 7s - loss: 0.5326 - accuracy: 0.79 - ETA: 7s - loss: 0.5327 - accuracy: 0.79 - ETA: 6s - loss: 0.5351 - accuracy: 0.79 - ETA: 6s - loss: 0.5348 - accuracy: 0.79 - ETA: 6s - loss: 0.5332 - accuracy: 0.79 - ETA: 6s - loss: 0.5328 - accuracy: 0.79 - ETA: 6s - loss: 0.5355 - accuracy: 0.79 - ETA: 6s - loss: 0.5343 - accuracy: 0.79 - ETA: 6s - loss: 0.5341 - accuracy: 0.79 - ETA: 6s - loss: 0.5352 - accuracy: 0.79 - ETA: 6s - loss: 0.5365 - accuracy: 0.79 - ETA: 6s - loss: 0.5361 - accuracy: 0.79 - ETA: 6s - loss: 0.5360 - accuracy: 0.79 - ETA: 6s - loss: 0.5341 - accuracy: 0.79 - ETA: 5s - loss: 0.5347 - accuracy: 0.79 - ETA: 5s - loss: 0.5355 - accuracy: 0.79 - ETA: 5s - loss: 0.5354 - accuracy: 0.79 - ETA: 5s - loss: 0.5357 - accuracy: 0.79 - ETA: 5s - loss: 0.5354 - accuracy: 0.79 - ETA: 5s - loss: 0.5363 - accuracy: 0.79 - ETA: 5s - loss: 0.5351 - accuracy: 0.79 - ETA: 5s - loss: 0.5334 - accuracy: 0.79 - ETA: 5s - loss: 0.5335 - accuracy: 0.79 - ETA: 5s - loss: 0.5343 - accuracy: 0.79 - ETA: 5s - loss: 0.5342 - accuracy: 0.79 - ETA: 4s - loss: 0.5343 - accuracy: 0.79 - ETA: 4s - loss: 0.5336 - accuracy: 0.79 - ETA: 4s - loss: 0.5324 - accuracy: 0.79 - ETA: 4s - loss: 0.5326 - accuracy: 0.79 - ETA: 4s - loss: 0.5322 - accuracy: 0.79 - ETA: 4s - loss: 0.5322 - accuracy: 0.79 - ETA: 4s - loss: 0.5302 - accuracy: 0.79 - ETA: 4s - loss: 0.5293 - accuracy: 0.79 - ETA: 4s - loss: 0.5284 - accuracy: 0.79 - ETA: 4s - loss: 0.5276 - accuracy: 0.79 - ETA: 4s - loss: 0.5288 - accuracy: 0.79 - ETA: 3s - loss: 0.5290 - accuracy: 0.79 - ETA: 3s - loss: 0.5277 - accuracy: 0.79 - ETA: 3s - loss: 0.5259 - accuracy: 0.79 - ETA: 3s - loss: 0.5258 - accuracy: 0.79 - ETA: 3s - loss: 0.5281 - accuracy: 0.79 - ETA: 3s - loss: 0.5281 - accuracy: 0.79 - ETA: 3s - loss: 0.5279 - accuracy: 0.79 - ETA: 3s - loss: 0.5289 - accuracy: 0.79 - ETA: 3s - loss: 0.5286 - accuracy: 0.79 - ETA: 3s - loss: 0.5290 - accuracy: 0.79 - ETA: 3s - loss: 0.5289 - accuracy: 0.79 - ETA: 3s - loss: 0.5289 - accuracy: 0.79 - ETA: 3s - loss: 0.5276 - accuracy: 0.79 - ETA: 2s - loss: 0.5269 - accuracy: 0.79 - ETA: 2s - loss: 0.5267 - accuracy: 0.79 - ETA: 2s - loss: 0.5260 - accuracy: 0.79 - ETA: 2s - loss: 0.5259 - accuracy: 0.79 - ETA: 2s - loss: 0.5268 - accuracy: 0.79 - ETA: 2s - loss: 0.5281 - accuracy: 0.79 - ETA: 2s - loss: 0.5288 - accuracy: 0.79 - ETA: 2s - loss: 0.5305 - accuracy: 0.79 - ETA: 2s - loss: 0.5311 - accuracy: 0.79 - ETA: 2s - loss: 0.5310 - accuracy: 0.79 - ETA: 2s - loss: 0.5315 - accuracy: 0.79 - ETA: 2s - loss: 0.5312 - accuracy: 0.79 - ETA: 2s - loss: 0.5307 - accuracy: 0.79 - ETA: 2s - loss: 0.5296 - accuracy: 0.79 - ETA: 1s - loss: 0.5294 - accuracy: 0.79 - ETA: 1s - loss: 0.5286 - accuracy: 0.79 - ETA: 1s - loss: 0.5280 - accuracy: 0.79 - ETA: 1s - loss: 0.5275 - accuracy: 0.79 - ETA: 1s - loss: 0.5275 - accuracy: 0.79 - ETA: 1s - loss: 0.5281 - accuracy: 0.79 - ETA: 1s - loss: 0.5286 - accuracy: 0.79 - ETA: 1s - loss: 0.5284 - accuracy: 0.79 - ETA: 1s - loss: 0.5296 - accuracy: 0.79 - ETA: 1s - loss: 0.5296 - accuracy: 0.79 - ETA: 1s - loss: 0.5299 - accuracy: 0.79 - ETA: 1s - loss: 0.5296 - accuracy: 0.79 - ETA: 0s - loss: 0.5292 - accuracy: 0.79 - ETA: 0s - loss: 0.5299 - accuracy: 0.79 - ETA: 0s - loss: 0.5300 - accuracy: 0.79 - ETA: 0s - loss: 0.5308 - accuracy: 0.79 - ETA: 0s - loss: 0.5316 - accuracy: 0.79 - ETA: 0s - loss: 0.5317 - accuracy: 0.79 - ETA: 0s - loss: 0.5326 - accuracy: 0.79 - ETA: 0s - loss: 0.5331 - accuracy: 0.79 - ETA: 0s - loss: 0.5322 - accuracy: 0.79 - ETA: 0s - loss: 0.5318 - accuracy: 0.79 - ETA: 0s - loss: 0.5318 - accuracy: 0.79 - ETA: 0s - loss: 0.5315 - accuracy: 0.79 - ETA: 0s - loss: 0.5316 - accuracy: 0.79 - ETA: 0s - loss: 0.5320 - accuracy: 0.79 - 11s 2ms/sample - loss: 0.5315 - accuracy: 0.7963 - val_loss: 0.5306 - val_accuracy: 0.7937\n",
      "Epoch 5/5\n",
      "7000/7000 [==============================] - ETA: 13s - loss: 0.6578 - accuracy: 0.750 - ETA: 12s - loss: 0.5406 - accuracy: 0.796 - ETA: 12s - loss: 0.5568 - accuracy: 0.791 - ETA: 10s - loss: 0.5566 - accuracy: 0.775 - ETA: 9s - loss: 0.5460 - accuracy: 0.790 - ETA: 9s - loss: 0.5415 - accuracy: 0.78 - ETA: 9s - loss: 0.5451 - accuracy: 0.78 - ETA: 9s - loss: 0.5403 - accuracy: 0.78 - ETA: 9s - loss: 0.5500 - accuracy: 0.78 - ETA: 9s - loss: 0.5574 - accuracy: 0.77 - ETA: 8s - loss: 0.5621 - accuracy: 0.77 - ETA: 8s - loss: 0.5660 - accuracy: 0.77 - ETA: 9s - loss: 0.5618 - accuracy: 0.77 - ETA: 9s - loss: 0.5615 - accuracy: 0.77 - ETA: 8s - loss: 0.5526 - accuracy: 0.78 - ETA: 8s - loss: 0.5515 - accuracy: 0.78 - ETA: 8s - loss: 0.5440 - accuracy: 0.78 - ETA: 8s - loss: 0.5511 - accuracy: 0.78 - ETA: 8s - loss: 0.5430 - accuracy: 0.78 - ETA: 8s - loss: 0.5402 - accuracy: 0.79 - ETA: 8s - loss: 0.5450 - accuracy: 0.78 - ETA: 8s - loss: 0.5423 - accuracy: 0.78 - ETA: 8s - loss: 0.5440 - accuracy: 0.78 - ETA: 8s - loss: 0.5464 - accuracy: 0.78 - ETA: 8s - loss: 0.5496 - accuracy: 0.78 - ETA: 8s - loss: 0.5481 - accuracy: 0.78 - ETA: 8s - loss: 0.5495 - accuracy: 0.78 - ETA: 8s - loss: 0.5510 - accuracy: 0.78 - ETA: 8s - loss: 0.5501 - accuracy: 0.78 - ETA: 8s - loss: 0.5501 - accuracy: 0.78 - ETA: 8s - loss: 0.5491 - accuracy: 0.78 - ETA: 8s - loss: 0.5478 - accuracy: 0.78 - ETA: 7s - loss: 0.5535 - accuracy: 0.78 - ETA: 7s - loss: 0.5543 - accuracy: 0.78 - ETA: 7s - loss: 0.5508 - accuracy: 0.78 - ETA: 7s - loss: 0.5499 - accuracy: 0.78 - ETA: 7s - loss: 0.5481 - accuracy: 0.78 - ETA: 7s - loss: 0.5499 - accuracy: 0.78 - ETA: 7s - loss: 0.5507 - accuracy: 0.78 - ETA: 7s - loss: 0.5477 - accuracy: 0.78 - ETA: 7s - loss: 0.5472 - accuracy: 0.78 - ETA: 7s - loss: 0.5494 - accuracy: 0.78 - ETA: 7s - loss: 0.5467 - accuracy: 0.78 - ETA: 7s - loss: 0.5418 - accuracy: 0.78 - ETA: 7s - loss: 0.5389 - accuracy: 0.79 - ETA: 7s - loss: 0.5389 - accuracy: 0.79 - ETA: 6s - loss: 0.5404 - accuracy: 0.79 - ETA: 6s - loss: 0.5375 - accuracy: 0.79 - ETA: 6s - loss: 0.5401 - accuracy: 0.79 - ETA: 6s - loss: 0.5396 - accuracy: 0.79 - ETA: 6s - loss: 0.5384 - accuracy: 0.79 - ETA: 6s - loss: 0.5388 - accuracy: 0.79 - ETA: 6s - loss: 0.5389 - accuracy: 0.79 - ETA: 6s - loss: 0.5369 - accuracy: 0.79 - ETA: 6s - loss: 0.5377 - accuracy: 0.79 - ETA: 6s - loss: 0.5353 - accuracy: 0.79 - ETA: 6s - loss: 0.5333 - accuracy: 0.79 - ETA: 6s - loss: 0.5320 - accuracy: 0.79 - ETA: 5s - loss: 0.5312 - accuracy: 0.79 - ETA: 5s - loss: 0.5296 - accuracy: 0.80 - ETA: 5s - loss: 0.5318 - accuracy: 0.79 - ETA: 5s - loss: 0.5328 - accuracy: 0.79 - ETA: 5s - loss: 0.5324 - accuracy: 0.79 - ETA: 5s - loss: 0.5324 - accuracy: 0.79 - ETA: 5s - loss: 0.5322 - accuracy: 0.79 - ETA: 5s - loss: 0.5313 - accuracy: 0.79 - ETA: 5s - loss: 0.5327 - accuracy: 0.79 - ETA: 5s - loss: 0.5314 - accuracy: 0.79 - ETA: 4s - loss: 0.5310 - accuracy: 0.79 - ETA: 4s - loss: 0.5300 - accuracy: 0.79 - ETA: 4s - loss: 0.5308 - accuracy: 0.79 - ETA: 4s - loss: 0.5301 - accuracy: 0.79 - ETA: 4s - loss: 0.5312 - accuracy: 0.79 - ETA: 4s - loss: 0.5322 - accuracy: 0.79 - ETA: 4s - loss: 0.5315 - accuracy: 0.79 - ETA: 4s - loss: 0.5319 - accuracy: 0.79 - ETA: 4s - loss: 0.5315 - accuracy: 0.79 - ETA: 4s - loss: 0.5307 - accuracy: 0.79 - ETA: 4s - loss: 0.5302 - accuracy: 0.79 - ETA: 4s - loss: 0.5299 - accuracy: 0.79 - ETA: 4s - loss: 0.5290 - accuracy: 0.79 - ETA: 3s - loss: 0.5315 - accuracy: 0.79 - ETA: 3s - loss: 0.5324 - accuracy: 0.79 - ETA: 3s - loss: 0.5316 - accuracy: 0.79 - ETA: 3s - loss: 0.5308 - accuracy: 0.79 - ETA: 3s - loss: 0.5322 - accuracy: 0.79 - ETA: 3s - loss: 0.5310 - accuracy: 0.79 - ETA: 3s - loss: 0.5311 - accuracy: 0.79 - ETA: 3s - loss: 0.5327 - accuracy: 0.79 - ETA: 3s - loss: 0.5332 - accuracy: 0.79 - ETA: 3s - loss: 0.5324 - accuracy: 0.79 - ETA: 3s - loss: 0.5324 - accuracy: 0.79 - ETA: 3s - loss: 0.5326 - accuracy: 0.79 - ETA: 3s - loss: 0.5340 - accuracy: 0.79 - ETA: 3s - loss: 0.5338 - accuracy: 0.79 - ETA: 2s - loss: 0.5336 - accuracy: 0.79 - ETA: 2s - loss: 0.5327 - accuracy: 0.79 - ETA: 2s - loss: 0.5307 - accuracy: 0.79 - ETA: 2s - loss: 0.5307 - accuracy: 0.79 - ETA: 2s - loss: 0.5303 - accuracy: 0.79 - ETA: 2s - loss: 0.5300 - accuracy: 0.79 - ETA: 2s - loss: 0.5299 - accuracy: 0.79 - ETA: 2s - loss: 0.5289 - accuracy: 0.79 - ETA: 2s - loss: 0.5296 - accuracy: 0.79 - ETA: 2s - loss: 0.5295 - accuracy: 0.79 - ETA: 2s - loss: 0.5312 - accuracy: 0.79 - ETA: 2s - loss: 0.5301 - accuracy: 0.79 - ETA: 2s - loss: 0.5301 - accuracy: 0.79 - ETA: 2s - loss: 0.5301 - accuracy: 0.79 - ETA: 2s - loss: 0.5297 - accuracy: 0.79 - ETA: 2s - loss: 0.5304 - accuracy: 0.79 - ETA: 1s - loss: 0.5306 - accuracy: 0.79 - ETA: 1s - loss: 0.5305 - accuracy: 0.79 - ETA: 1s - loss: 0.5307 - accuracy: 0.79 - ETA: 1s - loss: 0.5302 - accuracy: 0.79 - ETA: 1s - loss: 0.5298 - accuracy: 0.79 - ETA: 1s - loss: 0.5299 - accuracy: 0.79 - ETA: 1s - loss: 0.5304 - accuracy: 0.79 - ETA: 1s - loss: 0.5301 - accuracy: 0.79 - ETA: 1s - loss: 0.5304 - accuracy: 0.79 - ETA: 1s - loss: 0.5311 - accuracy: 0.79 - ETA: 1s - loss: 0.5309 - accuracy: 0.79 - ETA: 1s - loss: 0.5327 - accuracy: 0.79 - ETA: 1s - loss: 0.5328 - accuracy: 0.79 - ETA: 1s - loss: 0.5329 - accuracy: 0.79 - ETA: 1s - loss: 0.5332 - accuracy: 0.79 - ETA: 1s - loss: 0.5332 - accuracy: 0.79 - ETA: 1s - loss: 0.5336 - accuracy: 0.79 - ETA: 1s - loss: 0.5338 - accuracy: 0.79 - ETA: 1s - loss: 0.5340 - accuracy: 0.79 - ETA: 1s - loss: 0.5338 - accuracy: 0.79 - ETA: 1s - loss: 0.5342 - accuracy: 0.79 - ETA: 1s - loss: 0.5340 - accuracy: 0.79 - ETA: 0s - loss: 0.5335 - accuracy: 0.79 - ETA: 0s - loss: 0.5344 - accuracy: 0.79 - ETA: 0s - loss: 0.5338 - accuracy: 0.79 - ETA: 0s - loss: 0.5343 - accuracy: 0.79 - ETA: 0s - loss: 0.5336 - accuracy: 0.79 - ETA: 0s - loss: 0.5323 - accuracy: 0.79 - ETA: 0s - loss: 0.5324 - accuracy: 0.79 - ETA: 0s - loss: 0.5320 - accuracy: 0.79 - ETA: 0s - loss: 0.5328 - accuracy: 0.79 - ETA: 0s - loss: 0.5324 - accuracy: 0.79 - ETA: 0s - loss: 0.5318 - accuracy: 0.79 - ETA: 0s - loss: 0.5317 - accuracy: 0.79 - ETA: 0s - loss: 0.5312 - accuracy: 0.79 - ETA: 0s - loss: 0.5310 - accuracy: 0.79 - ETA: 0s - loss: 0.5314 - accuracy: 0.79 - 11s 2ms/sample - loss: 0.5308 - accuracy: 0.7974 - val_loss: 0.5388 - val_accuracy: 0.7937\n"
     ]
    },
    {
     "data": {
      "text/html": [
       "<span style=\"color:#4527A0\"><h1 style=\"font-size:18px\">Trial complete</h1></span>"
      ],
      "text/plain": [
       "<IPython.core.display.HTML object>"
      ]
     },
     "metadata": {},
     "output_type": "display_data"
    },
    {
     "data": {
      "text/html": [
       "<span style=\"color:#4527A0\"><h1 style=\"font-size:18px\">Trial summary</h1></span>"
      ],
      "text/plain": [
       "<IPython.core.display.HTML object>"
      ]
     },
     "metadata": {},
     "output_type": "display_data"
    },
    {
     "data": {
      "text/html": [
       "<span style=\"color:cyan\"> |-Trial ID: 5116076db8e751b066d73194625c85be</span>"
      ],
      "text/plain": [
       "<IPython.core.display.HTML object>"
      ]
     },
     "metadata": {},
     "output_type": "display_data"
    },
    {
     "data": {
      "text/html": [
       "<span style=\"color:cyan\"> |-Score: 0.793666660785675</span>"
      ],
      "text/plain": [
       "<IPython.core.display.HTML object>"
      ]
     },
     "metadata": {},
     "output_type": "display_data"
    },
    {
     "data": {
      "text/html": [
       "<span style=\"color:cyan\"> |-Best step: 0</span>"
      ],
      "text/plain": [
       "<IPython.core.display.HTML object>"
      ]
     },
     "metadata": {},
     "output_type": "display_data"
    },
    {
     "data": {
      "text/html": [
       "<span style=\"color:#7E57C2\"><h2 style=\"font-size:16px\">Hyperparameters:</h2></span>"
      ],
      "text/plain": [
       "<IPython.core.display.HTML object>"
      ]
     },
     "metadata": {},
     "output_type": "display_data"
    },
    {
     "data": {
      "text/html": [
       "<span style=\"color:cyan\"> |-learning_rate: 0.0001</span>"
      ],
      "text/plain": [
       "<IPython.core.display.HTML object>"
      ]
     },
     "metadata": {},
     "output_type": "display_data"
    },
    {
     "data": {
      "text/html": [
       "<span style=\"color:blue\"> |-num_layers: 18</span>"
      ],
      "text/plain": [
       "<IPython.core.display.HTML object>"
      ]
     },
     "metadata": {},
     "output_type": "display_data"
    },
    {
     "data": {
      "text/html": [
       "<span style=\"color:cyan\"> |-units_0: 416</span>"
      ],
      "text/plain": [
       "<IPython.core.display.HTML object>"
      ]
     },
     "metadata": {},
     "output_type": "display_data"
    },
    {
     "data": {
      "text/html": [
       "<span style=\"color:blue\"> |-units_1: 384</span>"
      ],
      "text/plain": [
       "<IPython.core.display.HTML object>"
      ]
     },
     "metadata": {},
     "output_type": "display_data"
    },
    {
     "data": {
      "text/html": [
       "<span style=\"color:cyan\"> |-units_10: 32</span>"
      ],
      "text/plain": [
       "<IPython.core.display.HTML object>"
      ]
     },
     "metadata": {},
     "output_type": "display_data"
    },
    {
     "data": {
      "text/html": [
       "<span style=\"color:blue\"> |-units_11: 32</span>"
      ],
      "text/plain": [
       "<IPython.core.display.HTML object>"
      ]
     },
     "metadata": {},
     "output_type": "display_data"
    },
    {
     "data": {
      "text/html": [
       "<span style=\"color:cyan\"> |-units_12: 32</span>"
      ],
      "text/plain": [
       "<IPython.core.display.HTML object>"
      ]
     },
     "metadata": {},
     "output_type": "display_data"
    },
    {
     "data": {
      "text/html": [
       "<span style=\"color:blue\"> |-units_13: 32</span>"
      ],
      "text/plain": [
       "<IPython.core.display.HTML object>"
      ]
     },
     "metadata": {},
     "output_type": "display_data"
    },
    {
     "data": {
      "text/html": [
       "<span style=\"color:cyan\"> |-units_14: 32</span>"
      ],
      "text/plain": [
       "<IPython.core.display.HTML object>"
      ]
     },
     "metadata": {},
     "output_type": "display_data"
    },
    {
     "data": {
      "text/html": [
       "<span style=\"color:blue\"> |-units_15: 32</span>"
      ],
      "text/plain": [
       "<IPython.core.display.HTML object>"
      ]
     },
     "metadata": {},
     "output_type": "display_data"
    },
    {
     "data": {
      "text/html": [
       "<span style=\"color:cyan\"> |-units_16: 32</span>"
      ],
      "text/plain": [
       "<IPython.core.display.HTML object>"
      ]
     },
     "metadata": {},
     "output_type": "display_data"
    },
    {
     "data": {
      "text/html": [
       "<span style=\"color:blue\"> |-units_17: 32</span>"
      ],
      "text/plain": [
       "<IPython.core.display.HTML object>"
      ]
     },
     "metadata": {},
     "output_type": "display_data"
    },
    {
     "data": {
      "text/html": [
       "<span style=\"color:cyan\"> |-units_2: 448</span>"
      ],
      "text/plain": [
       "<IPython.core.display.HTML object>"
      ]
     },
     "metadata": {},
     "output_type": "display_data"
    },
    {
     "data": {
      "text/html": [
       "<span style=\"color:blue\"> |-units_3: 64</span>"
      ],
      "text/plain": [
       "<IPython.core.display.HTML object>"
      ]
     },
     "metadata": {},
     "output_type": "display_data"
    },
    {
     "data": {
      "text/html": [
       "<span style=\"color:cyan\"> |-units_4: 96</span>"
      ],
      "text/plain": [
       "<IPython.core.display.HTML object>"
      ]
     },
     "metadata": {},
     "output_type": "display_data"
    },
    {
     "data": {
      "text/html": [
       "<span style=\"color:blue\"> |-units_5: 160</span>"
      ],
      "text/plain": [
       "<IPython.core.display.HTML object>"
      ]
     },
     "metadata": {},
     "output_type": "display_data"
    },
    {
     "data": {
      "text/html": [
       "<span style=\"color:cyan\"> |-units_6: 320</span>"
      ],
      "text/plain": [
       "<IPython.core.display.HTML object>"
      ]
     },
     "metadata": {},
     "output_type": "display_data"
    },
    {
     "data": {
      "text/html": [
       "<span style=\"color:blue\"> |-units_7: 448</span>"
      ],
      "text/plain": [
       "<IPython.core.display.HTML object>"
      ]
     },
     "metadata": {},
     "output_type": "display_data"
    },
    {
     "data": {
      "text/html": [
       "<span style=\"color:cyan\"> |-units_8: 448</span>"
      ],
      "text/plain": [
       "<IPython.core.display.HTML object>"
      ]
     },
     "metadata": {},
     "output_type": "display_data"
    },
    {
     "data": {
      "text/html": [
       "<span style=\"color:blue\"> |-units_9: 32</span>"
      ],
      "text/plain": [
       "<IPython.core.display.HTML object>"
      ]
     },
     "metadata": {},
     "output_type": "display_data"
    },
    {
     "name": "stdout",
     "output_type": "stream",
     "text": [
      "Train on 7000 samples, validate on 3000 samples\n",
      "Epoch 1/5\n",
      "6016/7000 [========================>.....] - ETA: 10:32 - loss: 7.1557 - accuracy: 0.843 - ETA: 5:20 - loss: 23.8313 - accuracy: 0.609 - ETA: 3:36 - loss: 16.7060 - accuracy: 0.531 - ETA: 2:44 - loss: 14.2585 - accuracy: 0.609 - ETA: 2:13 - loss: 13.5957 - accuracy: 0.650 - ETA: 1:52 - loss: 13.2876 - accuracy: 0.671 - ETA: 1:37 - loss: 12.1207 - accuracy: 0.696 - ETA: 1:26 - loss: 10.7538 - accuracy: 0.730 - ETA: 1:18 - loss: 9.7341 - accuracy: 0.718 - ETA: 1:11 - loss: 8.9675 - accuracy: 0.72 - ETA: 1:05 - loss: 8.2194 - accuracy: 0.73 - ETA: 1:01 - loss: 7.5770 - accuracy: 0.73 - ETA: 56s - loss: 7.1290 - accuracy: 0.7428 - ETA: 53s - loss: 6.7114 - accuracy: 0.743 - ETA: 50s - loss: 6.3909 - accuracy: 0.733 - ETA: 47s - loss: 6.0868 - accuracy: 0.726 - ETA: 45s - loss: 5.9705 - accuracy: 0.727 - ETA: 43s - loss: 5.8281 - accuracy: 0.729 - ETA: 41s - loss: 5.6585 - accuracy: 0.720 - ETA: 39s - loss: 5.4670 - accuracy: 0.723 - ETA: 38s - loss: 5.2517 - accuracy: 0.732 - ETA: 36s - loss: 5.1036 - accuracy: 0.731 - ETA: 35s - loss: 4.9118 - accuracy: 0.732 - ETA: 34s - loss: 4.7555 - accuracy: 0.722 - ETA: 33s - loss: 4.6037 - accuracy: 0.726 - ETA: 32s - loss: 4.4766 - accuracy: 0.730 - ETA: 31s - loss: 4.3550 - accuracy: 0.722 - ETA: 30s - loss: 4.3176 - accuracy: 0.704 - ETA: 29s - loss: 4.1832 - accuracy: 0.711 - ETA: 29s - loss: 4.1034 - accuracy: 0.715 - ETA: 28s - loss: 4.0894 - accuracy: 0.716 - ETA: 27s - loss: 4.0887 - accuracy: 0.717 - ETA: 27s - loss: 4.0592 - accuracy: 0.718 - ETA: 26s - loss: 3.9697 - accuracy: 0.718 - ETA: 25s - loss: 3.9676 - accuracy: 0.710 - ETA: 25s - loss: 3.8861 - accuracy: 0.707 - ETA: 24s - loss: 3.8018 - accuracy: 0.709 - ETA: 24s - loss: 3.7281 - accuracy: 0.712 - ETA: 23s - loss: 3.6600 - accuracy: 0.717 - ETA: 23s - loss: 3.5992 - accuracy: 0.721 - ETA: 22s - loss: 3.5454 - accuracy: 0.721 - ETA: 22s - loss: 3.4823 - accuracy: 0.720 - ETA: 22s - loss: 3.4108 - accuracy: 0.723 - ETA: 21s - loss: 3.3533 - accuracy: 0.722 - ETA: 21s - loss: 3.3194 - accuracy: 0.717 - ETA: 20s - loss: 3.2579 - accuracy: 0.718 - ETA: 20s - loss: 3.1967 - accuracy: 0.721 - ETA: 20s - loss: 3.1631 - accuracy: 0.722 - ETA: 19s - loss: 3.1091 - accuracy: 0.725 - ETA: 19s - loss: 3.0639 - accuracy: 0.726 - ETA: 19s - loss: 3.0308 - accuracy: 0.716 - ETA: 19s - loss: 2.9923 - accuracy: 0.719 - ETA: 18s - loss: 2.9637 - accuracy: 0.721 - ETA: 18s - loss: 2.9345 - accuracy: 0.723 - ETA: 18s - loss: 2.9425 - accuracy: 0.723 - ETA: 18s - loss: 2.9109 - accuracy: 0.722 - ETA: 17s - loss: 2.8821 - accuracy: 0.720 - ETA: 17s - loss: 2.8560 - accuracy: 0.719 - ETA: 17s - loss: 2.8273 - accuracy: 0.716 - ETA: 17s - loss: 2.7900 - accuracy: 0.717 - ETA: 16s - loss: 2.7535 - accuracy: 0.720 - ETA: 16s - loss: 2.7315 - accuracy: 0.721 - ETA: 16s - loss: 2.6988 - accuracy: 0.724 - ETA: 16s - loss: 2.6754 - accuracy: 0.725 - ETA: 15s - loss: 2.6422 - accuracy: 0.726 - ETA: 15s - loss: 2.6188 - accuracy: 0.726 - ETA: 15s - loss: 2.5871 - accuracy: 0.727 - ETA: 15s - loss: 2.5645 - accuracy: 0.727 - ETA: 15s - loss: 2.5390 - accuracy: 0.728 - ETA: 15s - loss: 2.5109 - accuracy: 0.728 - ETA: 14s - loss: 2.4835 - accuracy: 0.730 - ETA: 14s - loss: 2.4634 - accuracy: 0.727 - ETA: 14s - loss: 2.4411 - accuracy: 0.726 - ETA: 14s - loss: 2.4191 - accuracy: 0.726 - ETA: 14s - loss: 2.3957 - accuracy: 0.727 - ETA: 13s - loss: 2.3746 - accuracy: 0.725 - ETA: 13s - loss: 2.3495 - accuracy: 0.726 - ETA: 13s - loss: 2.3350 - accuracy: 0.726 - ETA: 13s - loss: 2.3140 - accuracy: 0.727 - ETA: 13s - loss: 2.2966 - accuracy: 0.726 - ETA: 13s - loss: 2.2873 - accuracy: 0.722 - ETA: 13s - loss: 2.2683 - accuracy: 0.723 - ETA: 12s - loss: 2.2493 - accuracy: 0.725 - ETA: 12s - loss: 2.2326 - accuracy: 0.726 - ETA: 12s - loss: 2.2191 - accuracy: 0.727 - ETA: 12s - loss: 2.2113 - accuracy: 0.725 - ETA: 12s - loss: 2.1943 - accuracy: 0.725 - ETA: 12s - loss: 2.1790 - accuracy: 0.724 - ETA: 12s - loss: 2.1601 - accuracy: 0.725 - ETA: 11s - loss: 2.1413 - accuracy: 0.727 - ETA: 11s - loss: 2.1349 - accuracy: 0.728 - ETA: 11s - loss: 2.1281 - accuracy: 0.728 - ETA: 11s - loss: 2.1131 - accuracy: 0.729 - ETA: 11s - loss: 2.0951 - accuracy: 0.730 - ETA: 11s - loss: 2.0849 - accuracy: 0.730 - ETA: 11s - loss: 2.0775 - accuracy: 0.727 - ETA: 11s - loss: 2.0733 - accuracy: 0.727 - ETA: 10s - loss: 2.0603 - accuracy: 0.728 - ETA: 10s - loss: 2.0565 - accuracy: 0.728 - ETA: 10s - loss: 2.0445 - accuracy: 0.730 - ETA: 10s - loss: 2.0328 - accuracy: 0.731 - ETA: 10s - loss: 2.0223 - accuracy: 0.730 - ETA: 10s - loss: 2.0093 - accuracy: 0.728 - ETA: 10s - loss: 2.0017 - accuracy: 0.728 - ETA: 10s - loss: 1.9907 - accuracy: 0.728 - ETA: 9s - loss: 1.9784 - accuracy: 0.730 - ETA: 9s - loss: 1.9656 - accuracy: 0.73 - ETA: 9s - loss: 1.9565 - accuracy: 0.73 - ETA: 9s - loss: 1.9426 - accuracy: 0.73 - ETA: 9s - loss: 1.9327 - accuracy: 0.73 - ETA: 9s - loss: 1.9213 - accuracy: 0.73 - ETA: 9s - loss: 1.9094 - accuracy: 0.73 - ETA: 9s - loss: 1.8966 - accuracy: 0.73 - ETA: 9s - loss: 1.8887 - accuracy: 0.73 - ETA: 8s - loss: 1.8778 - accuracy: 0.73 - ETA: 8s - loss: 1.8675 - accuracy: 0.73 - ETA: 8s - loss: 1.8565 - accuracy: 0.73 - ETA: 8s - loss: 1.8456 - accuracy: 0.73 - ETA: 8s - loss: 1.8352 - accuracy: 0.73 - ETA: 8s - loss: 1.8238 - accuracy: 0.73 - ETA: 8s - loss: 1.8147 - accuracy: 0.73 - ETA: 8s - loss: 1.8051 - accuracy: 0.73 - ETA: 8s - loss: 1.7963 - accuracy: 0.73 - ETA: 8s - loss: 1.7870 - accuracy: 0.73 - ETA: 7s - loss: 1.7786 - accuracy: 0.73 - ETA: 7s - loss: 1.7709 - accuracy: 0.73 - ETA: 7s - loss: 1.7605 - accuracy: 0.73 - ETA: 7s - loss: 1.7539 - accuracy: 0.73 - ETA: 7s - loss: 1.7466 - accuracy: 0.73 - ETA: 7s - loss: 1.7385 - accuracy: 0.73 - ETA: 7s - loss: 1.7293 - accuracy: 0.73 - ETA: 7s - loss: 1.7197 - accuracy: 0.73 - ETA: 7s - loss: 1.7106 - accuracy: 0.73 - ETA: 7s - loss: 1.7044 - accuracy: 0.73 - ETA: 7s - loss: 1.6965 - accuracy: 0.73 - ETA: 6s - loss: 1.6885 - accuracy: 0.73 - ETA: 6s - loss: 1.6812 - accuracy: 0.73 - ETA: 6s - loss: 1.6738 - accuracy: 0.73 - ETA: 6s - loss: 1.6675 - accuracy: 0.73 - ETA: 6s - loss: 1.6604 - accuracy: 0.73 - ETA: 6s - loss: 1.6518 - accuracy: 0.73 - ETA: 6s - loss: 1.6448 - accuracy: 0.73 - ETA: 6s - loss: 1.6404 - accuracy: 0.73 - ETA: 6s - loss: 1.6346 - accuracy: 0.73 - ETA: 6s - loss: 1.6325 - accuracy: 0.72 - ETA: 5s - loss: 1.6263 - accuracy: 0.72 - ETA: 5s - loss: 1.6220 - accuracy: 0.72 - ETA: 5s - loss: 1.6173 - accuracy: 0.72 - ETA: 5s - loss: 1.6125 - accuracy: 0.72 - ETA: 5s - loss: 1.6077 - accuracy: 0.72 - ETA: 5s - loss: 1.6016 - accuracy: 0.72 - ETA: 5s - loss: 1.5944 - accuracy: 0.72 - ETA: 5s - loss: 1.5937 - accuracy: 0.72 - ETA: 5s - loss: 1.5856 - accuracy: 0.72 - ETA: 5s - loss: 1.5794 - accuracy: 0.72 - ETA: 5s - loss: 1.5741 - accuracy: 0.72 - ETA: 5s - loss: 1.5677 - accuracy: 0.72 - ETA: 4s - loss: 1.5615 - accuracy: 0.72 - ETA: 4s - loss: 1.5554 - accuracy: 0.72 - ETA: 4s - loss: 1.5479 - accuracy: 0.72 - ETA: 4s - loss: 1.5437 - accuracy: 0.72 - ETA: 4s - loss: 1.5380 - accuracy: 0.72 - ETA: 4s - loss: 1.5330 - accuracy: 0.72 - ETA: 4s - loss: 1.5284 - accuracy: 0.72 - ETA: 4s - loss: 1.5234 - accuracy: 0.72 - ETA: 4s - loss: 1.5187 - accuracy: 0.72 - ETA: 4s - loss: 1.5120 - accuracy: 0.72 - ETA: 4s - loss: 1.5086 - accuracy: 0.72 - ETA: 4s - loss: 1.5026 - accuracy: 0.72 - ETA: 3s - loss: 1.4983 - accuracy: 0.72 - ETA: 3s - loss: 1.4930 - accuracy: 0.72 - ETA: 3s - loss: 1.4880 - accuracy: 0.72 - ETA: 3s - loss: 1.4825 - accuracy: 0.72 - ETA: 3s - loss: 1.4774 - accuracy: 0.72 - ETA: 3s - loss: 1.4720 - accuracy: 0.72 - ETA: 3s - loss: 1.4695 - accuracy: 0.72 - ETA: 3s - loss: 1.4648 - accuracy: 0.72 - ETA: 3s - loss: 1.4599 - accuracy: 0.72 - ETA: 3s - loss: 1.4571 - accuracy: 0.72 - ETA: 3s - loss: 1.4532 - accuracy: 0.72 - ETA: 3s - loss: 1.4482 - accuracy: 0.72 - ETA: 2s - loss: 1.4468 - accuracy: 0.72 - ETA: 2s - loss: 1.4435 - accuracy: 0.72 - ETA: 2s - loss: 1.4392 - accuracy: 0.72 - ETA: 2s - loss: 1.4355 - accuracy: 0.72 - ETA: 2s - loss: 1.4324 - accuracy: 0.72 - ETA: 2s - loss: 1.4271 - accuracy: 0.72 - ETA: 2s - loss: 1.4245 - accuracy: 0.7289\b\b\b\b\b\b\b\b\b\b\b\b\b\b\b\b\b\b\b\b\b\b\b\b\b\b\b\b\b\b\b\b\b\b\b\b\b\b\b\b\b\b\b\b\b\b\b\b\b\b\b\b\b\b\b\b\b\b\b\b\b\b\b\b\b\b\b\b\b\b\b\b\b\b\b\b\b\b\b\b\b\b\b\b\b\b7000/7000 [==============================] - ETA: 2s - loss: 1.4197 - accuracy: 0.72 - ETA: 2s - loss: 1.4154 - accuracy: 0.72 - ETA: 2s - loss: 1.4109 - accuracy: 0.73 - ETA: 2s - loss: 1.4070 - accuracy: 0.72 - ETA: 2s - loss: 1.4055 - accuracy: 0.72 - ETA: 1s - loss: 1.4022 - accuracy: 0.72 - ETA: 1s - loss: 1.3982 - accuracy: 0.72 - ETA: 1s - loss: 1.3935 - accuracy: 0.72 - ETA: 1s - loss: 1.3909 - accuracy: 0.72 - ETA: 1s - loss: 1.3864 - accuracy: 0.72 - ETA: 1s - loss: 1.3834 - accuracy: 0.72 - ETA: 1s - loss: 1.3808 - accuracy: 0.72 - ETA: 1s - loss: 1.3781 - accuracy: 0.72 - ETA: 1s - loss: 1.3737 - accuracy: 0.72 - ETA: 1s - loss: 1.3705 - accuracy: 0.72 - ETA: 1s - loss: 1.3671 - accuracy: 0.72 - ETA: 1s - loss: 1.3614 - accuracy: 0.72 - ETA: 1s - loss: 1.3596 - accuracy: 0.72 - ETA: 0s - loss: 1.3567 - accuracy: 0.72 - ETA: 0s - loss: 1.3555 - accuracy: 0.72 - ETA: 0s - loss: 1.3537 - accuracy: 0.72 - ETA: 0s - loss: 1.3514 - accuracy: 0.72 - ETA: 0s - loss: 1.3525 - accuracy: 0.72 - ETA: 0s - loss: 1.3528 - accuracy: 0.72 - ETA: 0s - loss: 1.3487 - accuracy: 0.72 - ETA: 0s - loss: 1.3454 - accuracy: 0.72 - ETA: 0s - loss: 1.3441 - accuracy: 0.72 - ETA: 0s - loss: 1.3410 - accuracy: 0.72 - ETA: 0s - loss: 1.3376 - accuracy: 0.72 - ETA: 0s - loss: 1.3398 - accuracy: 0.72 - 19s 3ms/sample - loss: 1.3366 - accuracy: 0.7259 - val_loss: 0.7263 - val_accuracy: 0.6253\n",
      "Epoch 2/5\n",
      "6144/7000 [=========================>....] - ETA: 13s - loss: 0.6201 - accuracy: 0.562 - ETA: 13s - loss: 0.6480 - accuracy: 0.609 - ETA: 13s - loss: 0.7490 - accuracy: 0.645 - ETA: 13s - loss: 0.7142 - accuracy: 0.679 - ETA: 12s - loss: 0.7040 - accuracy: 0.687 - ETA: 13s - loss: 0.6908 - accuracy: 0.692 - ETA: 12s - loss: 0.6602 - accuracy: 0.714 - ETA: 12s - loss: 0.7034 - accuracy: 0.718 - ETA: 12s - loss: 0.6886 - accuracy: 0.732 - ETA: 12s - loss: 0.6611 - accuracy: 0.750 - ETA: 12s - loss: 0.6702 - accuracy: 0.747 - ETA: 12s - loss: 0.6577 - accuracy: 0.752 - ETA: 12s - loss: 0.6669 - accuracy: 0.740 - ETA: 12s - loss: 0.6682 - accuracy: 0.736 - ETA: 12s - loss: 0.6564 - accuracy: 0.741 - ETA: 12s - loss: 0.7182 - accuracy: 0.736 - ETA: 12s - loss: 0.7462 - accuracy: 0.731 - ETA: 12s - loss: 0.7450 - accuracy: 0.720 - ETA: 12s - loss: 0.7488 - accuracy: 0.718 - ETA: 12s - loss: 0.7344 - accuracy: 0.712 - ETA: 12s - loss: 0.7515 - accuracy: 0.712 - ETA: 12s - loss: 0.7541 - accuracy: 0.721 - ETA: 12s - loss: 0.7508 - accuracy: 0.726 - ETA: 12s - loss: 0.7441 - accuracy: 0.731 - ETA: 11s - loss: 0.7429 - accuracy: 0.732 - ETA: 11s - loss: 0.7522 - accuracy: 0.716 - ETA: 11s - loss: 0.7677 - accuracy: 0.714 - ETA: 11s - loss: 0.7674 - accuracy: 0.713 - ETA: 11s - loss: 0.7569 - accuracy: 0.715 - ETA: 11s - loss: 0.7517 - accuracy: 0.716 - ETA: 11s - loss: 0.7458 - accuracy: 0.719 - ETA: 11s - loss: 0.7426 - accuracy: 0.720 - ETA: 11s - loss: 0.7446 - accuracy: 0.720 - ETA: 11s - loss: 0.7400 - accuracy: 0.725 - ETA: 11s - loss: 0.7371 - accuracy: 0.729 - ETA: 11s - loss: 0.7450 - accuracy: 0.730 - ETA: 11s - loss: 0.7443 - accuracy: 0.731 - ETA: 11s - loss: 0.7401 - accuracy: 0.727 - ETA: 11s - loss: 0.7424 - accuracy: 0.726 - ETA: 11s - loss: 0.7353 - accuracy: 0.728 - ETA: 11s - loss: 0.7412 - accuracy: 0.727 - ETA: 11s - loss: 0.7410 - accuracy: 0.729 - ETA: 10s - loss: 0.7466 - accuracy: 0.728 - ETA: 10s - loss: 0.7393 - accuracy: 0.730 - ETA: 10s - loss: 0.7338 - accuracy: 0.734 - ETA: 10s - loss: 0.7353 - accuracy: 0.735 - ETA: 10s - loss: 0.7360 - accuracy: 0.734 - ETA: 10s - loss: 0.7349 - accuracy: 0.733 - ETA: 10s - loss: 0.7373 - accuracy: 0.732 - ETA: 10s - loss: 0.7358 - accuracy: 0.733 - ETA: 10s - loss: 0.7359 - accuracy: 0.735 - ETA: 10s - loss: 0.7363 - accuracy: 0.734 - ETA: 10s - loss: 0.7422 - accuracy: 0.732 - ETA: 10s - loss: 0.7460 - accuracy: 0.726 - ETA: 10s - loss: 0.7568 - accuracy: 0.717 - ETA: 10s - loss: 0.7525 - accuracy: 0.718 - ETA: 10s - loss: 0.7600 - accuracy: 0.720 - ETA: 10s - loss: 0.7823 - accuracy: 0.719 - ETA: 10s - loss: 0.7803 - accuracy: 0.723 - ETA: 10s - loss: 0.7775 - accuracy: 0.723 - ETA: 10s - loss: 0.7780 - accuracy: 0.718 - ETA: 9s - loss: 0.7754 - accuracy: 0.718 - ETA: 9s - loss: 0.7751 - accuracy: 0.71 - ETA: 9s - loss: 0.7759 - accuracy: 0.71 - ETA: 9s - loss: 0.7764 - accuracy: 0.71 - ETA: 9s - loss: 0.7747 - accuracy: 0.71 - ETA: 9s - loss: 0.7732 - accuracy: 0.71 - ETA: 9s - loss: 0.7726 - accuracy: 0.71 - ETA: 9s - loss: 0.7692 - accuracy: 0.71 - ETA: 9s - loss: 0.7647 - accuracy: 0.71 - ETA: 9s - loss: 0.7593 - accuracy: 0.71 - ETA: 9s - loss: 0.7551 - accuracy: 0.71 - ETA: 9s - loss: 0.7583 - accuracy: 0.71 - ETA: 9s - loss: 0.7602 - accuracy: 0.71 - ETA: 9s - loss: 0.7607 - accuracy: 0.71 - ETA: 9s - loss: 0.7617 - accuracy: 0.71 - ETA: 9s - loss: 0.7614 - accuracy: 0.71 - ETA: 9s - loss: 0.7584 - accuracy: 0.71 - ETA: 8s - loss: 0.7578 - accuracy: 0.71 - ETA: 8s - loss: 0.7528 - accuracy: 0.71 - ETA: 8s - loss: 0.7507 - accuracy: 0.71 - ETA: 8s - loss: 0.7555 - accuracy: 0.71 - ETA: 8s - loss: 0.7616 - accuracy: 0.71 - ETA: 8s - loss: 0.7613 - accuracy: 0.71 - ETA: 8s - loss: 0.7636 - accuracy: 0.71 - ETA: 8s - loss: 0.7622 - accuracy: 0.71 - ETA: 8s - loss: 0.7587 - accuracy: 0.71 - ETA: 8s - loss: 0.7621 - accuracy: 0.71 - ETA: 8s - loss: 0.7638 - accuracy: 0.71 - ETA: 8s - loss: 0.7611 - accuracy: 0.71 - ETA: 8s - loss: 0.7593 - accuracy: 0.71 - ETA: 8s - loss: 0.7595 - accuracy: 0.71 - ETA: 8s - loss: 0.7560 - accuracy: 0.71 - ETA: 8s - loss: 0.7577 - accuracy: 0.71 - ETA: 8s - loss: 0.7579 - accuracy: 0.71 - ETA: 7s - loss: 0.7573 - accuracy: 0.71 - ETA: 7s - loss: 0.7575 - accuracy: 0.71 - ETA: 7s - loss: 0.7582 - accuracy: 0.71 - ETA: 7s - loss: 0.7558 - accuracy: 0.71 - ETA: 7s - loss: 0.7531 - accuracy: 0.71 - ETA: 7s - loss: 0.7517 - accuracy: 0.71 - ETA: 7s - loss: 0.7527 - accuracy: 0.71 - ETA: 7s - loss: 0.7511 - accuracy: 0.72 - ETA: 7s - loss: 0.7498 - accuracy: 0.71 - ETA: 7s - loss: 0.7495 - accuracy: 0.71 - ETA: 7s - loss: 0.7489 - accuracy: 0.72 - ETA: 7s - loss: 0.7486 - accuracy: 0.72 - ETA: 7s - loss: 0.7479 - accuracy: 0.72 - ETA: 7s - loss: 0.7442 - accuracy: 0.72 - ETA: 7s - loss: 0.7432 - accuracy: 0.72 - ETA: 7s - loss: 0.7429 - accuracy: 0.72 - ETA: 6s - loss: 0.7429 - accuracy: 0.72 - ETA: 6s - loss: 0.7432 - accuracy: 0.72 - ETA: 6s - loss: 0.7437 - accuracy: 0.71 - ETA: 6s - loss: 0.7445 - accuracy: 0.71 - ETA: 6s - loss: 0.7484 - accuracy: 0.71 - ETA: 6s - loss: 0.7481 - accuracy: 0.71 - ETA: 6s - loss: 0.7498 - accuracy: 0.71 - ETA: 6s - loss: 0.7478 - accuracy: 0.71 - ETA: 6s - loss: 0.7454 - accuracy: 0.71 - ETA: 6s - loss: 0.7433 - accuracy: 0.71 - ETA: 6s - loss: 0.7412 - accuracy: 0.71 - ETA: 6s - loss: 0.7427 - accuracy: 0.72 - ETA: 6s - loss: 0.7407 - accuracy: 0.72 - ETA: 6s - loss: 0.7415 - accuracy: 0.71 - ETA: 6s - loss: 0.7384 - accuracy: 0.72 - ETA: 6s - loss: 0.7351 - accuracy: 0.72 - ETA: 5s - loss: 0.7340 - accuracy: 0.72 - ETA: 5s - loss: 0.7353 - accuracy: 0.72 - ETA: 5s - loss: 0.7348 - accuracy: 0.72 - ETA: 5s - loss: 0.7329 - accuracy: 0.72 - ETA: 5s - loss: 0.7321 - accuracy: 0.72 - ETA: 5s - loss: 0.7312 - accuracy: 0.72 - ETA: 5s - loss: 0.7302 - accuracy: 0.72 - ETA: 5s - loss: 0.7296 - accuracy: 0.72 - ETA: 5s - loss: 0.7292 - accuracy: 0.72 - ETA: 5s - loss: 0.7287 - accuracy: 0.72 - ETA: 5s - loss: 0.7295 - accuracy: 0.72 - ETA: 5s - loss: 0.7282 - accuracy: 0.72 - ETA: 5s - loss: 0.7270 - accuracy: 0.72 - ETA: 5s - loss: 0.7272 - accuracy: 0.72 - ETA: 5s - loss: 0.7268 - accuracy: 0.72 - ETA: 5s - loss: 0.7290 - accuracy: 0.72 - ETA: 4s - loss: 0.7302 - accuracy: 0.72 - ETA: 4s - loss: 0.7299 - accuracy: 0.72 - ETA: 4s - loss: 0.7300 - accuracy: 0.72 - ETA: 4s - loss: 0.7312 - accuracy: 0.72 - ETA: 4s - loss: 0.7298 - accuracy: 0.72 - ETA: 4s - loss: 0.7277 - accuracy: 0.72 - ETA: 4s - loss: 0.7288 - accuracy: 0.72 - ETA: 4s - loss: 0.7297 - accuracy: 0.72 - ETA: 4s - loss: 0.7286 - accuracy: 0.72 - ETA: 4s - loss: 0.7279 - accuracy: 0.72 - ETA: 4s - loss: 0.7291 - accuracy: 0.72 - ETA: 4s - loss: 0.7275 - accuracy: 0.72 - ETA: 4s - loss: 0.7255 - accuracy: 0.72 - ETA: 4s - loss: 0.7252 - accuracy: 0.72 - ETA: 4s - loss: 0.7265 - accuracy: 0.73 - ETA: 3s - loss: 0.7259 - accuracy: 0.73 - ETA: 3s - loss: 0.7264 - accuracy: 0.72 - ETA: 3s - loss: 0.7250 - accuracy: 0.73 - ETA: 3s - loss: 0.7267 - accuracy: 0.72 - ETA: 3s - loss: 0.7255 - accuracy: 0.72 - ETA: 3s - loss: 0.7238 - accuracy: 0.72 - ETA: 3s - loss: 0.7249 - accuracy: 0.72 - ETA: 3s - loss: 0.7281 - accuracy: 0.72 - ETA: 3s - loss: 0.7300 - accuracy: 0.72 - ETA: 3s - loss: 0.7336 - accuracy: 0.72 - ETA: 3s - loss: 0.7330 - accuracy: 0.72 - ETA: 3s - loss: 0.7326 - accuracy: 0.72 - ETA: 3s - loss: 0.7349 - accuracy: 0.72 - ETA: 3s - loss: 0.7341 - accuracy: 0.72 - ETA: 3s - loss: 0.7330 - accuracy: 0.72 - ETA: 2s - loss: 0.7345 - accuracy: 0.72 - ETA: 2s - loss: 0.7358 - accuracy: 0.72 - ETA: 2s - loss: 0.7348 - accuracy: 0.72 - ETA: 2s - loss: 0.7377 - accuracy: 0.72 - ETA: 2s - loss: 0.7373 - accuracy: 0.72 - ETA: 2s - loss: 0.7397 - accuracy: 0.72 - ETA: 2s - loss: 0.7389 - accuracy: 0.72 - ETA: 2s - loss: 0.7385 - accuracy: 0.72 - ETA: 2s - loss: 0.7399 - accuracy: 0.72 - ETA: 2s - loss: 0.7413 - accuracy: 0.72 - ETA: 2s - loss: 0.7407 - accuracy: 0.72 - ETA: 2s - loss: 0.7429 - accuracy: 0.72 - ETA: 2s - loss: 0.7426 - accuracy: 0.72 - ETA: 2s - loss: 0.7454 - accuracy: 0.72 - ETA: 2s - loss: 0.7462 - accuracy: 0.72 - ETA: 1s - loss: 0.7465 - accuracy: 0.72 - ETA: 1s - loss: 0.7486 - accuracy: 0.72 - ETA: 1s - loss: 0.7465 - accuracy: 0.72 - ETA: 1s - loss: 0.7456 - accuracy: 0.72357000/7000 [==============================] - ETA: 1s - loss: 0.7444 - accuracy: 0.72 - ETA: 1s - loss: 0.7477 - accuracy: 0.72 - ETA: 1s - loss: 0.7457 - accuracy: 0.72 - ETA: 1s - loss: 0.7471 - accuracy: 0.72 - ETA: 1s - loss: 0.7463 - accuracy: 0.72 - ETA: 1s - loss: 0.7451 - accuracy: 0.72 - ETA: 1s - loss: 0.7441 - accuracy: 0.72 - ETA: 1s - loss: 0.7437 - accuracy: 0.72 - ETA: 1s - loss: 0.7435 - accuracy: 0.72 - ETA: 1s - loss: 0.7437 - accuracy: 0.72 - ETA: 1s - loss: 0.7430 - accuracy: 0.72 - ETA: 0s - loss: 0.7410 - accuracy: 0.72 - ETA: 0s - loss: 0.7418 - accuracy: 0.72 - ETA: 0s - loss: 0.7417 - accuracy: 0.72 - ETA: 0s - loss: 0.7426 - accuracy: 0.72 - ETA: 0s - loss: 0.7433 - accuracy: 0.72 - ETA: 0s - loss: 0.7433 - accuracy: 0.72 - ETA: 0s - loss: 0.7418 - accuracy: 0.72 - ETA: 0s - loss: 0.7409 - accuracy: 0.72 - ETA: 0s - loss: 0.7397 - accuracy: 0.72 - ETA: 0s - loss: 0.7381 - accuracy: 0.72 - ETA: 0s - loss: 0.7362 - accuracy: 0.72 - ETA: 0s - loss: 0.7376 - accuracy: 0.72 - ETA: 0s - loss: 0.7373 - accuracy: 0.72 - ETA: 0s - loss: 0.7379 - accuracy: 0.72 - ETA: 0s - loss: 0.7376 - accuracy: 0.72 - 16s 2ms/sample - loss: 0.7373 - accuracy: 0.7243 - val_loss: 0.5741 - val_accuracy: 0.7937\n",
      "Epoch 3/5\n",
      "6112/7000 [=========================>....] - ETA: 13s - loss: 0.3864 - accuracy: 0.906 - ETA: 13s - loss: 0.3775 - accuracy: 0.890 - ETA: 13s - loss: 0.5296 - accuracy: 0.843 - ETA: 13s - loss: 0.6301 - accuracy: 0.796 - ETA: 13s - loss: 0.6001 - accuracy: 0.812 - ETA: 13s - loss: 0.6230 - accuracy: 0.786 - ETA: 13s - loss: 0.6392 - accuracy: 0.758 - ETA: 14s - loss: 0.6457 - accuracy: 0.746 - ETA: 13s - loss: 0.6565 - accuracy: 0.746 - ETA: 13s - loss: 0.6695 - accuracy: 0.740 - ETA: 13s - loss: 0.6829 - accuracy: 0.730 - ETA: 13s - loss: 0.6767 - accuracy: 0.734 - ETA: 13s - loss: 0.6562 - accuracy: 0.742 - ETA: 13s - loss: 0.6758 - accuracy: 0.743 - ETA: 13s - loss: 0.6744 - accuracy: 0.745 - ETA: 12s - loss: 0.6660 - accuracy: 0.753 - ETA: 13s - loss: 0.6616 - accuracy: 0.761 - ETA: 12s - loss: 0.6415 - accuracy: 0.770 - ETA: 12s - loss: 0.6559 - accuracy: 0.771 - ETA: 12s - loss: 0.6502 - accuracy: 0.771 - ETA: 12s - loss: 0.6599 - accuracy: 0.770 - ETA: 12s - loss: 0.6715 - accuracy: 0.759 - ETA: 12s - loss: 0.6756 - accuracy: 0.747 - ETA: 12s - loss: 0.6795 - accuracy: 0.735 - ETA: 12s - loss: 0.6977 - accuracy: 0.732 - ETA: 12s - loss: 0.6931 - accuracy: 0.736 - ETA: 12s - loss: 0.6847 - accuracy: 0.738 - ETA: 12s - loss: 0.6857 - accuracy: 0.737 - ETA: 12s - loss: 0.6822 - accuracy: 0.738 - ETA: 12s - loss: 0.6853 - accuracy: 0.737 - ETA: 11s - loss: 0.6970 - accuracy: 0.738 - ETA: 12s - loss: 0.6998 - accuracy: 0.738 - ETA: 12s - loss: 0.7037 - accuracy: 0.734 - ETA: 12s - loss: 0.7172 - accuracy: 0.728 - ETA: 12s - loss: 0.7173 - accuracy: 0.730 - ETA: 11s - loss: 0.7226 - accuracy: 0.731 - ETA: 11s - loss: 0.7149 - accuracy: 0.733 - ETA: 11s - loss: 0.7111 - accuracy: 0.736 - ETA: 11s - loss: 0.7105 - accuracy: 0.735 - ETA: 11s - loss: 0.7094 - accuracy: 0.737 - ETA: 11s - loss: 0.7097 - accuracy: 0.739 - ETA: 11s - loss: 0.7055 - accuracy: 0.741 - ETA: 11s - loss: 0.7056 - accuracy: 0.741 - ETA: 11s - loss: 0.7059 - accuracy: 0.740 - ETA: 11s - loss: 0.7018 - accuracy: 0.742 - ETA: 11s - loss: 0.6964 - accuracy: 0.745 - ETA: 11s - loss: 0.6954 - accuracy: 0.748 - ETA: 11s - loss: 0.7075 - accuracy: 0.749 - ETA: 11s - loss: 0.7141 - accuracy: 0.745 - ETA: 11s - loss: 0.7287 - accuracy: 0.740 - ETA: 11s - loss: 0.7281 - accuracy: 0.742 - ETA: 11s - loss: 0.7628 - accuracy: 0.742 - ETA: 11s - loss: 0.7825 - accuracy: 0.738 - ETA: 11s - loss: 0.7859 - accuracy: 0.731 - ETA: 11s - loss: 0.7907 - accuracy: 0.728 - ETA: 11s - loss: 0.7947 - accuracy: 0.729 - ETA: 11s - loss: 0.7968 - accuracy: 0.730 - ETA: 11s - loss: 0.8045 - accuracy: 0.730 - ETA: 10s - loss: 0.8009 - accuracy: 0.729 - ETA: 10s - loss: 0.8101 - accuracy: 0.725 - ETA: 10s - loss: 0.8089 - accuracy: 0.722 - ETA: 10s - loss: 0.8032 - accuracy: 0.725 - ETA: 10s - loss: 0.8033 - accuracy: 0.726 - ETA: 10s - loss: 0.8048 - accuracy: 0.726 - ETA: 10s - loss: 0.8018 - accuracy: 0.727 - ETA: 10s - loss: 0.8022 - accuracy: 0.727 - ETA: 10s - loss: 0.8061 - accuracy: 0.726 - ETA: 10s - loss: 0.8018 - accuracy: 0.727 - ETA: 10s - loss: 0.7998 - accuracy: 0.728 - ETA: 10s - loss: 0.8025 - accuracy: 0.729 - ETA: 10s - loss: 0.8010 - accuracy: 0.729 - ETA: 10s - loss: 0.7999 - accuracy: 0.727 - ETA: 9s - loss: 0.8022 - accuracy: 0.720 - ETA: 9s - loss: 0.7998 - accuracy: 0.72 - ETA: 9s - loss: 0.7943 - accuracy: 0.72 - ETA: 9s - loss: 0.7956 - accuracy: 0.72 - ETA: 9s - loss: 0.8015 - accuracy: 0.72 - ETA: 9s - loss: 0.8011 - accuracy: 0.72 - ETA: 9s - loss: 0.8014 - accuracy: 0.72 - ETA: 9s - loss: 0.8048 - accuracy: 0.72 - ETA: 9s - loss: 0.8078 - accuracy: 0.72 - ETA: 9s - loss: 0.8054 - accuracy: 0.72 - ETA: 9s - loss: 0.8045 - accuracy: 0.72 - ETA: 9s - loss: 0.8010 - accuracy: 0.72 - ETA: 9s - loss: 0.7976 - accuracy: 0.72 - ETA: 9s - loss: 0.7918 - accuracy: 0.72 - ETA: 8s - loss: 0.7860 - accuracy: 0.73 - ETA: 8s - loss: 0.7857 - accuracy: 0.73 - ETA: 8s - loss: 0.7821 - accuracy: 0.73 - ETA: 8s - loss: 0.7794 - accuracy: 0.73 - ETA: 8s - loss: 0.7767 - accuracy: 0.73 - ETA: 8s - loss: 0.7745 - accuracy: 0.73 - ETA: 8s - loss: 0.7710 - accuracy: 0.73 - ETA: 8s - loss: 0.7679 - accuracy: 0.73 - ETA: 8s - loss: 0.7668 - accuracy: 0.73 - ETA: 8s - loss: 0.7652 - accuracy: 0.73 - ETA: 8s - loss: 0.7618 - accuracy: 0.73 - ETA: 8s - loss: 0.7606 - accuracy: 0.73 - ETA: 8s - loss: 0.7588 - accuracy: 0.73 - ETA: 8s - loss: 0.7557 - accuracy: 0.73 - ETA: 8s - loss: 0.7555 - accuracy: 0.73 - ETA: 7s - loss: 0.7527 - accuracy: 0.73 - ETA: 7s - loss: 0.7504 - accuracy: 0.73 - ETA: 7s - loss: 0.7486 - accuracy: 0.73 - ETA: 7s - loss: 0.7491 - accuracy: 0.73 - ETA: 7s - loss: 0.7478 - accuracy: 0.73 - ETA: 7s - loss: 0.7446 - accuracy: 0.73 - ETA: 7s - loss: 0.7446 - accuracy: 0.73 - ETA: 7s - loss: 0.7476 - accuracy: 0.73 - ETA: 7s - loss: 0.7466 - accuracy: 0.73 - ETA: 7s - loss: 0.7453 - accuracy: 0.73 - ETA: 7s - loss: 0.7456 - accuracy: 0.73 - ETA: 7s - loss: 0.7461 - accuracy: 0.73 - ETA: 7s - loss: 0.7435 - accuracy: 0.73 - ETA: 7s - loss: 0.7425 - accuracy: 0.73 - ETA: 7s - loss: 0.7401 - accuracy: 0.73 - ETA: 7s - loss: 0.7406 - accuracy: 0.73 - ETA: 6s - loss: 0.7481 - accuracy: 0.73 - ETA: 6s - loss: 0.7495 - accuracy: 0.73 - ETA: 6s - loss: 0.7482 - accuracy: 0.73 - ETA: 6s - loss: 0.7464 - accuracy: 0.74 - ETA: 6s - loss: 0.7442 - accuracy: 0.74 - ETA: 6s - loss: 0.7419 - accuracy: 0.74 - ETA: 6s - loss: 0.7401 - accuracy: 0.74 - ETA: 6s - loss: 0.7390 - accuracy: 0.74 - ETA: 6s - loss: 0.7385 - accuracy: 0.74 - ETA: 6s - loss: 0.7369 - accuracy: 0.74 - ETA: 6s - loss: 0.7364 - accuracy: 0.74 - ETA: 6s - loss: 0.7350 - accuracy: 0.74 - ETA: 6s - loss: 0.7335 - accuracy: 0.74 - ETA: 6s - loss: 0.7334 - accuracy: 0.74 - ETA: 6s - loss: 0.7338 - accuracy: 0.74 - ETA: 5s - loss: 0.7329 - accuracy: 0.74 - ETA: 5s - loss: 0.7333 - accuracy: 0.74 - ETA: 5s - loss: 0.7308 - accuracy: 0.74 - ETA: 5s - loss: 0.7295 - accuracy: 0.74 - ETA: 5s - loss: 0.7311 - accuracy: 0.74 - ETA: 5s - loss: 0.7321 - accuracy: 0.74 - ETA: 5s - loss: 0.7308 - accuracy: 0.74 - ETA: 5s - loss: 0.7281 - accuracy: 0.74 - ETA: 5s - loss: 0.7267 - accuracy: 0.74 - ETA: 5s - loss: 0.7253 - accuracy: 0.74 - ETA: 5s - loss: 0.7233 - accuracy: 0.74 - ETA: 5s - loss: 0.7228 - accuracy: 0.74 - ETA: 5s - loss: 0.7230 - accuracy: 0.74 - ETA: 5s - loss: 0.7235 - accuracy: 0.74 - ETA: 4s - loss: 0.7231 - accuracy: 0.74 - ETA: 4s - loss: 0.7223 - accuracy: 0.74 - ETA: 4s - loss: 0.7211 - accuracy: 0.74 - ETA: 4s - loss: 0.7197 - accuracy: 0.74 - ETA: 4s - loss: 0.7197 - accuracy: 0.74 - ETA: 4s - loss: 0.7175 - accuracy: 0.74 - ETA: 4s - loss: 0.7189 - accuracy: 0.74 - ETA: 4s - loss: 0.7181 - accuracy: 0.74 - ETA: 4s - loss: 0.7172 - accuracy: 0.74 - ETA: 4s - loss: 0.7172 - accuracy: 0.74 - ETA: 4s - loss: 0.7162 - accuracy: 0.74 - ETA: 4s - loss: 0.7148 - accuracy: 0.74 - ETA: 4s - loss: 0.7152 - accuracy: 0.74 - ETA: 4s - loss: 0.7169 - accuracy: 0.74 - ETA: 4s - loss: 0.7153 - accuracy: 0.74 - ETA: 3s - loss: 0.7144 - accuracy: 0.74 - ETA: 3s - loss: 0.7139 - accuracy: 0.74 - ETA: 3s - loss: 0.7141 - accuracy: 0.74 - ETA: 3s - loss: 0.7131 - accuracy: 0.74 - ETA: 3s - loss: 0.7118 - accuracy: 0.74 - ETA: 3s - loss: 0.7112 - accuracy: 0.74 - ETA: 3s - loss: 0.7107 - accuracy: 0.74 - ETA: 3s - loss: 0.7113 - accuracy: 0.74 - ETA: 3s - loss: 0.7102 - accuracy: 0.74 - ETA: 3s - loss: 0.7104 - accuracy: 0.74 - ETA: 3s - loss: 0.7099 - accuracy: 0.74 - ETA: 3s - loss: 0.7082 - accuracy: 0.74 - ETA: 3s - loss: 0.7081 - accuracy: 0.74 - ETA: 3s - loss: 0.7086 - accuracy: 0.74 - ETA: 2s - loss: 0.7084 - accuracy: 0.74 - ETA: 2s - loss: 0.7082 - accuracy: 0.74 - ETA: 2s - loss: 0.7058 - accuracy: 0.74 - ETA: 2s - loss: 0.7052 - accuracy: 0.74 - ETA: 2s - loss: 0.7065 - accuracy: 0.74 - ETA: 2s - loss: 0.7068 - accuracy: 0.74 - ETA: 2s - loss: 0.7087 - accuracy: 0.74 - ETA: 2s - loss: 0.7078 - accuracy: 0.74 - ETA: 2s - loss: 0.7075 - accuracy: 0.74 - ETA: 2s - loss: 0.7072 - accuracy: 0.74 - ETA: 2s - loss: 0.7075 - accuracy: 0.74 - ETA: 2s - loss: 0.7066 - accuracy: 0.74 - ETA: 2s - loss: 0.7066 - accuracy: 0.74 - ETA: 2s - loss: 0.7053 - accuracy: 0.74 - ETA: 2s - loss: 0.7044 - accuracy: 0.74 - ETA: 1s - loss: 0.7039 - accuracy: 0.74727000/7000 [==============================] - ETA: 1s - loss: 0.7060 - accuracy: 0.74 - ETA: 1s - loss: 0.7071 - accuracy: 0.74 - ETA: 1s - loss: 0.7053 - accuracy: 0.74 - ETA: 1s - loss: 0.7057 - accuracy: 0.74 - ETA: 1s - loss: 0.7061 - accuracy: 0.74 - ETA: 1s - loss: 0.7063 - accuracy: 0.74 - ETA: 1s - loss: 0.7065 - accuracy: 0.74 - ETA: 1s - loss: 0.7059 - accuracy: 0.74 - ETA: 1s - loss: 0.7062 - accuracy: 0.74 - ETA: 1s - loss: 0.7052 - accuracy: 0.74 - ETA: 1s - loss: 0.7049 - accuracy: 0.74 - ETA: 1s - loss: 0.7046 - accuracy: 0.74 - ETA: 1s - loss: 0.7037 - accuracy: 0.74 - ETA: 0s - loss: 0.7045 - accuracy: 0.74 - ETA: 0s - loss: 0.7041 - accuracy: 0.74 - ETA: 0s - loss: 0.7038 - accuracy: 0.74 - ETA: 0s - loss: 0.7027 - accuracy: 0.74 - ETA: 0s - loss: 0.7034 - accuracy: 0.74 - ETA: 0s - loss: 0.7029 - accuracy: 0.74 - ETA: 0s - loss: 0.7027 - accuracy: 0.74 - ETA: 0s - loss: 0.7020 - accuracy: 0.74 - ETA: 0s - loss: 0.7001 - accuracy: 0.74 - ETA: 0s - loss: 0.6990 - accuracy: 0.74 - ETA: 0s - loss: 0.6991 - accuracy: 0.74 - ETA: 0s - loss: 0.6978 - accuracy: 0.74 - ETA: 0s - loss: 0.6981 - accuracy: 0.74 - ETA: 0s - loss: 0.6974 - accuracy: 0.74 - 16s 2ms/sample - loss: 0.6964 - accuracy: 0.7473 - val_loss: 0.5774 - val_accuracy: 0.7937\n",
      "Epoch 4/5\n",
      "6144/7000 [=========================>....] - ETA: 13s - loss: 0.8427 - accuracy: 0.687 - ETA: 13s - loss: 0.6769 - accuracy: 0.750 - ETA: 13s - loss: 0.6560 - accuracy: 0.750 - ETA: 13s - loss: 0.6063 - accuracy: 0.781 - ETA: 13s - loss: 0.6031 - accuracy: 0.781 - ETA: 13s - loss: 0.5843 - accuracy: 0.786 - ETA: 13s - loss: 0.5587 - accuracy: 0.799 - ETA: 12s - loss: 0.5655 - accuracy: 0.800 - ETA: 12s - loss: 0.5569 - accuracy: 0.805 - ETA: 12s - loss: 0.5756 - accuracy: 0.800 - ETA: 12s - loss: 0.5999 - accuracy: 0.792 - ETA: 12s - loss: 0.5905 - accuracy: 0.796 - ETA: 12s - loss: 0.6020 - accuracy: 0.790 - ETA: 12s - loss: 0.6210 - accuracy: 0.776 - ETA: 12s - loss: 0.6335 - accuracy: 0.758 - ETA: 12s - loss: 0.6397 - accuracy: 0.748 - ETA: 12s - loss: 0.6472 - accuracy: 0.740 - ETA: 12s - loss: 0.6356 - accuracy: 0.744 - ETA: 12s - loss: 0.6354 - accuracy: 0.750 - ETA: 12s - loss: 0.6494 - accuracy: 0.751 - ETA: 12s - loss: 0.6674 - accuracy: 0.754 - ETA: 12s - loss: 0.6616 - accuracy: 0.750 - ETA: 12s - loss: 0.6605 - accuracy: 0.747 - ETA: 12s - loss: 0.6502 - accuracy: 0.755 - ETA: 12s - loss: 0.6567 - accuracy: 0.756 - ETA: 11s - loss: 0.6627 - accuracy: 0.759 - ETA: 11s - loss: 0.6525 - accuracy: 0.766 - ETA: 11s - loss: 0.6532 - accuracy: 0.764 - ETA: 11s - loss: 0.6474 - accuracy: 0.766 - ETA: 11s - loss: 0.6472 - accuracy: 0.764 - ETA: 11s - loss: 0.6483 - accuracy: 0.758 - ETA: 11s - loss: 0.6467 - accuracy: 0.755 - ETA: 11s - loss: 0.6603 - accuracy: 0.753 - ETA: 11s - loss: 0.6557 - accuracy: 0.755 - ETA: 11s - loss: 0.6575 - accuracy: 0.749 - ETA: 11s - loss: 0.6515 - accuracy: 0.753 - ETA: 11s - loss: 0.6514 - accuracy: 0.754 - ETA: 11s - loss: 0.6470 - accuracy: 0.755 - ETA: 11s - loss: 0.6466 - accuracy: 0.756 - ETA: 11s - loss: 0.6410 - accuracy: 0.758 - ETA: 11s - loss: 0.6433 - accuracy: 0.758 - ETA: 11s - loss: 0.6391 - accuracy: 0.761 - ETA: 11s - loss: 0.6360 - accuracy: 0.763 - ETA: 10s - loss: 0.6270 - accuracy: 0.767 - ETA: 10s - loss: 0.6351 - accuracy: 0.766 - ETA: 10s - loss: 0.6399 - accuracy: 0.764 - ETA: 10s - loss: 0.6374 - accuracy: 0.762 - ETA: 10s - loss: 0.6417 - accuracy: 0.757 - ETA: 10s - loss: 0.6380 - accuracy: 0.757 - ETA: 10s - loss: 0.6338 - accuracy: 0.759 - ETA: 10s - loss: 0.6325 - accuracy: 0.761 - ETA: 10s - loss: 0.6334 - accuracy: 0.762 - ETA: 10s - loss: 0.6320 - accuracy: 0.764 - ETA: 10s - loss: 0.6338 - accuracy: 0.766 - ETA: 10s - loss: 0.6334 - accuracy: 0.767 - ETA: 10s - loss: 0.6318 - accuracy: 0.767 - ETA: 10s - loss: 0.6338 - accuracy: 0.765 - ETA: 10s - loss: 0.6332 - accuracy: 0.762 - ETA: 10s - loss: 0.6329 - accuracy: 0.761 - ETA: 10s - loss: 0.6284 - accuracy: 0.760 - ETA: 10s - loss: 0.6262 - accuracy: 0.762 - ETA: 10s - loss: 0.6283 - accuracy: 0.761 - ETA: 9s - loss: 0.6296 - accuracy: 0.761 - ETA: 9s - loss: 0.6295 - accuracy: 0.76 - ETA: 9s - loss: 0.6326 - accuracy: 0.75 - ETA: 9s - loss: 0.6313 - accuracy: 0.75 - ETA: 9s - loss: 0.6292 - accuracy: 0.75 - ETA: 9s - loss: 0.6305 - accuracy: 0.76 - ETA: 9s - loss: 0.6270 - accuracy: 0.76 - ETA: 9s - loss: 0.6270 - accuracy: 0.76 - ETA: 9s - loss: 0.6229 - accuracy: 0.76 - ETA: 9s - loss: 0.6239 - accuracy: 0.76 - ETA: 9s - loss: 0.6225 - accuracy: 0.76 - ETA: 9s - loss: 0.6227 - accuracy: 0.76 - ETA: 9s - loss: 0.6241 - accuracy: 0.76 - ETA: 9s - loss: 0.6248 - accuracy: 0.76 - ETA: 9s - loss: 0.6245 - accuracy: 0.76 - ETA: 9s - loss: 0.6218 - accuracy: 0.76 - ETA: 9s - loss: 0.6213 - accuracy: 0.76 - ETA: 8s - loss: 0.6217 - accuracy: 0.76 - ETA: 8s - loss: 0.6208 - accuracy: 0.76 - ETA: 8s - loss: 0.6216 - accuracy: 0.76 - ETA: 8s - loss: 0.6194 - accuracy: 0.76 - ETA: 8s - loss: 0.6216 - accuracy: 0.76 - ETA: 8s - loss: 0.6213 - accuracy: 0.76 - ETA: 8s - loss: 0.6209 - accuracy: 0.76 - ETA: 8s - loss: 0.6209 - accuracy: 0.76 - ETA: 8s - loss: 0.6224 - accuracy: 0.76 - ETA: 8s - loss: 0.6220 - accuracy: 0.76 - ETA: 8s - loss: 0.6223 - accuracy: 0.76 - ETA: 8s - loss: 0.6234 - accuracy: 0.76 - ETA: 8s - loss: 0.6237 - accuracy: 0.76 - ETA: 8s - loss: 0.6214 - accuracy: 0.76 - ETA: 8s - loss: 0.6208 - accuracy: 0.76 - ETA: 8s - loss: 0.6186 - accuracy: 0.76 - ETA: 8s - loss: 0.6183 - accuracy: 0.76 - ETA: 7s - loss: 0.6176 - accuracy: 0.76 - ETA: 7s - loss: 0.6174 - accuracy: 0.76 - ETA: 7s - loss: 0.6232 - accuracy: 0.76 - ETA: 7s - loss: 0.6250 - accuracy: 0.76 - ETA: 7s - loss: 0.6268 - accuracy: 0.76 - ETA: 7s - loss: 0.6273 - accuracy: 0.76 - ETA: 7s - loss: 0.6276 - accuracy: 0.76 - ETA: 7s - loss: 0.6263 - accuracy: 0.76 - ETA: 7s - loss: 0.6275 - accuracy: 0.76 - ETA: 7s - loss: 0.6264 - accuracy: 0.76 - ETA: 7s - loss: 0.6257 - accuracy: 0.76 - ETA: 7s - loss: 0.6229 - accuracy: 0.76 - ETA: 7s - loss: 0.6222 - accuracy: 0.76 - ETA: 7s - loss: 0.6248 - accuracy: 0.76 - ETA: 7s - loss: 0.6245 - accuracy: 0.76 - ETA: 7s - loss: 0.6239 - accuracy: 0.76 - ETA: 6s - loss: 0.6237 - accuracy: 0.76 - ETA: 6s - loss: 0.6229 - accuracy: 0.76 - ETA: 6s - loss: 0.6213 - accuracy: 0.76 - ETA: 6s - loss: 0.6208 - accuracy: 0.76 - ETA: 6s - loss: 0.6179 - accuracy: 0.76 - ETA: 6s - loss: 0.6176 - accuracy: 0.76 - ETA: 6s - loss: 0.6214 - accuracy: 0.76 - ETA: 6s - loss: 0.6191 - accuracy: 0.76 - ETA: 6s - loss: 0.6177 - accuracy: 0.76 - ETA: 6s - loss: 0.6179 - accuracy: 0.76 - ETA: 6s - loss: 0.6171 - accuracy: 0.76 - ETA: 6s - loss: 0.6169 - accuracy: 0.76 - ETA: 6s - loss: 0.6164 - accuracy: 0.76 - ETA: 6s - loss: 0.6155 - accuracy: 0.76 - ETA: 6s - loss: 0.6133 - accuracy: 0.76 - ETA: 6s - loss: 0.6127 - accuracy: 0.76 - ETA: 5s - loss: 0.6150 - accuracy: 0.76 - ETA: 5s - loss: 0.6142 - accuracy: 0.76 - ETA: 5s - loss: 0.6138 - accuracy: 0.76 - ETA: 5s - loss: 0.6146 - accuracy: 0.76 - ETA: 5s - loss: 0.6147 - accuracy: 0.76 - ETA: 5s - loss: 0.6146 - accuracy: 0.76 - ETA: 5s - loss: 0.6126 - accuracy: 0.76 - ETA: 5s - loss: 0.6162 - accuracy: 0.76 - ETA: 5s - loss: 0.6182 - accuracy: 0.76 - ETA: 5s - loss: 0.6183 - accuracy: 0.76 - ETA: 5s - loss: 0.6181 - accuracy: 0.76 - ETA: 5s - loss: 0.6181 - accuracy: 0.76 - ETA: 5s - loss: 0.6172 - accuracy: 0.76 - ETA: 5s - loss: 0.6182 - accuracy: 0.76 - ETA: 5s - loss: 0.6186 - accuracy: 0.76 - ETA: 5s - loss: 0.6187 - accuracy: 0.76 - ETA: 4s - loss: 0.6179 - accuracy: 0.76 - ETA: 4s - loss: 0.6176 - accuracy: 0.76 - ETA: 4s - loss: 0.6172 - accuracy: 0.76 - ETA: 4s - loss: 0.6169 - accuracy: 0.76 - ETA: 4s - loss: 0.6170 - accuracy: 0.76 - ETA: 4s - loss: 0.6176 - accuracy: 0.76 - ETA: 4s - loss: 0.6167 - accuracy: 0.76 - ETA: 4s - loss: 0.6156 - accuracy: 0.76 - ETA: 4s - loss: 0.6153 - accuracy: 0.76 - ETA: 4s - loss: 0.6151 - accuracy: 0.76 - ETA: 4s - loss: 0.6141 - accuracy: 0.76 - ETA: 4s - loss: 0.6156 - accuracy: 0.76 - ETA: 4s - loss: 0.6167 - accuracy: 0.76 - ETA: 4s - loss: 0.6167 - accuracy: 0.76 - ETA: 4s - loss: 0.6169 - accuracy: 0.76 - ETA: 3s - loss: 0.6167 - accuracy: 0.76 - ETA: 3s - loss: 0.6163 - accuracy: 0.76 - ETA: 3s - loss: 0.6156 - accuracy: 0.76 - ETA: 3s - loss: 0.6149 - accuracy: 0.76 - ETA: 3s - loss: 0.6154 - accuracy: 0.76 - ETA: 3s - loss: 0.6150 - accuracy: 0.76 - ETA: 3s - loss: 0.6145 - accuracy: 0.76 - ETA: 3s - loss: 0.6136 - accuracy: 0.76 - ETA: 3s - loss: 0.6147 - accuracy: 0.76 - ETA: 3s - loss: 0.6158 - accuracy: 0.76 - ETA: 3s - loss: 0.6150 - accuracy: 0.76 - ETA: 3s - loss: 0.6139 - accuracy: 0.76 - ETA: 3s - loss: 0.6137 - accuracy: 0.76 - ETA: 3s - loss: 0.6124 - accuracy: 0.76 - ETA: 3s - loss: 0.6128 - accuracy: 0.76 - ETA: 2s - loss: 0.6126 - accuracy: 0.76 - ETA: 2s - loss: 0.6125 - accuracy: 0.76 - ETA: 2s - loss: 0.6128 - accuracy: 0.76 - ETA: 2s - loss: 0.6137 - accuracy: 0.76 - ETA: 2s - loss: 0.6139 - accuracy: 0.76 - ETA: 2s - loss: 0.6142 - accuracy: 0.76 - ETA: 2s - loss: 0.6136 - accuracy: 0.76 - ETA: 2s - loss: 0.6123 - accuracy: 0.76 - ETA: 2s - loss: 0.6120 - accuracy: 0.76 - ETA: 2s - loss: 0.6142 - accuracy: 0.76 - ETA: 2s - loss: 0.6137 - accuracy: 0.76 - ETA: 2s - loss: 0.6133 - accuracy: 0.76 - ETA: 2s - loss: 0.6134 - accuracy: 0.76 - ETA: 2s - loss: 0.6130 - accuracy: 0.76 - ETA: 2s - loss: 0.6125 - accuracy: 0.76 - ETA: 1s - loss: 0.6122 - accuracy: 0.76 - ETA: 1s - loss: 0.6114 - accuracy: 0.76 - ETA: 1s - loss: 0.6103 - accuracy: 0.76717000/7000 [==============================] - ETA: 1s - loss: 0.6104 - accuracy: 0.76 - ETA: 1s - loss: 0.6103 - accuracy: 0.76 - ETA: 1s - loss: 0.6091 - accuracy: 0.76 - ETA: 1s - loss: 0.6083 - accuracy: 0.76 - ETA: 1s - loss: 0.6088 - accuracy: 0.76 - ETA: 1s - loss: 0.6079 - accuracy: 0.76 - ETA: 1s - loss: 0.6070 - accuracy: 0.76 - ETA: 1s - loss: 0.6067 - accuracy: 0.76 - ETA: 1s - loss: 0.6060 - accuracy: 0.76 - ETA: 1s - loss: 0.6066 - accuracy: 0.76 - ETA: 1s - loss: 0.6059 - accuracy: 0.76 - ETA: 0s - loss: 0.6055 - accuracy: 0.76 - ETA: 0s - loss: 0.6057 - accuracy: 0.76 - ETA: 0s - loss: 0.6053 - accuracy: 0.76 - ETA: 0s - loss: 0.6047 - accuracy: 0.76 - ETA: 0s - loss: 0.6045 - accuracy: 0.76 - ETA: 0s - loss: 0.6045 - accuracy: 0.76 - ETA: 0s - loss: 0.6049 - accuracy: 0.76 - ETA: 0s - loss: 0.6046 - accuracy: 0.76 - ETA: 0s - loss: 0.6046 - accuracy: 0.76 - ETA: 0s - loss: 0.6044 - accuracy: 0.76 - ETA: 0s - loss: 0.6040 - accuracy: 0.76 - ETA: 0s - loss: 0.6041 - accuracy: 0.76 - ETA: 0s - loss: 0.6036 - accuracy: 0.76 - ETA: 0s - loss: 0.6037 - accuracy: 0.76 - ETA: 0s - loss: 0.6037 - accuracy: 0.76 - 16s 2ms/sample - loss: 0.6036 - accuracy: 0.7694 - val_loss: 0.5398 - val_accuracy: 0.7937\n",
      "Epoch 5/5\n",
      "6112/7000 [=========================>....] - ETA: 14s - loss: 0.4183 - accuracy: 0.843 - ETA: 13s - loss: 0.5379 - accuracy: 0.781 - ETA: 13s - loss: 0.5507 - accuracy: 0.770 - ETA: 13s - loss: 0.5438 - accuracy: 0.773 - ETA: 13s - loss: 0.5238 - accuracy: 0.800 - ETA: 13s - loss: 0.5389 - accuracy: 0.802 - ETA: 14s - loss: 0.5224 - accuracy: 0.812 - ETA: 14s - loss: 0.5406 - accuracy: 0.796 - ETA: 14s - loss: 0.5564 - accuracy: 0.788 - ETA: 14s - loss: 0.5645 - accuracy: 0.784 - ETA: 14s - loss: 0.5589 - accuracy: 0.789 - ETA: 14s - loss: 0.5565 - accuracy: 0.791 - ETA: 14s - loss: 0.5552 - accuracy: 0.790 - ETA: 14s - loss: 0.5556 - accuracy: 0.785 - ETA: 14s - loss: 0.5538 - accuracy: 0.789 - ETA: 14s - loss: 0.5568 - accuracy: 0.789 - ETA: 14s - loss: 0.5454 - accuracy: 0.794 - ETA: 14s - loss: 0.5425 - accuracy: 0.795 - ETA: 14s - loss: 0.5410 - accuracy: 0.797 - ETA: 14s - loss: 0.5429 - accuracy: 0.798 - ETA: 14s - loss: 0.5406 - accuracy: 0.799 - ETA: 14s - loss: 0.5439 - accuracy: 0.794 - ETA: 14s - loss: 0.5441 - accuracy: 0.793 - ETA: 14s - loss: 0.5424 - accuracy: 0.791 - ETA: 15s - loss: 0.5406 - accuracy: 0.791 - ETA: 14s - loss: 0.5418 - accuracy: 0.786 - ETA: 14s - loss: 0.5448 - accuracy: 0.787 - ETA: 14s - loss: 0.5429 - accuracy: 0.790 - ETA: 14s - loss: 0.5422 - accuracy: 0.790 - ETA: 14s - loss: 0.5386 - accuracy: 0.793 - ETA: 14s - loss: 0.5474 - accuracy: 0.791 - ETA: 14s - loss: 0.5455 - accuracy: 0.793 - ETA: 13s - loss: 0.5448 - accuracy: 0.794 - ETA: 13s - loss: 0.5438 - accuracy: 0.794 - ETA: 13s - loss: 0.5463 - accuracy: 0.791 - ETA: 13s - loss: 0.5474 - accuracy: 0.789 - ETA: 13s - loss: 0.5481 - accuracy: 0.787 - ETA: 13s - loss: 0.5497 - accuracy: 0.784 - ETA: 13s - loss: 0.5503 - accuracy: 0.782 - ETA: 13s - loss: 0.5485 - accuracy: 0.784 - ETA: 13s - loss: 0.5450 - accuracy: 0.787 - ETA: 12s - loss: 0.5435 - accuracy: 0.788 - ETA: 12s - loss: 0.5456 - accuracy: 0.790 - ETA: 12s - loss: 0.5437 - accuracy: 0.791 - ETA: 12s - loss: 0.5436 - accuracy: 0.791 - ETA: 12s - loss: 0.5443 - accuracy: 0.791 - ETA: 12s - loss: 0.5451 - accuracy: 0.791 - ETA: 12s - loss: 0.5432 - accuracy: 0.793 - ETA: 12s - loss: 0.5421 - accuracy: 0.793 - ETA: 12s - loss: 0.5426 - accuracy: 0.793 - ETA: 12s - loss: 0.5434 - accuracy: 0.792 - ETA: 12s - loss: 0.5415 - accuracy: 0.793 - ETA: 11s - loss: 0.5429 - accuracy: 0.793 - ETA: 11s - loss: 0.5437 - accuracy: 0.792 - ETA: 11s - loss: 0.5427 - accuracy: 0.792 - ETA: 11s - loss: 0.5434 - accuracy: 0.791 - ETA: 11s - loss: 0.5437 - accuracy: 0.791 - ETA: 11s - loss: 0.5426 - accuracy: 0.792 - ETA: 11s - loss: 0.5399 - accuracy: 0.793 - ETA: 11s - loss: 0.5390 - accuracy: 0.793 - ETA: 11s - loss: 0.5393 - accuracy: 0.793 - ETA: 11s - loss: 0.5367 - accuracy: 0.795 - ETA: 11s - loss: 0.5340 - accuracy: 0.797 - ETA: 11s - loss: 0.5324 - accuracy: 0.798 - ETA: 10s - loss: 0.5305 - accuracy: 0.799 - ETA: 10s - loss: 0.5331 - accuracy: 0.798 - ETA: 10s - loss: 0.5298 - accuracy: 0.799 - ETA: 10s - loss: 0.5301 - accuracy: 0.800 - ETA: 10s - loss: 0.5323 - accuracy: 0.798 - ETA: 10s - loss: 0.5316 - accuracy: 0.798 - ETA: 10s - loss: 0.5309 - accuracy: 0.798 - ETA: 10s - loss: 0.5299 - accuracy: 0.799 - ETA: 10s - loss: 0.5292 - accuracy: 0.800 - ETA: 10s - loss: 0.5293 - accuracy: 0.800 - ETA: 10s - loss: 0.5293 - accuracy: 0.800 - ETA: 10s - loss: 0.5284 - accuracy: 0.800 - ETA: 10s - loss: 0.5303 - accuracy: 0.799 - ETA: 9s - loss: 0.5307 - accuracy: 0.799 - ETA: 9s - loss: 0.5328 - accuracy: 0.79 - ETA: 9s - loss: 0.5309 - accuracy: 0.79 - ETA: 9s - loss: 0.5322 - accuracy: 0.79 - ETA: 9s - loss: 0.5332 - accuracy: 0.79 - ETA: 9s - loss: 0.5324 - accuracy: 0.79 - ETA: 9s - loss: 0.5323 - accuracy: 0.79 - ETA: 9s - loss: 0.5355 - accuracy: 0.79 - ETA: 9s - loss: 0.5347 - accuracy: 0.79 - ETA: 9s - loss: 0.5337 - accuracy: 0.79 - ETA: 9s - loss: 0.5354 - accuracy: 0.79 - ETA: 9s - loss: 0.5343 - accuracy: 0.79 - ETA: 9s - loss: 0.5369 - accuracy: 0.79 - ETA: 9s - loss: 0.5386 - accuracy: 0.79 - ETA: 9s - loss: 0.5390 - accuracy: 0.79 - ETA: 9s - loss: 0.5404 - accuracy: 0.79 - ETA: 9s - loss: 0.5409 - accuracy: 0.79 - ETA: 8s - loss: 0.5420 - accuracy: 0.79 - ETA: 8s - loss: 0.5410 - accuracy: 0.79 - ETA: 8s - loss: 0.5404 - accuracy: 0.79 - ETA: 8s - loss: 0.5407 - accuracy: 0.79 - ETA: 8s - loss: 0.5392 - accuracy: 0.79 - ETA: 8s - loss: 0.5383 - accuracy: 0.79 - ETA: 8s - loss: 0.5365 - accuracy: 0.79 - ETA: 8s - loss: 0.5377 - accuracy: 0.79 - ETA: 8s - loss: 0.5373 - accuracy: 0.79 - ETA: 8s - loss: 0.5367 - accuracy: 0.79 - ETA: 8s - loss: 0.5376 - accuracy: 0.79 - ETA: 8s - loss: 0.5368 - accuracy: 0.79 - ETA: 8s - loss: 0.5361 - accuracy: 0.79 - ETA: 8s - loss: 0.5371 - accuracy: 0.79 - ETA: 8s - loss: 0.5381 - accuracy: 0.79 - ETA: 7s - loss: 0.5366 - accuracy: 0.79 - ETA: 7s - loss: 0.5352 - accuracy: 0.79 - ETA: 7s - loss: 0.5339 - accuracy: 0.79 - ETA: 7s - loss: 0.5338 - accuracy: 0.79 - ETA: 7s - loss: 0.5347 - accuracy: 0.79 - ETA: 7s - loss: 0.5347 - accuracy: 0.79 - ETA: 7s - loss: 0.5344 - accuracy: 0.79 - ETA: 7s - loss: 0.5348 - accuracy: 0.79 - ETA: 7s - loss: 0.5353 - accuracy: 0.79 - ETA: 7s - loss: 0.5359 - accuracy: 0.79 - ETA: 7s - loss: 0.5365 - accuracy: 0.79 - ETA: 7s - loss: 0.5365 - accuracy: 0.79 - ETA: 7s - loss: 0.5352 - accuracy: 0.79 - ETA: 7s - loss: 0.5371 - accuracy: 0.79 - ETA: 6s - loss: 0.5364 - accuracy: 0.79 - ETA: 6s - loss: 0.5366 - accuracy: 0.79 - ETA: 6s - loss: 0.5368 - accuracy: 0.79 - ETA: 6s - loss: 0.5375 - accuracy: 0.79 - ETA: 6s - loss: 0.5368 - accuracy: 0.79 - ETA: 6s - loss: 0.5366 - accuracy: 0.79 - ETA: 6s - loss: 0.5361 - accuracy: 0.79 - ETA: 6s - loss: 0.5365 - accuracy: 0.79 - ETA: 6s - loss: 0.5367 - accuracy: 0.79 - ETA: 6s - loss: 0.5370 - accuracy: 0.79 - ETA: 6s - loss: 0.5361 - accuracy: 0.79 - ETA: 6s - loss: 0.5354 - accuracy: 0.79 - ETA: 6s - loss: 0.5344 - accuracy: 0.79 - ETA: 6s - loss: 0.5353 - accuracy: 0.79 - ETA: 6s - loss: 0.5381 - accuracy: 0.79 - ETA: 6s - loss: 0.5395 - accuracy: 0.79 - ETA: 5s - loss: 0.5390 - accuracy: 0.79 - ETA: 5s - loss: 0.5388 - accuracy: 0.79 - ETA: 5s - loss: 0.5383 - accuracy: 0.79 - ETA: 5s - loss: 0.5381 - accuracy: 0.79 - ETA: 5s - loss: 0.5376 - accuracy: 0.79 - ETA: 5s - loss: 0.5388 - accuracy: 0.79 - ETA: 5s - loss: 0.5393 - accuracy: 0.79 - ETA: 5s - loss: 0.5394 - accuracy: 0.79 - ETA: 5s - loss: 0.5391 - accuracy: 0.79 - ETA: 5s - loss: 0.5393 - accuracy: 0.79 - ETA: 5s - loss: 0.5391 - accuracy: 0.79 - ETA: 5s - loss: 0.5394 - accuracy: 0.79 - ETA: 5s - loss: 0.5397 - accuracy: 0.79 - ETA: 5s - loss: 0.5390 - accuracy: 0.79 - ETA: 4s - loss: 0.5391 - accuracy: 0.79 - ETA: 4s - loss: 0.5395 - accuracy: 0.79 - ETA: 4s - loss: 0.5394 - accuracy: 0.79 - ETA: 4s - loss: 0.5387 - accuracy: 0.79 - ETA: 4s - loss: 0.5388 - accuracy: 0.79 - ETA: 4s - loss: 0.5389 - accuracy: 0.79 - ETA: 4s - loss: 0.5409 - accuracy: 0.79 - ETA: 4s - loss: 0.5406 - accuracy: 0.79 - ETA: 4s - loss: 0.5404 - accuracy: 0.79 - ETA: 4s - loss: 0.5407 - accuracy: 0.79 - ETA: 4s - loss: 0.5405 - accuracy: 0.79 - ETA: 4s - loss: 0.5406 - accuracy: 0.79 - ETA: 3s - loss: 0.5408 - accuracy: 0.79 - ETA: 3s - loss: 0.5424 - accuracy: 0.79 - ETA: 3s - loss: 0.5436 - accuracy: 0.79 - ETA: 3s - loss: 0.5434 - accuracy: 0.79 - ETA: 3s - loss: 0.5435 - accuracy: 0.79 - ETA: 3s - loss: 0.5436 - accuracy: 0.79 - ETA: 3s - loss: 0.5431 - accuracy: 0.79 - ETA: 3s - loss: 0.5437 - accuracy: 0.79 - ETA: 3s - loss: 0.5438 - accuracy: 0.79 - ETA: 3s - loss: 0.5445 - accuracy: 0.79 - ETA: 3s - loss: 0.5441 - accuracy: 0.79 - ETA: 3s - loss: 0.5444 - accuracy: 0.79 - ETA: 3s - loss: 0.5446 - accuracy: 0.79 - ETA: 3s - loss: 0.5453 - accuracy: 0.79 - ETA: 2s - loss: 0.5459 - accuracy: 0.78 - ETA: 2s - loss: 0.5460 - accuracy: 0.78 - ETA: 2s - loss: 0.5456 - accuracy: 0.78 - ETA: 2s - loss: 0.5452 - accuracy: 0.78 - ETA: 2s - loss: 0.5454 - accuracy: 0.78 - ETA: 2s - loss: 0.5449 - accuracy: 0.79 - ETA: 2s - loss: 0.5453 - accuracy: 0.79 - ETA: 2s - loss: 0.5465 - accuracy: 0.78 - ETA: 2s - loss: 0.5467 - accuracy: 0.78 - ETA: 2s - loss: 0.5468 - accuracy: 0.78 - ETA: 2s - loss: 0.5463 - accuracy: 0.78 - ETA: 2s - loss: 0.5459 - accuracy: 0.79027000/7000 [==============================] - ETA: 2s - loss: 0.5457 - accuracy: 0.79 - ETA: 1s - loss: 0.5456 - accuracy: 0.79 - ETA: 1s - loss: 0.5449 - accuracy: 0.79 - ETA: 1s - loss: 0.5443 - accuracy: 0.79 - ETA: 1s - loss: 0.5444 - accuracy: 0.79 - ETA: 1s - loss: 0.5437 - accuracy: 0.79 - ETA: 1s - loss: 0.5448 - accuracy: 0.79 - ETA: 1s - loss: 0.5453 - accuracy: 0.79 - ETA: 1s - loss: 0.5461 - accuracy: 0.79 - ETA: 1s - loss: 0.5460 - accuracy: 0.79 - ETA: 1s - loss: 0.5461 - accuracy: 0.79 - ETA: 1s - loss: 0.5472 - accuracy: 0.78 - ETA: 1s - loss: 0.5474 - accuracy: 0.78 - ETA: 1s - loss: 0.5468 - accuracy: 0.79 - ETA: 0s - loss: 0.5456 - accuracy: 0.79 - ETA: 0s - loss: 0.5481 - accuracy: 0.79 - ETA: 0s - loss: 0.5498 - accuracy: 0.79 - ETA: 0s - loss: 0.5508 - accuracy: 0.79 - ETA: 0s - loss: 0.5512 - accuracy: 0.78 - ETA: 0s - loss: 0.5514 - accuracy: 0.78 - ETA: 0s - loss: 0.5513 - accuracy: 0.78 - ETA: 0s - loss: 0.5518 - accuracy: 0.78 - ETA: 0s - loss: 0.5515 - accuracy: 0.78 - ETA: 0s - loss: 0.5521 - accuracy: 0.78 - ETA: 0s - loss: 0.5523 - accuracy: 0.78 - ETA: 0s - loss: 0.5519 - accuracy: 0.78 - ETA: 0s - loss: 0.5526 - accuracy: 0.78 - 17s 2ms/sample - loss: 0.5524 - accuracy: 0.7877 - val_loss: 0.5632 - val_accuracy: 0.7910\n"
     ]
    },
    {
     "data": {
      "text/html": [
       "<span style=\"color:#4527A0\"><h1 style=\"font-size:18px\">Trial complete</h1></span>"
      ],
      "text/plain": [
       "<IPython.core.display.HTML object>"
      ]
     },
     "metadata": {},
     "output_type": "display_data"
    },
    {
     "data": {
      "text/html": [
       "<span style=\"color:#4527A0\"><h1 style=\"font-size:18px\">Trial summary</h1></span>"
      ],
      "text/plain": [
       "<IPython.core.display.HTML object>"
      ]
     },
     "metadata": {},
     "output_type": "display_data"
    },
    {
     "data": {
      "text/html": [
       "<span style=\"color:cyan\"> |-Trial ID: f2a039d222a1d785ded0db30ca18988f</span>"
      ],
      "text/plain": [
       "<IPython.core.display.HTML object>"
      ]
     },
     "metadata": {},
     "output_type": "display_data"
    },
    {
     "data": {
      "text/html": [
       "<span style=\"color:cyan\"> |-Score: 0.793666660785675</span>"
      ],
      "text/plain": [
       "<IPython.core.display.HTML object>"
      ]
     },
     "metadata": {},
     "output_type": "display_data"
    },
    {
     "data": {
      "text/html": [
       "<span style=\"color:cyan\"> |-Best step: 0</span>"
      ],
      "text/plain": [
       "<IPython.core.display.HTML object>"
      ]
     },
     "metadata": {},
     "output_type": "display_data"
    },
    {
     "data": {
      "text/html": [
       "<span style=\"color:#7E57C2\"><h2 style=\"font-size:16px\">Hyperparameters:</h2></span>"
      ],
      "text/plain": [
       "<IPython.core.display.HTML object>"
      ]
     },
     "metadata": {},
     "output_type": "display_data"
    },
    {
     "data": {
      "text/html": [
       "<span style=\"color:cyan\"> |-learning_rate: 0.0001</span>"
      ],
      "text/plain": [
       "<IPython.core.display.HTML object>"
      ]
     },
     "metadata": {},
     "output_type": "display_data"
    },
    {
     "data": {
      "text/html": [
       "<span style=\"color:blue\"> |-num_layers: 15</span>"
      ],
      "text/plain": [
       "<IPython.core.display.HTML object>"
      ]
     },
     "metadata": {},
     "output_type": "display_data"
    },
    {
     "data": {
      "text/html": [
       "<span style=\"color:cyan\"> |-units_0: 448</span>"
      ],
      "text/plain": [
       "<IPython.core.display.HTML object>"
      ]
     },
     "metadata": {},
     "output_type": "display_data"
    },
    {
     "data": {
      "text/html": [
       "<span style=\"color:blue\"> |-units_1: 352</span>"
      ],
      "text/plain": [
       "<IPython.core.display.HTML object>"
      ]
     },
     "metadata": {},
     "output_type": "display_data"
    },
    {
     "data": {
      "text/html": [
       "<span style=\"color:cyan\"> |-units_10: 448</span>"
      ],
      "text/plain": [
       "<IPython.core.display.HTML object>"
      ]
     },
     "metadata": {},
     "output_type": "display_data"
    },
    {
     "data": {
      "text/html": [
       "<span style=\"color:blue\"> |-units_11: 384</span>"
      ],
      "text/plain": [
       "<IPython.core.display.HTML object>"
      ]
     },
     "metadata": {},
     "output_type": "display_data"
    },
    {
     "data": {
      "text/html": [
       "<span style=\"color:cyan\"> |-units_12: 480</span>"
      ],
      "text/plain": [
       "<IPython.core.display.HTML object>"
      ]
     },
     "metadata": {},
     "output_type": "display_data"
    },
    {
     "data": {
      "text/html": [
       "<span style=\"color:blue\"> |-units_13: 352</span>"
      ],
      "text/plain": [
       "<IPython.core.display.HTML object>"
      ]
     },
     "metadata": {},
     "output_type": "display_data"
    },
    {
     "data": {
      "text/html": [
       "<span style=\"color:cyan\"> |-units_14: 352</span>"
      ],
      "text/plain": [
       "<IPython.core.display.HTML object>"
      ]
     },
     "metadata": {},
     "output_type": "display_data"
    },
    {
     "data": {
      "text/html": [
       "<span style=\"color:blue\"> |-units_15: 64</span>"
      ],
      "text/plain": [
       "<IPython.core.display.HTML object>"
      ]
     },
     "metadata": {},
     "output_type": "display_data"
    },
    {
     "data": {
      "text/html": [
       "<span style=\"color:cyan\"> |-units_16: 256</span>"
      ],
      "text/plain": [
       "<IPython.core.display.HTML object>"
      ]
     },
     "metadata": {},
     "output_type": "display_data"
    },
    {
     "data": {
      "text/html": [
       "<span style=\"color:blue\"> |-units_17: 288</span>"
      ],
      "text/plain": [
       "<IPython.core.display.HTML object>"
      ]
     },
     "metadata": {},
     "output_type": "display_data"
    },
    {
     "data": {
      "text/html": [
       "<span style=\"color:cyan\"> |-units_2: 256</span>"
      ],
      "text/plain": [
       "<IPython.core.display.HTML object>"
      ]
     },
     "metadata": {},
     "output_type": "display_data"
    },
    {
     "data": {
      "text/html": [
       "<span style=\"color:blue\"> |-units_3: 384</span>"
      ],
      "text/plain": [
       "<IPython.core.display.HTML object>"
      ]
     },
     "metadata": {},
     "output_type": "display_data"
    },
    {
     "data": {
      "text/html": [
       "<span style=\"color:cyan\"> |-units_4: 128</span>"
      ],
      "text/plain": [
       "<IPython.core.display.HTML object>"
      ]
     },
     "metadata": {},
     "output_type": "display_data"
    },
    {
     "data": {
      "text/html": [
       "<span style=\"color:blue\"> |-units_5: 96</span>"
      ],
      "text/plain": [
       "<IPython.core.display.HTML object>"
      ]
     },
     "metadata": {},
     "output_type": "display_data"
    },
    {
     "data": {
      "text/html": [
       "<span style=\"color:cyan\"> |-units_6: 64</span>"
      ],
      "text/plain": [
       "<IPython.core.display.HTML object>"
      ]
     },
     "metadata": {},
     "output_type": "display_data"
    },
    {
     "data": {
      "text/html": [
       "<span style=\"color:blue\"> |-units_7: 224</span>"
      ],
      "text/plain": [
       "<IPython.core.display.HTML object>"
      ]
     },
     "metadata": {},
     "output_type": "display_data"
    },
    {
     "data": {
      "text/html": [
       "<span style=\"color:cyan\"> |-units_8: 288</span>"
      ],
      "text/plain": [
       "<IPython.core.display.HTML object>"
      ]
     },
     "metadata": {},
     "output_type": "display_data"
    },
    {
     "data": {
      "text/html": [
       "<span style=\"color:blue\"> |-units_9: 224</span>"
      ],
      "text/plain": [
       "<IPython.core.display.HTML object>"
      ]
     },
     "metadata": {},
     "output_type": "display_data"
    },
    {
     "name": "stdout",
     "output_type": "stream",
     "text": [
      "Train on 7000 samples, validate on 3000 samples\n",
      "Epoch 1/5\n",
      "7000/7000 [==============================] - ETA: 4:39 - loss: 703.0419 - accuracy: 0.28 - ETA: 57s - loss: 551.4151 - accuracy: 0.6812 - ETA: 36s - loss: 445.1107 - accuracy: 0.668 - ETA: 27s - loss: 374.7705 - accuracy: 0.656 - ETA: 21s - loss: 343.1798 - accuracy: 0.696 - ETA: 18s - loss: 312.7040 - accuracy: 0.705 - ETA: 16s - loss: 290.8464 - accuracy: 0.668 - ETA: 15s - loss: 280.4942 - accuracy: 0.659 - ETA: 15s - loss: 274.1240 - accuracy: 0.656 - ETA: 15s - loss: 269.1759 - accuracy: 0.654 - ETA: 14s - loss: 259.1143 - accuracy: 0.663 - ETA: 12s - loss: 241.2071 - accuracy: 0.671 - ETA: 11s - loss: 233.9718 - accuracy: 0.676 - ETA: 10s - loss: 224.5893 - accuracy: 0.692 - ETA: 9s - loss: 212.4588 - accuracy: 0.682 - ETA: 8s - loss: 203.9336 - accuracy: 0.69 - ETA: 7s - loss: 194.1784 - accuracy: 0.68 - ETA: 7s - loss: 183.6605 - accuracy: 0.69 - ETA: 6s - loss: 172.8782 - accuracy: 0.69 - ETA: 6s - loss: 166.2786 - accuracy: 0.68 - ETA: 6s - loss: 165.5635 - accuracy: 0.67 - ETA: 5s - loss: 163.1162 - accuracy: 0.67 - ETA: 5s - loss: 162.8061 - accuracy: 0.68 - ETA: 5s - loss: 162.8618 - accuracy: 0.68 - ETA: 5s - loss: 163.1858 - accuracy: 0.67 - ETA: 4s - loss: 163.1197 - accuracy: 0.67 - ETA: 4s - loss: 167.6727 - accuracy: 0.68 - ETA: 4s - loss: 165.6292 - accuracy: 0.68 - ETA: 4s - loss: 162.6218 - accuracy: 0.68 - ETA: 4s - loss: 162.5392 - accuracy: 0.68 - ETA: 3s - loss: 160.5797 - accuracy: 0.68 - ETA: 3s - loss: 157.9990 - accuracy: 0.68 - ETA: 3s - loss: 154.8534 - accuracy: 0.68 - ETA: 3s - loss: 151.5442 - accuracy: 0.68 - ETA: 3s - loss: 148.3618 - accuracy: 0.68 - ETA: 3s - loss: 146.4686 - accuracy: 0.68 - ETA: 3s - loss: 145.7521 - accuracy: 0.68 - ETA: 2s - loss: 143.3811 - accuracy: 0.68 - ETA: 2s - loss: 141.6663 - accuracy: 0.68 - ETA: 2s - loss: 139.2805 - accuracy: 0.68 - ETA: 2s - loss: 137.3639 - accuracy: 0.68 - ETA: 2s - loss: 135.3425 - accuracy: 0.68 - ETA: 2s - loss: 134.4577 - accuracy: 0.67 - ETA: 2s - loss: 132.3192 - accuracy: 0.67 - ETA: 2s - loss: 131.3835 - accuracy: 0.68 - ETA: 1s - loss: 128.9202 - accuracy: 0.68 - ETA: 1s - loss: 127.2008 - accuracy: 0.68 - ETA: 1s - loss: 125.7642 - accuracy: 0.67 - ETA: 1s - loss: 124.1888 - accuracy: 0.67 - ETA: 1s - loss: 123.0524 - accuracy: 0.67 - ETA: 1s - loss: 121.7837 - accuracy: 0.68 - ETA: 1s - loss: 120.7176 - accuracy: 0.67 - ETA: 1s - loss: 119.2496 - accuracy: 0.67 - ETA: 1s - loss: 118.0606 - accuracy: 0.67 - ETA: 1s - loss: 116.7263 - accuracy: 0.67 - ETA: 1s - loss: 115.6778 - accuracy: 0.67 - ETA: 0s - loss: 114.6866 - accuracy: 0.67 - ETA: 0s - loss: 113.8172 - accuracy: 0.67 - ETA: 0s - loss: 113.6420 - accuracy: 0.67 - ETA: 0s - loss: 114.4118 - accuracy: 0.67 - ETA: 0s - loss: 113.9355 - accuracy: 0.67 - ETA: 0s - loss: 113.4971 - accuracy: 0.68 - ETA: 0s - loss: 112.4505 - accuracy: 0.68 - ETA: 0s - loss: 111.6144 - accuracy: 0.68 - ETA: 0s - loss: 110.8307 - accuracy: 0.68 - ETA: 0s - loss: 110.4904 - accuracy: 0.68 - ETA: 0s - loss: 110.0801 - accuracy: 0.68 - ETA: 0s - loss: 109.6846 - accuracy: 0.68 - 6s 834us/sample - loss: 109.3247 - accuracy: 0.6787 - val_loss: 33.6105 - val_accuracy: 0.7607\n",
      "Epoch 2/5\n",
      "7000/7000 [==============================] - ETA: 5s - loss: 31.4400 - accuracy: 0.718 - ETA: 4s - loss: 53.4171 - accuracy: 0.726 - ETA: 3s - loss: 54.4026 - accuracy: 0.695 - ETA: 3s - loss: 65.4068 - accuracy: 0.656 - ETA: 3s - loss: 75.6336 - accuracy: 0.658 - ETA: 3s - loss: 78.9461 - accuracy: 0.680 - ETA: 3s - loss: 85.9344 - accuracy: 0.681 - ETA: 3s - loss: 84.1265 - accuracy: 0.678 - ETA: 3s - loss: 82.5179 - accuracy: 0.691 - ETA: 3s - loss: 77.0886 - accuracy: 0.677 - ETA: 3s - loss: 76.6533 - accuracy: 0.683 - ETA: 3s - loss: 78.1892 - accuracy: 0.675 - ETA: 3s - loss: 75.9556 - accuracy: 0.674 - ETA: 3s - loss: 75.7868 - accuracy: 0.668 - ETA: 3s - loss: 74.4966 - accuracy: 0.680 - ETA: 3s - loss: 75.1841 - accuracy: 0.677 - ETA: 2s - loss: 77.0728 - accuracy: 0.674 - ETA: 2s - loss: 83.3871 - accuracy: 0.681 - ETA: 2s - loss: 80.9327 - accuracy: 0.680 - ETA: 2s - loss: 79.3666 - accuracy: 0.684 - ETA: 2s - loss: 78.5551 - accuracy: 0.676 - ETA: 2s - loss: 77.6161 - accuracy: 0.677 - ETA: 2s - loss: 76.3986 - accuracy: 0.676 - ETA: 2s - loss: 74.9195 - accuracy: 0.672 - ETA: 2s - loss: 73.7988 - accuracy: 0.672 - ETA: 2s - loss: 71.9597 - accuracy: 0.674 - ETA: 2s - loss: 69.9814 - accuracy: 0.677 - ETA: 2s - loss: 69.7420 - accuracy: 0.675 - ETA: 2s - loss: 69.8065 - accuracy: 0.672 - ETA: 2s - loss: 69.1503 - accuracy: 0.674 - ETA: 2s - loss: 68.0227 - accuracy: 0.673 - ETA: 2s - loss: 68.1098 - accuracy: 0.673 - ETA: 2s - loss: 68.2210 - accuracy: 0.668 - ETA: 2s - loss: 68.6256 - accuracy: 0.667 - ETA: 2s - loss: 68.3320 - accuracy: 0.668 - ETA: 2s - loss: 68.2936 - accuracy: 0.668 - ETA: 2s - loss: 68.8413 - accuracy: 0.666 - ETA: 2s - loss: 69.7593 - accuracy: 0.664 - ETA: 1s - loss: 73.9179 - accuracy: 0.666 - ETA: 1s - loss: 77.0918 - accuracy: 0.661 - ETA: 1s - loss: 76.5880 - accuracy: 0.665 - ETA: 1s - loss: 76.7243 - accuracy: 0.666 - ETA: 1s - loss: 76.8594 - accuracy: 0.664 - ETA: 1s - loss: 76.6784 - accuracy: 0.664 - ETA: 1s - loss: 77.0128 - accuracy: 0.667 - ETA: 1s - loss: 77.3226 - accuracy: 0.664 - ETA: 1s - loss: 76.7990 - accuracy: 0.666 - ETA: 1s - loss: 77.4118 - accuracy: 0.663 - ETA: 1s - loss: 78.1486 - accuracy: 0.665 - ETA: 1s - loss: 77.4780 - accuracy: 0.664 - ETA: 1s - loss: 76.7472 - accuracy: 0.665 - ETA: 1s - loss: 75.8873 - accuracy: 0.666 - ETA: 1s - loss: 75.0375 - accuracy: 0.670 - ETA: 1s - loss: 74.7504 - accuracy: 0.669 - ETA: 1s - loss: 74.9587 - accuracy: 0.668 - ETA: 0s - loss: 74.5334 - accuracy: 0.669 - ETA: 0s - loss: 75.1065 - accuracy: 0.671 - ETA: 0s - loss: 74.9952 - accuracy: 0.669 - ETA: 0s - loss: 74.7164 - accuracy: 0.670 - ETA: 0s - loss: 74.7810 - accuracy: 0.672 - ETA: 0s - loss: 74.9052 - accuracy: 0.671 - ETA: 0s - loss: 75.0289 - accuracy: 0.672 - ETA: 0s - loss: 74.5649 - accuracy: 0.675 - ETA: 0s - loss: 74.4021 - accuracy: 0.676 - ETA: 0s - loss: 74.4443 - accuracy: 0.676 - ETA: 0s - loss: 73.6229 - accuracy: 0.677 - ETA: 0s - loss: 73.9065 - accuracy: 0.674 - ETA: 0s - loss: 73.0875 - accuracy: 0.675 - ETA: 0s - loss: 72.6465 - accuracy: 0.676 - ETA: 0s - loss: 73.5128 - accuracy: 0.676 - ETA: 0s - loss: 73.2084 - accuracy: 0.676 - ETA: 0s - loss: 73.0004 - accuracy: 0.678 - ETA: 0s - loss: 72.9292 - accuracy: 0.677 - ETA: 0s - loss: 73.4744 - accuracy: 0.676 - ETA: 0s - loss: 73.7960 - accuracy: 0.678 - 5s 663us/sample - loss: 73.6570 - accuracy: 0.6790 - val_loss: 92.8675 - val_accuracy: 0.5537\n",
      "Epoch 3/5\n",
      "7000/7000 [==============================] - ETA: 6s - loss: 74.7736 - accuracy: 0.593 - ETA: 4s - loss: 55.5243 - accuracy: 0.710 - ETA: 4s - loss: 61.8823 - accuracy: 0.718 - ETA: 4s - loss: 92.0045 - accuracy: 0.728 - ETA: 3s - loss: 97.9543 - accuracy: 0.685 - ETA: 3s - loss: 96.3941 - accuracy: 0.660 - ETA: 3s - loss: 86.6779 - accuracy: 0.649 - ETA: 3s - loss: 82.7074 - accuracy: 0.654 - ETA: 3s - loss: 84.9863 - accuracy: 0.676 - ETA: 3s - loss: 86.3279 - accuracy: 0.667 - ETA: 3s - loss: 86.4751 - accuracy: 0.679 - ETA: 3s - loss: 84.8562 - accuracy: 0.684 - ETA: 3s - loss: 85.9316 - accuracy: 0.682 - ETA: 3s - loss: 82.8577 - accuracy: 0.675 - ETA: 3s - loss: 79.8035 - accuracy: 0.677 - ETA: 3s - loss: 76.5591 - accuracy: 0.682 - ETA: 3s - loss: 73.9420 - accuracy: 0.689 - ETA: 3s - loss: 72.1639 - accuracy: 0.694 - ETA: 2s - loss: 72.1704 - accuracy: 0.688 - ETA: 2s - loss: 71.5269 - accuracy: 0.688 - ETA: 2s - loss: 74.9102 - accuracy: 0.684 - ETA: 2s - loss: 76.7871 - accuracy: 0.680 - ETA: 2s - loss: 77.1342 - accuracy: 0.682 - ETA: 2s - loss: 76.5306 - accuracy: 0.682 - ETA: 2s - loss: 75.4586 - accuracy: 0.681 - ETA: 2s - loss: 75.9859 - accuracy: 0.679 - ETA: 2s - loss: 76.5177 - accuracy: 0.680 - ETA: 2s - loss: 76.8105 - accuracy: 0.683 - ETA: 2s - loss: 77.0532 - accuracy: 0.681 - ETA: 2s - loss: 77.6961 - accuracy: 0.677 - ETA: 2s - loss: 76.1335 - accuracy: 0.677 - ETA: 2s - loss: 75.3943 - accuracy: 0.681 - ETA: 2s - loss: 74.6917 - accuracy: 0.683 - ETA: 2s - loss: 73.9829 - accuracy: 0.684 - ETA: 2s - loss: 72.9303 - accuracy: 0.686 - ETA: 2s - loss: 73.4657 - accuracy: 0.679 - ETA: 2s - loss: 72.9836 - accuracy: 0.680 - ETA: 1s - loss: 73.4159 - accuracy: 0.681 - ETA: 1s - loss: 73.1646 - accuracy: 0.683 - ETA: 1s - loss: 72.5327 - accuracy: 0.683 - ETA: 1s - loss: 72.1627 - accuracy: 0.682 - ETA: 1s - loss: 71.4791 - accuracy: 0.685 - ETA: 1s - loss: 71.1913 - accuracy: 0.685 - ETA: 1s - loss: 70.7627 - accuracy: 0.688 - ETA: 1s - loss: 70.3022 - accuracy: 0.688 - ETA: 1s - loss: 69.5707 - accuracy: 0.683 - ETA: 1s - loss: 68.8292 - accuracy: 0.684 - ETA: 1s - loss: 67.7967 - accuracy: 0.686 - ETA: 1s - loss: 67.0562 - accuracy: 0.689 - ETA: 1s - loss: 66.3592 - accuracy: 0.688 - ETA: 1s - loss: 65.4991 - accuracy: 0.688 - ETA: 1s - loss: 65.3695 - accuracy: 0.687 - ETA: 1s - loss: 65.0110 - accuracy: 0.686 - ETA: 1s - loss: 64.3562 - accuracy: 0.688 - ETA: 1s - loss: 64.1793 - accuracy: 0.687 - ETA: 1s - loss: 63.6988 - accuracy: 0.687 - ETA: 0s - loss: 63.6640 - accuracy: 0.685 - ETA: 0s - loss: 63.2190 - accuracy: 0.687 - ETA: 0s - loss: 62.6437 - accuracy: 0.686 - ETA: 0s - loss: 62.2026 - accuracy: 0.688 - ETA: 0s - loss: 62.0162 - accuracy: 0.688 - ETA: 0s - loss: 61.6127 - accuracy: 0.690 - ETA: 0s - loss: 61.0766 - accuracy: 0.691 - ETA: 0s - loss: 60.6470 - accuracy: 0.691 - ETA: 0s - loss: 60.1833 - accuracy: 0.691 - ETA: 0s - loss: 60.3777 - accuracy: 0.691 - ETA: 0s - loss: 60.2777 - accuracy: 0.689 - ETA: 0s - loss: 60.3846 - accuracy: 0.687 - ETA: 0s - loss: 60.8458 - accuracy: 0.688 - ETA: 0s - loss: 61.2231 - accuracy: 0.690 - ETA: 0s - loss: 61.5643 - accuracy: 0.690 - ETA: 0s - loss: 62.5202 - accuracy: 0.687 - ETA: 0s - loss: 62.9640 - accuracy: 0.688 - ETA: 0s - loss: 63.5135 - accuracy: 0.689 - ETA: 0s - loss: 63.1587 - accuracy: 0.686 - ETA: 0s - loss: 63.0911 - accuracy: 0.687 - ETA: 0s - loss: 63.2817 - accuracy: 0.688 - ETA: 0s - loss: 63.3034 - accuracy: 0.687 - 5s 693us/sample - loss: 63.4792 - accuracy: 0.6877 - val_loss: 92.9110 - val_accuracy: 0.7920\n",
      "Epoch 4/5\n",
      "7000/7000 [==============================] - ETA: 6s - loss: 89.5137 - accuracy: 0.812 - ETA: 5s - loss: 116.4004 - accuracy: 0.61 - ETA: 5s - loss: 83.3461 - accuracy: 0.6625 - ETA: 5s - loss: 80.5250 - accuracy: 0.625 - ETA: 5s - loss: 73.4738 - accuracy: 0.662 - ETA: 5s - loss: 72.4147 - accuracy: 0.658 - ETA: 5s - loss: 69.1086 - accuracy: 0.656 - ETA: 5s - loss: 62.8740 - accuracy: 0.669 - ETA: 5s - loss: 61.1996 - accuracy: 0.668 - ETA: 4s - loss: 57.7321 - accuracy: 0.673 - ETA: 4s - loss: 55.2511 - accuracy: 0.668 - ETA: 4s - loss: 57.8867 - accuracy: 0.665 - ETA: 4s - loss: 55.4104 - accuracy: 0.666 - ETA: 4s - loss: 56.2741 - accuracy: 0.671 - ETA: 4s - loss: 55.3081 - accuracy: 0.663 - ETA: 3s - loss: 54.3682 - accuracy: 0.668 - ETA: 3s - loss: 55.9363 - accuracy: 0.668 - ETA: 3s - loss: 58.0291 - accuracy: 0.674 - ETA: 3s - loss: 57.8039 - accuracy: 0.676 - ETA: 3s - loss: 56.5310 - accuracy: 0.677 - ETA: 3s - loss: 55.0129 - accuracy: 0.674 - ETA: 3s - loss: 53.1851 - accuracy: 0.672 - ETA: 3s - loss: 51.2252 - accuracy: 0.680 - ETA: 3s - loss: 50.6705 - accuracy: 0.677 - ETA: 3s - loss: 52.2130 - accuracy: 0.684 - ETA: 2s - loss: 51.4604 - accuracy: 0.687 - ETA: 2s - loss: 50.5774 - accuracy: 0.687 - ETA: 2s - loss: 50.1923 - accuracy: 0.686 - ETA: 2s - loss: 52.2091 - accuracy: 0.691 - ETA: 2s - loss: 52.0191 - accuracy: 0.688 - ETA: 2s - loss: 52.2525 - accuracy: 0.691 - ETA: 2s - loss: 51.3270 - accuracy: 0.686 - ETA: 2s - loss: 51.0069 - accuracy: 0.685 - ETA: 2s - loss: 50.2825 - accuracy: 0.689 - ETA: 2s - loss: 49.5547 - accuracy: 0.689 - ETA: 2s - loss: 50.1054 - accuracy: 0.690 - ETA: 2s - loss: 50.0280 - accuracy: 0.687 - ETA: 2s - loss: 50.0735 - accuracy: 0.691 - ETA: 2s - loss: 49.9200 - accuracy: 0.695 - ETA: 2s - loss: 49.9365 - accuracy: 0.693 - ETA: 1s - loss: 49.3366 - accuracy: 0.690 - ETA: 1s - loss: 49.0858 - accuracy: 0.691 - ETA: 1s - loss: 49.2371 - accuracy: 0.689 - ETA: 1s - loss: 49.0215 - accuracy: 0.690 - ETA: 1s - loss: 48.4879 - accuracy: 0.693 - ETA: 1s - loss: 48.5208 - accuracy: 0.691 - ETA: 1s - loss: 48.6869 - accuracy: 0.692 - ETA: 1s - loss: 49.0572 - accuracy: 0.689 - ETA: 1s - loss: 49.3230 - accuracy: 0.689 - ETA: 1s - loss: 49.4215 - accuracy: 0.689 - ETA: 1s - loss: 49.4903 - accuracy: 0.687 - ETA: 1s - loss: 49.6217 - accuracy: 0.691 - ETA: 1s - loss: 49.6417 - accuracy: 0.690 - ETA: 1s - loss: 50.3657 - accuracy: 0.693 - ETA: 1s - loss: 50.9615 - accuracy: 0.695 - ETA: 1s - loss: 52.0741 - accuracy: 0.691 - ETA: 0s - loss: 53.4888 - accuracy: 0.693 - ETA: 0s - loss: 54.2676 - accuracy: 0.695 - ETA: 0s - loss: 54.5359 - accuracy: 0.694 - ETA: 0s - loss: 54.6550 - accuracy: 0.693 - ETA: 0s - loss: 54.9084 - accuracy: 0.693 - ETA: 0s - loss: 55.7544 - accuracy: 0.692 - ETA: 0s - loss: 55.9559 - accuracy: 0.692 - ETA: 0s - loss: 56.2133 - accuracy: 0.692 - ETA: 0s - loss: 57.0468 - accuracy: 0.694 - ETA: 0s - loss: 57.4410 - accuracy: 0.693 - ETA: 0s - loss: 58.1529 - accuracy: 0.693 - ETA: 0s - loss: 58.1884 - accuracy: 0.693 - ETA: 0s - loss: 57.7971 - accuracy: 0.691 - ETA: 0s - loss: 57.6025 - accuracy: 0.691 - ETA: 0s - loss: 57.3574 - accuracy: 0.691 - ETA: 0s - loss: 57.1263 - accuracy: 0.692 - ETA: 0s - loss: 56.6905 - accuracy: 0.692 - ETA: 0s - loss: 56.4805 - accuracy: 0.691 - ETA: 0s - loss: 56.6735 - accuracy: 0.690 - 5s 673us/sample - loss: 56.8885 - accuracy: 0.6899 - val_loss: 81.1918 - val_accuracy: 0.7937\n",
      "Epoch 5/5\n",
      "7000/7000 [==============================] - ETA: 6s - loss: 60.5037 - accuracy: 0.812 - ETA: 5s - loss: 59.5323 - accuracy: 0.739 - ETA: 4s - loss: 64.5910 - accuracy: 0.625 - ETA: 4s - loss: 88.4195 - accuracy: 0.638 - ETA: 4s - loss: 112.3587 - accuracy: 0.65 - ETA: 4s - loss: 104.3240 - accuracy: 0.62 - ETA: 3s - loss: 107.8179 - accuracy: 0.63 - ETA: 3s - loss: 109.5436 - accuracy: 0.65 - ETA: 3s - loss: 112.9547 - accuracy: 0.63 - ETA: 3s - loss: 108.7422 - accuracy: 0.65 - ETA: 3s - loss: 104.9584 - accuracy: 0.66 - ETA: 3s - loss: 100.6393 - accuracy: 0.67 - ETA: 3s - loss: 100.8750 - accuracy: 0.65 - ETA: 3s - loss: 97.1830 - accuracy: 0.6578 - ETA: 3s - loss: 95.1562 - accuracy: 0.667 - ETA: 3s - loss: 96.6959 - accuracy: 0.663 - ETA: 3s - loss: 95.5029 - accuracy: 0.668 - ETA: 3s - loss: 93.2836 - accuracy: 0.665 - ETA: 3s - loss: 94.0403 - accuracy: 0.671 - ETA: 2s - loss: 92.3372 - accuracy: 0.669 - ETA: 2s - loss: 91.1822 - accuracy: 0.671 - ETA: 2s - loss: 89.4277 - accuracy: 0.677 - ETA: 2s - loss: 89.4814 - accuracy: 0.681 - ETA: 2s - loss: 89.2565 - accuracy: 0.678 - ETA: 2s - loss: 89.4111 - accuracy: 0.679 - ETA: 2s - loss: 88.7823 - accuracy: 0.685 - ETA: 2s - loss: 90.4777 - accuracy: 0.674 - ETA: 2s - loss: 90.4858 - accuracy: 0.680 - ETA: 2s - loss: 92.5645 - accuracy: 0.683 - ETA: 2s - loss: 92.2544 - accuracy: 0.680 - ETA: 2s - loss: 89.5500 - accuracy: 0.678 - ETA: 2s - loss: 87.3084 - accuracy: 0.675 - ETA: 2s - loss: 87.0565 - accuracy: 0.681 - ETA: 2s - loss: 86.6020 - accuracy: 0.673 - ETA: 1s - loss: 86.6060 - accuracy: 0.676 - ETA: 1s - loss: 85.0968 - accuracy: 0.676 - ETA: 1s - loss: 86.4260 - accuracy: 0.674 - ETA: 1s - loss: 85.7399 - accuracy: 0.677 - ETA: 1s - loss: 86.0758 - accuracy: 0.683 - ETA: 1s - loss: 85.5854 - accuracy: 0.684 - ETA: 1s - loss: 84.4817 - accuracy: 0.687 - ETA: 1s - loss: 83.4992 - accuracy: 0.685 - ETA: 1s - loss: 82.3629 - accuracy: 0.687 - ETA: 1s - loss: 81.0749 - accuracy: 0.685 - ETA: 1s - loss: 80.4088 - accuracy: 0.684 - ETA: 1s - loss: 80.1894 - accuracy: 0.685 - ETA: 1s - loss: 79.7423 - accuracy: 0.686 - ETA: 1s - loss: 79.2746 - accuracy: 0.686 - ETA: 1s - loss: 78.0504 - accuracy: 0.686 - ETA: 1s - loss: 77.4455 - accuracy: 0.688 - ETA: 0s - loss: 77.0889 - accuracy: 0.687 - ETA: 0s - loss: 78.0110 - accuracy: 0.683 - ETA: 0s - loss: 78.8346 - accuracy: 0.685 - ETA: 0s - loss: 79.9458 - accuracy: 0.687 - ETA: 0s - loss: 79.8931 - accuracy: 0.683 - ETA: 0s - loss: 79.4463 - accuracy: 0.686 - ETA: 0s - loss: 79.3212 - accuracy: 0.683 - ETA: 0s - loss: 79.8128 - accuracy: 0.684 - ETA: 0s - loss: 80.4417 - accuracy: 0.686 - ETA: 0s - loss: 80.5760 - accuracy: 0.682 - ETA: 0s - loss: 80.4968 - accuracy: 0.684 - ETA: 0s - loss: 80.6535 - accuracy: 0.685 - ETA: 0s - loss: 80.3072 - accuracy: 0.683 - ETA: 0s - loss: 79.8225 - accuracy: 0.683 - ETA: 0s - loss: 80.1128 - accuracy: 0.683 - ETA: 0s - loss: 80.2414 - accuracy: 0.683 - ETA: 0s - loss: 80.3145 - accuracy: 0.682 - ETA: 0s - loss: 80.2054 - accuracy: 0.681 - ETA: 0s - loss: 79.8577 - accuracy: 0.682 - ETA: 0s - loss: 79.6898 - accuracy: 0.680 - ETA: 0s - loss: 79.7907 - accuracy: 0.681 - ETA: 0s - loss: 79.6224 - accuracy: 0.682 - 4s 642us/sample - loss: 79.4548 - accuracy: 0.6810 - val_loss: 24.6291 - val_accuracy: 0.7017\n"
     ]
    },
    {
     "data": {
      "text/html": [
       "<span style=\"color:#4527A0\"><h1 style=\"font-size:18px\">Trial complete</h1></span>"
      ],
      "text/plain": [
       "<IPython.core.display.HTML object>"
      ]
     },
     "metadata": {},
     "output_type": "display_data"
    },
    {
     "data": {
      "text/html": [
       "<span style=\"color:#4527A0\"><h1 style=\"font-size:18px\">Trial summary</h1></span>"
      ],
      "text/plain": [
       "<IPython.core.display.HTML object>"
      ]
     },
     "metadata": {},
     "output_type": "display_data"
    },
    {
     "data": {
      "text/html": [
       "<span style=\"color:cyan\"> |-Trial ID: 281715988b88e09cd8af905aec6c6e22</span>"
      ],
      "text/plain": [
       "<IPython.core.display.HTML object>"
      ]
     },
     "metadata": {},
     "output_type": "display_data"
    },
    {
     "data": {
      "text/html": [
       "<span style=\"color:cyan\"> |-Score: 0.793666660785675</span>"
      ],
      "text/plain": [
       "<IPython.core.display.HTML object>"
      ]
     },
     "metadata": {},
     "output_type": "display_data"
    },
    {
     "data": {
      "text/html": [
       "<span style=\"color:cyan\"> |-Best step: 0</span>"
      ],
      "text/plain": [
       "<IPython.core.display.HTML object>"
      ]
     },
     "metadata": {},
     "output_type": "display_data"
    },
    {
     "data": {
      "text/html": [
       "<span style=\"color:#7E57C2\"><h2 style=\"font-size:16px\">Hyperparameters:</h2></span>"
      ],
      "text/plain": [
       "<IPython.core.display.HTML object>"
      ]
     },
     "metadata": {},
     "output_type": "display_data"
    },
    {
     "data": {
      "text/html": [
       "<span style=\"color:cyan\"> |-learning_rate: 0.0001</span>"
      ],
      "text/plain": [
       "<IPython.core.display.HTML object>"
      ]
     },
     "metadata": {},
     "output_type": "display_data"
    },
    {
     "data": {
      "text/html": [
       "<span style=\"color:blue\"> |-num_layers: 4</span>"
      ],
      "text/plain": [
       "<IPython.core.display.HTML object>"
      ]
     },
     "metadata": {},
     "output_type": "display_data"
    },
    {
     "data": {
      "text/html": [
       "<span style=\"color:cyan\"> |-units_0: 128</span>"
      ],
      "text/plain": [
       "<IPython.core.display.HTML object>"
      ]
     },
     "metadata": {},
     "output_type": "display_data"
    },
    {
     "data": {
      "text/html": [
       "<span style=\"color:blue\"> |-units_1: 352</span>"
      ],
      "text/plain": [
       "<IPython.core.display.HTML object>"
      ]
     },
     "metadata": {},
     "output_type": "display_data"
    },
    {
     "data": {
      "text/html": [
       "<span style=\"color:cyan\"> |-units_10: 192</span>"
      ],
      "text/plain": [
       "<IPython.core.display.HTML object>"
      ]
     },
     "metadata": {},
     "output_type": "display_data"
    },
    {
     "data": {
      "text/html": [
       "<span style=\"color:blue\"> |-units_11: 192</span>"
      ],
      "text/plain": [
       "<IPython.core.display.HTML object>"
      ]
     },
     "metadata": {},
     "output_type": "display_data"
    },
    {
     "data": {
      "text/html": [
       "<span style=\"color:cyan\"> |-units_12: 256</span>"
      ],
      "text/plain": [
       "<IPython.core.display.HTML object>"
      ]
     },
     "metadata": {},
     "output_type": "display_data"
    },
    {
     "data": {
      "text/html": [
       "<span style=\"color:blue\"> |-units_13: 64</span>"
      ],
      "text/plain": [
       "<IPython.core.display.HTML object>"
      ]
     },
     "metadata": {},
     "output_type": "display_data"
    },
    {
     "data": {
      "text/html": [
       "<span style=\"color:cyan\"> |-units_14: 416</span>"
      ],
      "text/plain": [
       "<IPython.core.display.HTML object>"
      ]
     },
     "metadata": {},
     "output_type": "display_data"
    },
    {
     "data": {
      "text/html": [
       "<span style=\"color:blue\"> |-units_15: 224</span>"
      ],
      "text/plain": [
       "<IPython.core.display.HTML object>"
      ]
     },
     "metadata": {},
     "output_type": "display_data"
    },
    {
     "data": {
      "text/html": [
       "<span style=\"color:cyan\"> |-units_16: 192</span>"
      ],
      "text/plain": [
       "<IPython.core.display.HTML object>"
      ]
     },
     "metadata": {},
     "output_type": "display_data"
    },
    {
     "data": {
      "text/html": [
       "<span style=\"color:blue\"> |-units_17: 352</span>"
      ],
      "text/plain": [
       "<IPython.core.display.HTML object>"
      ]
     },
     "metadata": {},
     "output_type": "display_data"
    },
    {
     "data": {
      "text/html": [
       "<span style=\"color:cyan\"> |-units_2: 288</span>"
      ],
      "text/plain": [
       "<IPython.core.display.HTML object>"
      ]
     },
     "metadata": {},
     "output_type": "display_data"
    },
    {
     "data": {
      "text/html": [
       "<span style=\"color:blue\"> |-units_3: 224</span>"
      ],
      "text/plain": [
       "<IPython.core.display.HTML object>"
      ]
     },
     "metadata": {},
     "output_type": "display_data"
    },
    {
     "data": {
      "text/html": [
       "<span style=\"color:cyan\"> |-units_4: 320</span>"
      ],
      "text/plain": [
       "<IPython.core.display.HTML object>"
      ]
     },
     "metadata": {},
     "output_type": "display_data"
    },
    {
     "data": {
      "text/html": [
       "<span style=\"color:blue\"> |-units_5: 128</span>"
      ],
      "text/plain": [
       "<IPython.core.display.HTML object>"
      ]
     },
     "metadata": {},
     "output_type": "display_data"
    },
    {
     "data": {
      "text/html": [
       "<span style=\"color:cyan\"> |-units_6: 416</span>"
      ],
      "text/plain": [
       "<IPython.core.display.HTML object>"
      ]
     },
     "metadata": {},
     "output_type": "display_data"
    },
    {
     "data": {
      "text/html": [
       "<span style=\"color:blue\"> |-units_7: 128</span>"
      ],
      "text/plain": [
       "<IPython.core.display.HTML object>"
      ]
     },
     "metadata": {},
     "output_type": "display_data"
    },
    {
     "data": {
      "text/html": [
       "<span style=\"color:cyan\"> |-units_8: 384</span>"
      ],
      "text/plain": [
       "<IPython.core.display.HTML object>"
      ]
     },
     "metadata": {},
     "output_type": "display_data"
    },
    {
     "data": {
      "text/html": [
       "<span style=\"color:blue\"> |-units_9: 224</span>"
      ],
      "text/plain": [
       "<IPython.core.display.HTML object>"
      ]
     },
     "metadata": {},
     "output_type": "display_data"
    },
    {
     "name": "stdout",
     "output_type": "stream",
     "text": [
      "Train on 7000 samples, validate on 3000 samples\n",
      "Epoch 1/5\n",
      "7000/7000 [==============================] - ETA: 8:18 - loss: 73.0278 - accuracy: 0.218 - ETA: 2:49 - loss: 236.7736 - accuracy: 0.53 - ETA: 1:44 - loss: 153.0343 - accuracy: 0.52 - ETA: 1:15 - loss: 113.4953 - accuracy: 0.50 - ETA: 1:00 - loss: 89.9560 - accuracy: 0.5660 - ETA: 50s - loss: 74.0418 - accuracy: 0.590 - ETA: 43s - loss: 63.1687 - accuracy: 0.62 - ETA: 40s - loss: 59.0566 - accuracy: 0.59 - ETA: 36s - loss: 52.2815 - accuracy: 0.62 - ETA: 32s - loss: 46.8942 - accuracy: 0.64 - ETA: 31s - loss: 44.4837 - accuracy: 0.65 - ETA: 28s - loss: 40.5783 - accuracy: 0.64 - ETA: 27s - loss: 38.8821 - accuracy: 0.64 - ETA: 25s - loss: 35.9275 - accuracy: 0.63 - ETA: 25s - loss: 34.5163 - accuracy: 0.64 - ETA: 23s - loss: 32.0418 - accuracy: 0.66 - ETA: 22s - loss: 29.8874 - accuracy: 0.68 - ETA: 20s - loss: 27.9995 - accuracy: 0.67 - ETA: 20s - loss: 27.1833 - accuracy: 0.68 - ETA: 19s - loss: 25.6727 - accuracy: 0.69 - ETA: 18s - loss: 24.3378 - accuracy: 0.67 - ETA: 17s - loss: 23.1065 - accuracy: 0.68 - ETA: 17s - loss: 22.0004 - accuracy: 0.67 - ETA: 16s - loss: 21.4767 - accuracy: 0.68 - ETA: 16s - loss: 20.5242 - accuracy: 0.68 - ETA: 15s - loss: 20.0757 - accuracy: 0.68 - ETA: 15s - loss: 19.2318 - accuracy: 0.68 - ETA: 14s - loss: 18.4536 - accuracy: 0.68 - ETA: 14s - loss: 17.7466 - accuracy: 0.69 - ETA: 13s - loss: 17.0811 - accuracy: 0.70 - ETA: 13s - loss: 16.4802 - accuracy: 0.70 - ETA: 12s - loss: 15.9192 - accuracy: 0.69 - ETA: 12s - loss: 15.3895 - accuracy: 0.69 - ETA: 12s - loss: 15.1418 - accuracy: 0.69 - ETA: 12s - loss: 14.6604 - accuracy: 0.70 - ETA: 11s - loss: 14.2095 - accuracy: 0.70 - ETA: 11s - loss: 13.7906 - accuracy: 0.71 - ETA: 11s - loss: 13.3950 - accuracy: 0.71 - ETA: 10s - loss: 13.0253 - accuracy: 0.71 - ETA: 10s - loss: 12.6737 - accuracy: 0.71 - ETA: 10s - loss: 12.3425 - accuracy: 0.71 - ETA: 9s - loss: 12.0247 - accuracy: 0.7229 - ETA: 9s - loss: 11.7281 - accuracy: 0.723 - ETA: 9s - loss: 11.4443 - accuracy: 0.725 - ETA: 9s - loss: 11.3073 - accuracy: 0.725 - ETA: 9s - loss: 11.0481 - accuracy: 0.727 - ETA: 9s - loss: 10.9203 - accuracy: 0.728 - ETA: 8s - loss: 10.7966 - accuracy: 0.729 - ETA: 8s - loss: 10.5602 - accuracy: 0.730 - ETA: 8s - loss: 10.4464 - accuracy: 0.729 - ETA: 8s - loss: 10.2245 - accuracy: 0.730 - ETA: 8s - loss: 10.0139 - accuracy: 0.730 - ETA: 8s - loss: 9.8117 - accuracy: 0.730 - ETA: 7s - loss: 9.6151 - accuracy: 0.73 - ETA: 7s - loss: 9.4280 - accuracy: 0.73 - ETA: 7s - loss: 9.3363 - accuracy: 0.73 - ETA: 7s - loss: 9.2468 - accuracy: 0.73 - ETA: 7s - loss: 9.0733 - accuracy: 0.73 - ETA: 7s - loss: 8.9914 - accuracy: 0.73 - ETA: 7s - loss: 8.8305 - accuracy: 0.73 - ETA: 7s - loss: 8.7527 - accuracy: 0.73 - ETA: 6s - loss: 8.6759 - accuracy: 0.73 - ETA: 6s - loss: 8.5257 - accuracy: 0.73 - ETA: 6s - loss: 8.4534 - accuracy: 0.73 - ETA: 6s - loss: 8.3822 - accuracy: 0.73 - ETA: 6s - loss: 8.3128 - accuracy: 0.73 - ETA: 6s - loss: 8.1760 - accuracy: 0.73 - ETA: 6s - loss: 8.0440 - accuracy: 0.73 - ETA: 6s - loss: 7.9791 - accuracy: 0.73 - ETA: 6s - loss: 7.8526 - accuracy: 0.74 - ETA: 5s - loss: 7.7901 - accuracy: 0.74 - ETA: 5s - loss: 7.7291 - accuracy: 0.74 - ETA: 5s - loss: 7.6700 - accuracy: 0.74 - ETA: 5s - loss: 7.6112 - accuracy: 0.74 - ETA: 5s - loss: 7.5538 - accuracy: 0.74 - ETA: 5s - loss: 7.4970 - accuracy: 0.74 - ETA: 5s - loss: 7.4410 - accuracy: 0.74 - ETA: 5s - loss: 7.3867 - accuracy: 0.74 - ETA: 5s - loss: 7.2784 - accuracy: 0.74 - ETA: 5s - loss: 7.1747 - accuracy: 0.74 - ETA: 5s - loss: 7.0745 - accuracy: 0.74 - ETA: 4s - loss: 6.9757 - accuracy: 0.74 - ETA: 4s - loss: 6.9283 - accuracy: 0.74 - ETA: 4s - loss: 6.8812 - accuracy: 0.75 - ETA: 4s - loss: 6.8351 - accuracy: 0.75 - ETA: 4s - loss: 6.7899 - accuracy: 0.75 - ETA: 4s - loss: 6.7015 - accuracy: 0.75 - ETA: 4s - loss: 6.6143 - accuracy: 0.75 - ETA: 4s - loss: 6.5313 - accuracy: 0.75 - ETA: 4s - loss: 6.4526 - accuracy: 0.75 - ETA: 4s - loss: 6.3735 - accuracy: 0.75 - ETA: 3s - loss: 6.2967 - accuracy: 0.75 - ETA: 3s - loss: 6.2579 - accuracy: 0.75 - ETA: 3s - loss: 6.2201 - accuracy: 0.75 - ETA: 3s - loss: 6.1848 - accuracy: 0.75 - ETA: 3s - loss: 6.1489 - accuracy: 0.75 - ETA: 3s - loss: 6.1124 - accuracy: 0.75 - ETA: 3s - loss: 6.0399 - accuracy: 0.75 - ETA: 3s - loss: 5.9710 - accuracy: 0.75 - ETA: 3s - loss: 5.9368 - accuracy: 0.75 - ETA: 3s - loss: 5.8691 - accuracy: 0.75 - ETA: 3s - loss: 5.8371 - accuracy: 0.75 - ETA: 3s - loss: 5.7736 - accuracy: 0.75 - ETA: 2s - loss: 5.7415 - accuracy: 0.75 - ETA: 2s - loss: 5.6800 - accuracy: 0.75 - ETA: 2s - loss: 5.6499 - accuracy: 0.75 - ETA: 2s - loss: 5.6194 - accuracy: 0.75 - ETA: 2s - loss: 5.5616 - accuracy: 0.75 - ETA: 2s - loss: 5.5035 - accuracy: 0.75 - ETA: 2s - loss: 5.4474 - accuracy: 0.75 - ETA: 2s - loss: 5.4193 - accuracy: 0.75 - ETA: 2s - loss: 5.3917 - accuracy: 0.75 - ETA: 2s - loss: 5.3648 - accuracy: 0.75 - ETA: 2s - loss: 5.3377 - accuracy: 0.75 - ETA: 2s - loss: 5.2848 - accuracy: 0.75 - ETA: 1s - loss: 5.2336 - accuracy: 0.75 - ETA: 1s - loss: 5.1827 - accuracy: 0.75 - ETA: 1s - loss: 5.1323 - accuracy: 0.76 - ETA: 1s - loss: 5.0837 - accuracy: 0.76 - ETA: 1s - loss: 5.0592 - accuracy: 0.76 - ETA: 1s - loss: 5.0127 - accuracy: 0.76 - ETA: 1s - loss: 4.9886 - accuracy: 0.76 - ETA: 1s - loss: 4.9647 - accuracy: 0.76 - ETA: 1s - loss: 4.9182 - accuracy: 0.76 - ETA: 1s - loss: 4.8966 - accuracy: 0.76 - ETA: 1s - loss: 4.8743 - accuracy: 0.76 - ETA: 1s - loss: 4.8525 - accuracy: 0.76 - ETA: 0s - loss: 4.8320 - accuracy: 0.76 - ETA: 0s - loss: 4.7899 - accuracy: 0.76 - ETA: 0s - loss: 4.7474 - accuracy: 0.76 - ETA: 0s - loss: 4.7258 - accuracy: 0.76 - ETA: 0s - loss: 4.6854 - accuracy: 0.76 - ETA: 0s - loss: 4.6653 - accuracy: 0.76 - ETA: 0s - loss: 4.6460 - accuracy: 0.76 - ETA: 0s - loss: 4.6296 - accuracy: 0.76 - ETA: 0s - loss: 4.6099 - accuracy: 0.76 - ETA: 0s - loss: 4.5724 - accuracy: 0.76 - ETA: 0s - loss: 4.5357 - accuracy: 0.76 - ETA: 0s - loss: 4.5176 - accuracy: 0.76 - ETA: 0s - loss: 4.4996 - accuracy: 0.76 - 13s 2ms/sample - loss: 4.4860 - accuracy: 0.7684 - val_loss: 0.5948 - val_accuracy: 0.7937\n",
      "Epoch 2/5\n",
      "7000/7000 [==============================] - ETA: 11s - loss: 0.6228 - accuracy: 0.718 - ETA: 12s - loss: 0.5997 - accuracy: 0.765 - ETA: 11s - loss: 0.5953 - accuracy: 0.770 - ETA: 12s - loss: 0.6055 - accuracy: 0.757 - ETA: 12s - loss: 0.5893 - accuracy: 0.781 - ETA: 12s - loss: 0.5889 - accuracy: 0.776 - ETA: 11s - loss: 0.5739 - accuracy: 0.794 - ETA: 11s - loss: 0.5849 - accuracy: 0.793 - ETA: 11s - loss: 0.5670 - accuracy: 0.805 - ETA: 11s - loss: 0.5605 - accuracy: 0.809 - ETA: 10s - loss: 0.5634 - accuracy: 0.805 - ETA: 10s - loss: 0.5592 - accuracy: 0.808 - ETA: 10s - loss: 0.5600 - accuracy: 0.804 - ETA: 10s - loss: 0.5587 - accuracy: 0.802 - ETA: 10s - loss: 0.5518 - accuracy: 0.807 - ETA: 10s - loss: 0.5551 - accuracy: 0.802 - ETA: 10s - loss: 0.5515 - accuracy: 0.802 - ETA: 10s - loss: 0.5481 - accuracy: 0.800 - ETA: 10s - loss: 0.5450 - accuracy: 0.801 - ETA: 10s - loss: 0.5381 - accuracy: 0.804 - ETA: 9s - loss: 0.5318 - accuracy: 0.806 - ETA: 9s - loss: 0.5384 - accuracy: 0.80 - ETA: 9s - loss: 0.5387 - accuracy: 0.80 - ETA: 9s - loss: 0.5349 - accuracy: 0.80 - ETA: 9s - loss: 0.5331 - accuracy: 0.80 - ETA: 9s - loss: 0.5284 - accuracy: 0.80 - ETA: 9s - loss: 0.5370 - accuracy: 0.79 - ETA: 9s - loss: 0.5353 - accuracy: 0.79 - ETA: 9s - loss: 0.5314 - accuracy: 0.80 - ETA: 9s - loss: 0.5324 - accuracy: 0.79 - ETA: 9s - loss: 0.5322 - accuracy: 0.79 - ETA: 9s - loss: 0.5299 - accuracy: 0.80 - ETA: 9s - loss: 0.5268 - accuracy: 0.80 - ETA: 9s - loss: 0.5258 - accuracy: 0.80 - ETA: 9s - loss: 0.5248 - accuracy: 0.80 - ETA: 9s - loss: 0.5219 - accuracy: 0.80 - ETA: 9s - loss: 0.5230 - accuracy: 0.80 - ETA: 9s - loss: 0.5193 - accuracy: 0.80 - ETA: 9s - loss: 0.5166 - accuracy: 0.80 - ETA: 9s - loss: 0.5227 - accuracy: 0.80 - ETA: 8s - loss: 0.5153 - accuracy: 0.80 - ETA: 8s - loss: 0.5147 - accuracy: 0.80 - ETA: 8s - loss: 0.5150 - accuracy: 0.80 - ETA: 8s - loss: 0.5153 - accuracy: 0.80 - ETA: 8s - loss: 0.5166 - accuracy: 0.80 - ETA: 8s - loss: 0.5163 - accuracy: 0.80 - ETA: 8s - loss: 0.5174 - accuracy: 0.80 - ETA: 8s - loss: 0.5219 - accuracy: 0.79 - ETA: 8s - loss: 0.5206 - accuracy: 0.80 - ETA: 8s - loss: 0.5153 - accuracy: 0.80 - ETA: 7s - loss: 0.5182 - accuracy: 0.80 - ETA: 7s - loss: 0.5166 - accuracy: 0.80 - ETA: 7s - loss: 0.5157 - accuracy: 0.80 - ETA: 7s - loss: 0.5164 - accuracy: 0.80 - ETA: 7s - loss: 0.5141 - accuracy: 0.80 - ETA: 7s - loss: 0.5150 - accuracy: 0.80 - ETA: 7s - loss: 0.5134 - accuracy: 0.80 - ETA: 7s - loss: 0.5148 - accuracy: 0.80 - ETA: 6s - loss: 0.5128 - accuracy: 0.80 - ETA: 6s - loss: 0.5107 - accuracy: 0.80 - ETA: 6s - loss: 0.5115 - accuracy: 0.80 - ETA: 6s - loss: 0.5129 - accuracy: 0.80 - ETA: 6s - loss: 0.5119 - accuracy: 0.80 - ETA: 6s - loss: 0.5125 - accuracy: 0.80 - ETA: 6s - loss: 0.5127 - accuracy: 0.80 - ETA: 6s - loss: 0.5115 - accuracy: 0.80 - ETA: 6s - loss: 0.5113 - accuracy: 0.80 - ETA: 6s - loss: 0.5099 - accuracy: 0.80 - ETA: 6s - loss: 0.5122 - accuracy: 0.80 - ETA: 6s - loss: 0.5107 - accuracy: 0.80 - ETA: 6s - loss: 0.5108 - accuracy: 0.80 - ETA: 6s - loss: 0.5101 - accuracy: 0.80 - ETA: 5s - loss: 0.5105 - accuracy: 0.80 - ETA: 5s - loss: 0.5124 - accuracy: 0.80 - ETA: 5s - loss: 0.5116 - accuracy: 0.80 - ETA: 5s - loss: 0.5109 - accuracy: 0.80 - ETA: 5s - loss: 0.5106 - accuracy: 0.80 - ETA: 5s - loss: 0.5104 - accuracy: 0.80 - ETA: 5s - loss: 0.5094 - accuracy: 0.80 - ETA: 5s - loss: 0.5091 - accuracy: 0.80 - ETA: 5s - loss: 0.5092 - accuracy: 0.80 - ETA: 5s - loss: 0.5109 - accuracy: 0.80 - ETA: 5s - loss: 0.5111 - accuracy: 0.80 - ETA: 5s - loss: 0.5131 - accuracy: 0.79 - ETA: 5s - loss: 0.5140 - accuracy: 0.79 - ETA: 5s - loss: 0.5148 - accuracy: 0.79 - ETA: 5s - loss: 0.5142 - accuracy: 0.79 - ETA: 5s - loss: 0.5147 - accuracy: 0.79 - ETA: 5s - loss: 0.5138 - accuracy: 0.79 - ETA: 5s - loss: 0.5142 - accuracy: 0.79 - ETA: 5s - loss: 0.5143 - accuracy: 0.79 - ETA: 5s - loss: 0.5138 - accuracy: 0.79 - ETA: 5s - loss: 0.5149 - accuracy: 0.79 - ETA: 5s - loss: 0.5143 - accuracy: 0.79 - ETA: 5s - loss: 0.5142 - accuracy: 0.79 - ETA: 5s - loss: 0.5140 - accuracy: 0.79 - ETA: 5s - loss: 0.5139 - accuracy: 0.79 - ETA: 4s - loss: 0.5150 - accuracy: 0.79 - ETA: 4s - loss: 0.5152 - accuracy: 0.79 - ETA: 4s - loss: 0.5154 - accuracy: 0.79 - ETA: 4s - loss: 0.5155 - accuracy: 0.79 - ETA: 4s - loss: 0.5153 - accuracy: 0.79 - ETA: 4s - loss: 0.5148 - accuracy: 0.79 - ETA: 4s - loss: 0.5154 - accuracy: 0.79 - ETA: 4s - loss: 0.5150 - accuracy: 0.79 - ETA: 4s - loss: 0.5124 - accuracy: 0.79 - ETA: 4s - loss: 0.5126 - accuracy: 0.79 - ETA: 4s - loss: 0.5140 - accuracy: 0.79 - ETA: 3s - loss: 0.5136 - accuracy: 0.79 - ETA: 3s - loss: 0.5135 - accuracy: 0.79 - ETA: 3s - loss: 0.5139 - accuracy: 0.79 - ETA: 3s - loss: 0.5138 - accuracy: 0.79 - ETA: 3s - loss: 0.5130 - accuracy: 0.79 - ETA: 3s - loss: 0.5121 - accuracy: 0.79 - ETA: 3s - loss: 0.5111 - accuracy: 0.79 - ETA: 3s - loss: 0.5110 - accuracy: 0.79 - ETA: 3s - loss: 0.5119 - accuracy: 0.79 - ETA: 3s - loss: 0.5120 - accuracy: 0.79 - ETA: 3s - loss: 0.5129 - accuracy: 0.79 - ETA: 2s - loss: 0.5127 - accuracy: 0.79 - ETA: 2s - loss: 0.5128 - accuracy: 0.79 - ETA: 2s - loss: 0.5127 - accuracy: 0.79 - ETA: 2s - loss: 0.5128 - accuracy: 0.79 - ETA: 2s - loss: 0.5128 - accuracy: 0.79 - ETA: 2s - loss: 0.5118 - accuracy: 0.79 - ETA: 2s - loss: 0.5120 - accuracy: 0.79 - ETA: 2s - loss: 0.5118 - accuracy: 0.79 - ETA: 2s - loss: 0.5116 - accuracy: 0.79 - ETA: 2s - loss: 0.5115 - accuracy: 0.79 - ETA: 2s - loss: 0.5109 - accuracy: 0.79 - ETA: 2s - loss: 0.5096 - accuracy: 0.79 - ETA: 2s - loss: 0.5097 - accuracy: 0.79 - ETA: 2s - loss: 0.5098 - accuracy: 0.79 - ETA: 2s - loss: 0.5114 - accuracy: 0.79 - ETA: 1s - loss: 0.5107 - accuracy: 0.79 - ETA: 1s - loss: 0.5103 - accuracy: 0.79 - ETA: 1s - loss: 0.5115 - accuracy: 0.79 - ETA: 1s - loss: 0.5120 - accuracy: 0.79 - ETA: 1s - loss: 0.5117 - accuracy: 0.79 - ETA: 1s - loss: 0.5115 - accuracy: 0.79 - ETA: 1s - loss: 0.5111 - accuracy: 0.79 - ETA: 1s - loss: 0.5110 - accuracy: 0.79 - ETA: 1s - loss: 0.5113 - accuracy: 0.79 - ETA: 1s - loss: 0.5117 - accuracy: 0.79 - ETA: 1s - loss: 0.5124 - accuracy: 0.79 - ETA: 1s - loss: 0.5124 - accuracy: 0.79 - ETA: 1s - loss: 0.5115 - accuracy: 0.79 - ETA: 1s - loss: 0.5115 - accuracy: 0.79 - ETA: 1s - loss: 0.5116 - accuracy: 0.79 - ETA: 1s - loss: 0.5115 - accuracy: 0.79 - ETA: 1s - loss: 0.5117 - accuracy: 0.79 - ETA: 1s - loss: 0.5122 - accuracy: 0.79 - ETA: 0s - loss: 0.5131 - accuracy: 0.79 - ETA: 0s - loss: 0.5130 - accuracy: 0.79 - ETA: 0s - loss: 0.5124 - accuracy: 0.79 - ETA: 0s - loss: 0.5126 - accuracy: 0.79 - ETA: 0s - loss: 0.5134 - accuracy: 0.79 - ETA: 0s - loss: 0.5131 - accuracy: 0.79 - ETA: 0s - loss: 0.5133 - accuracy: 0.79 - ETA: 0s - loss: 0.5123 - accuracy: 0.79 - ETA: 0s - loss: 0.5118 - accuracy: 0.79 - ETA: 0s - loss: 0.5120 - accuracy: 0.79 - ETA: 0s - loss: 0.5119 - accuracy: 0.79 - ETA: 0s - loss: 0.5118 - accuracy: 0.79 - ETA: 0s - loss: 0.5115 - accuracy: 0.79 - ETA: 0s - loss: 0.5115 - accuracy: 0.79 - ETA: 0s - loss: 0.5108 - accuracy: 0.79 - ETA: 0s - loss: 0.5111 - accuracy: 0.79 - ETA: 0s - loss: 0.5112 - accuracy: 0.79 - ETA: 0s - loss: 0.5110 - accuracy: 0.79 - 12s 2ms/sample - loss: 0.5107 - accuracy: 0.7974 - val_loss: 0.5099 - val_accuracy: 0.7937\n",
      "Epoch 3/5\n",
      "7000/7000 [==============================] - ETA: 12s - loss: 0.5278 - accuracy: 0.781 - ETA: 13s - loss: 0.5052 - accuracy: 0.796 - ETA: 12s - loss: 0.4977 - accuracy: 0.802 - ETA: 12s - loss: 0.4823 - accuracy: 0.812 - ETA: 11s - loss: 0.4824 - accuracy: 0.812 - ETA: 10s - loss: 0.4757 - accuracy: 0.817 - ETA: 10s - loss: 0.4773 - accuracy: 0.816 - ETA: 10s - loss: 0.4972 - accuracy: 0.803 - ETA: 10s - loss: 0.5090 - accuracy: 0.795 - ETA: 10s - loss: 0.5013 - accuracy: 0.800 - ETA: 9s - loss: 0.5201 - accuracy: 0.787 - ETA: 9s - loss: 0.5289 - accuracy: 0.78 - ETA: 9s - loss: 0.5262 - accuracy: 0.78 - ETA: 9s - loss: 0.5192 - accuracy: 0.78 - ETA: 9s - loss: 0.5282 - accuracy: 0.78 - ETA: 9s - loss: 0.5280 - accuracy: 0.78 - ETA: 9s - loss: 0.5243 - accuracy: 0.78 - ETA: 9s - loss: 0.5243 - accuracy: 0.78 - ETA: 9s - loss: 0.5141 - accuracy: 0.79 - ETA: 9s - loss: 0.5163 - accuracy: 0.79 - ETA: 9s - loss: 0.5235 - accuracy: 0.78 - ETA: 9s - loss: 0.5248 - accuracy: 0.78 - ETA: 9s - loss: 0.5225 - accuracy: 0.78 - ETA: 8s - loss: 0.5226 - accuracy: 0.78 - ETA: 8s - loss: 0.5217 - accuracy: 0.78 - ETA: 8s - loss: 0.5168 - accuracy: 0.78 - ETA: 8s - loss: 0.5173 - accuracy: 0.78 - ETA: 8s - loss: 0.5138 - accuracy: 0.79 - ETA: 8s - loss: 0.5075 - accuracy: 0.79 - ETA: 8s - loss: 0.5060 - accuracy: 0.79 - ETA: 7s - loss: 0.5049 - accuracy: 0.79 - ETA: 7s - loss: 0.5011 - accuracy: 0.80 - ETA: 7s - loss: 0.4978 - accuracy: 0.80 - ETA: 7s - loss: 0.4942 - accuracy: 0.80 - ETA: 7s - loss: 0.4960 - accuracy: 0.80 - ETA: 7s - loss: 0.4969 - accuracy: 0.80 - ETA: 7s - loss: 0.4986 - accuracy: 0.80 - ETA: 7s - loss: 0.5019 - accuracy: 0.80 - ETA: 7s - loss: 0.5065 - accuracy: 0.79 - ETA: 6s - loss: 0.5011 - accuracy: 0.80 - ETA: 6s - loss: 0.5020 - accuracy: 0.80 - ETA: 6s - loss: 0.4994 - accuracy: 0.80 - ETA: 6s - loss: 0.4983 - accuracy: 0.80 - ETA: 6s - loss: 0.4955 - accuracy: 0.80 - ETA: 6s - loss: 0.4970 - accuracy: 0.80 - ETA: 6s - loss: 0.4956 - accuracy: 0.80 - ETA: 6s - loss: 0.4966 - accuracy: 0.80 - ETA: 6s - loss: 0.4959 - accuracy: 0.80 - ETA: 6s - loss: 0.4963 - accuracy: 0.80 - ETA: 6s - loss: 0.4967 - accuracy: 0.80 - ETA: 6s - loss: 0.4969 - accuracy: 0.80 - ETA: 6s - loss: 0.4984 - accuracy: 0.80 - ETA: 6s - loss: 0.4988 - accuracy: 0.80 - ETA: 6s - loss: 0.4995 - accuracy: 0.80 - ETA: 6s - loss: 0.4977 - accuracy: 0.80 - ETA: 6s - loss: 0.4981 - accuracy: 0.80 - ETA: 5s - loss: 0.4967 - accuracy: 0.80 - ETA: 5s - loss: 0.4955 - accuracy: 0.80 - ETA: 5s - loss: 0.4968 - accuracy: 0.80 - ETA: 5s - loss: 0.4960 - accuracy: 0.80 - ETA: 5s - loss: 0.4976 - accuracy: 0.80 - ETA: 5s - loss: 0.4987 - accuracy: 0.80 - ETA: 5s - loss: 0.4990 - accuracy: 0.80 - ETA: 5s - loss: 0.5009 - accuracy: 0.80 - ETA: 5s - loss: 0.4994 - accuracy: 0.80 - ETA: 5s - loss: 0.4988 - accuracy: 0.80 - ETA: 5s - loss: 0.4994 - accuracy: 0.80 - ETA: 5s - loss: 0.4995 - accuracy: 0.80 - ETA: 5s - loss: 0.5006 - accuracy: 0.80 - ETA: 5s - loss: 0.5000 - accuracy: 0.80 - ETA: 4s - loss: 0.5018 - accuracy: 0.80 - ETA: 4s - loss: 0.5004 - accuracy: 0.80 - ETA: 4s - loss: 0.4984 - accuracy: 0.80 - ETA: 4s - loss: 0.4986 - accuracy: 0.80 - ETA: 4s - loss: 0.4998 - accuracy: 0.80 - ETA: 4s - loss: 0.5003 - accuracy: 0.80 - ETA: 4s - loss: 0.5001 - accuracy: 0.80 - ETA: 4s - loss: 0.5006 - accuracy: 0.80 - ETA: 4s - loss: 0.5010 - accuracy: 0.80 - ETA: 4s - loss: 0.5002 - accuracy: 0.80 - ETA: 4s - loss: 0.4999 - accuracy: 0.80 - ETA: 4s - loss: 0.5001 - accuracy: 0.80 - ETA: 4s - loss: 0.5014 - accuracy: 0.80 - ETA: 4s - loss: 0.5011 - accuracy: 0.80 - ETA: 4s - loss: 0.5016 - accuracy: 0.80 - ETA: 3s - loss: 0.5031 - accuracy: 0.79 - ETA: 3s - loss: 0.5038 - accuracy: 0.79 - ETA: 3s - loss: 0.5046 - accuracy: 0.79 - ETA: 3s - loss: 0.5041 - accuracy: 0.79 - ETA: 3s - loss: 0.5040 - accuracy: 0.79 - ETA: 3s - loss: 0.5035 - accuracy: 0.79 - ETA: 3s - loss: 0.5024 - accuracy: 0.80 - ETA: 3s - loss: 0.5029 - accuracy: 0.79 - ETA: 3s - loss: 0.5018 - accuracy: 0.80 - ETA: 3s - loss: 0.5027 - accuracy: 0.79 - ETA: 3s - loss: 0.5025 - accuracy: 0.80 - ETA: 3s - loss: 0.5017 - accuracy: 0.80 - ETA: 3s - loss: 0.5022 - accuracy: 0.80 - ETA: 3s - loss: 0.5017 - accuracy: 0.80 - ETA: 3s - loss: 0.5022 - accuracy: 0.80 - ETA: 3s - loss: 0.5021 - accuracy: 0.80 - ETA: 3s - loss: 0.5031 - accuracy: 0.79 - ETA: 3s - loss: 0.5033 - accuracy: 0.79 - ETA: 3s - loss: 0.5034 - accuracy: 0.79 - ETA: 2s - loss: 0.5044 - accuracy: 0.79 - ETA: 2s - loss: 0.5046 - accuracy: 0.79 - ETA: 2s - loss: 0.5040 - accuracy: 0.79 - ETA: 2s - loss: 0.5052 - accuracy: 0.79 - ETA: 2s - loss: 0.5052 - accuracy: 0.79 - ETA: 2s - loss: 0.5046 - accuracy: 0.79 - ETA: 2s - loss: 0.5047 - accuracy: 0.79 - ETA: 2s - loss: 0.5055 - accuracy: 0.79 - ETA: 2s - loss: 0.5049 - accuracy: 0.79 - ETA: 2s - loss: 0.5045 - accuracy: 0.79 - ETA: 2s - loss: 0.5044 - accuracy: 0.79 - ETA: 2s - loss: 0.5038 - accuracy: 0.79 - ETA: 2s - loss: 0.5044 - accuracy: 0.79 - ETA: 2s - loss: 0.5041 - accuracy: 0.79 - ETA: 2s - loss: 0.5047 - accuracy: 0.79 - ETA: 2s - loss: 0.5054 - accuracy: 0.79 - ETA: 2s - loss: 0.5060 - accuracy: 0.79 - ETA: 2s - loss: 0.5061 - accuracy: 0.79 - ETA: 1s - loss: 0.5066 - accuracy: 0.79 - ETA: 1s - loss: 0.5056 - accuracy: 0.79 - ETA: 1s - loss: 0.5055 - accuracy: 0.79 - ETA: 1s - loss: 0.5051 - accuracy: 0.79 - ETA: 1s - loss: 0.5046 - accuracy: 0.79 - ETA: 1s - loss: 0.5045 - accuracy: 0.79 - ETA: 1s - loss: 0.5055 - accuracy: 0.79 - ETA: 1s - loss: 0.5059 - accuracy: 0.79 - ETA: 1s - loss: 0.5061 - accuracy: 0.79 - ETA: 1s - loss: 0.5055 - accuracy: 0.79 - ETA: 1s - loss: 0.5050 - accuracy: 0.79 - ETA: 1s - loss: 0.5057 - accuracy: 0.79 - ETA: 1s - loss: 0.5056 - accuracy: 0.79 - ETA: 1s - loss: 0.5055 - accuracy: 0.79 - ETA: 1s - loss: 0.5052 - accuracy: 0.79 - ETA: 1s - loss: 0.5055 - accuracy: 0.79 - ETA: 1s - loss: 0.5054 - accuracy: 0.79 - ETA: 1s - loss: 0.5055 - accuracy: 0.79 - ETA: 0s - loss: 0.5054 - accuracy: 0.79 - ETA: 0s - loss: 0.5055 - accuracy: 0.79 - ETA: 0s - loss: 0.5061 - accuracy: 0.79 - ETA: 0s - loss: 0.5067 - accuracy: 0.79 - ETA: 0s - loss: 0.5072 - accuracy: 0.79 - ETA: 0s - loss: 0.5077 - accuracy: 0.79 - ETA: 0s - loss: 0.5076 - accuracy: 0.79 - ETA: 0s - loss: 0.5077 - accuracy: 0.79 - ETA: 0s - loss: 0.5070 - accuracy: 0.79 - ETA: 0s - loss: 0.5068 - accuracy: 0.79 - ETA: 0s - loss: 0.5064 - accuracy: 0.79 - ETA: 0s - loss: 0.5063 - accuracy: 0.79 - ETA: 0s - loss: 0.5059 - accuracy: 0.79 - ETA: 0s - loss: 0.5054 - accuracy: 0.79 - ETA: 0s - loss: 0.5059 - accuracy: 0.79 - 11s 2ms/sample - loss: 0.5056 - accuracy: 0.7974 - val_loss: 0.5092 - val_accuracy: 0.7937\n",
      "Epoch 4/5\n",
      "7000/7000 [==============================] - ETA: 14s - loss: 0.3967 - accuracy: 0.875 - ETA: 13s - loss: 0.4617 - accuracy: 0.828 - ETA: 13s - loss: 0.4687 - accuracy: 0.822 - ETA: 12s - loss: 0.4946 - accuracy: 0.804 - ETA: 12s - loss: 0.5277 - accuracy: 0.781 - ETA: 11s - loss: 0.5083 - accuracy: 0.794 - ETA: 11s - loss: 0.5164 - accuracy: 0.789 - ETA: 11s - loss: 0.5177 - accuracy: 0.788 - ETA: 10s - loss: 0.4992 - accuracy: 0.801 - ETA: 10s - loss: 0.5015 - accuracy: 0.799 - ETA: 10s - loss: 0.5001 - accuracy: 0.800 - ETA: 10s - loss: 0.5020 - accuracy: 0.799 - ETA: 10s - loss: 0.5024 - accuracy: 0.798 - ETA: 10s - loss: 0.5027 - accuracy: 0.798 - ETA: 9s - loss: 0.5016 - accuracy: 0.799 - ETA: 9s - loss: 0.5083 - accuracy: 0.79 - ETA: 9s - loss: 0.5111 - accuracy: 0.79 - ETA: 9s - loss: 0.5136 - accuracy: 0.79 - ETA: 9s - loss: 0.5249 - accuracy: 0.78 - ETA: 9s - loss: 0.5233 - accuracy: 0.78 - ETA: 9s - loss: 0.5160 - accuracy: 0.78 - ETA: 9s - loss: 0.5180 - accuracy: 0.78 - ETA: 9s - loss: 0.5183 - accuracy: 0.78 - ETA: 9s - loss: 0.5172 - accuracy: 0.78 - ETA: 9s - loss: 0.5163 - accuracy: 0.78 - ETA: 9s - loss: 0.5145 - accuracy: 0.79 - ETA: 8s - loss: 0.5141 - accuracy: 0.79 - ETA: 8s - loss: 0.5154 - accuracy: 0.78 - ETA: 8s - loss: 0.5157 - accuracy: 0.78 - ETA: 8s - loss: 0.5159 - accuracy: 0.78 - ETA: 8s - loss: 0.5132 - accuracy: 0.79 - ETA: 8s - loss: 0.5164 - accuracy: 0.78 - ETA: 9s - loss: 0.5147 - accuracy: 0.79 - ETA: 9s - loss: 0.5122 - accuracy: 0.79 - ETA: 9s - loss: 0.5107 - accuracy: 0.79 - ETA: 9s - loss: 0.5128 - accuracy: 0.79 - ETA: 9s - loss: 0.5103 - accuracy: 0.79 - ETA: 9s - loss: 0.5107 - accuracy: 0.79 - ETA: 9s - loss: 0.5084 - accuracy: 0.79 - ETA: 9s - loss: 0.5079 - accuracy: 0.79 - ETA: 9s - loss: 0.5091 - accuracy: 0.79 - ETA: 9s - loss: 0.5069 - accuracy: 0.79 - ETA: 9s - loss: 0.5064 - accuracy: 0.79 - ETA: 9s - loss: 0.5060 - accuracy: 0.79 - ETA: 9s - loss: 0.5055 - accuracy: 0.79 - ETA: 9s - loss: 0.5068 - accuracy: 0.79 - ETA: 9s - loss: 0.5055 - accuracy: 0.79 - ETA: 8s - loss: 0.5083 - accuracy: 0.79 - ETA: 8s - loss: 0.5079 - accuracy: 0.79 - ETA: 8s - loss: 0.5113 - accuracy: 0.79 - ETA: 8s - loss: 0.5116 - accuracy: 0.79 - ETA: 8s - loss: 0.5112 - accuracy: 0.79 - ETA: 8s - loss: 0.5107 - accuracy: 0.79 - ETA: 8s - loss: 0.5110 - accuracy: 0.79 - ETA: 8s - loss: 0.5099 - accuracy: 0.79 - ETA: 8s - loss: 0.5061 - accuracy: 0.79 - ETA: 8s - loss: 0.5045 - accuracy: 0.79 - ETA: 8s - loss: 0.5061 - accuracy: 0.79 - ETA: 8s - loss: 0.5067 - accuracy: 0.79 - ETA: 8s - loss: 0.5064 - accuracy: 0.79 - ETA: 8s - loss: 0.5073 - accuracy: 0.79 - ETA: 8s - loss: 0.5048 - accuracy: 0.79 - ETA: 8s - loss: 0.5075 - accuracy: 0.79 - ETA: 7s - loss: 0.5080 - accuracy: 0.79 - ETA: 7s - loss: 0.5088 - accuracy: 0.79 - ETA: 7s - loss: 0.5101 - accuracy: 0.79 - ETA: 7s - loss: 0.5094 - accuracy: 0.79 - ETA: 7s - loss: 0.5081 - accuracy: 0.79 - ETA: 7s - loss: 0.5090 - accuracy: 0.79 - ETA: 7s - loss: 0.5078 - accuracy: 0.79 - ETA: 7s - loss: 0.5065 - accuracy: 0.79 - ETA: 7s - loss: 0.5103 - accuracy: 0.79 - ETA: 7s - loss: 0.5105 - accuracy: 0.79 - ETA: 6s - loss: 0.5102 - accuracy: 0.79 - ETA: 6s - loss: 0.5127 - accuracy: 0.79 - ETA: 6s - loss: 0.5087 - accuracy: 0.79 - ETA: 6s - loss: 0.5085 - accuracy: 0.79 - ETA: 6s - loss: 0.5074 - accuracy: 0.79 - ETA: 6s - loss: 0.5084 - accuracy: 0.79 - ETA: 6s - loss: 0.5071 - accuracy: 0.79 - ETA: 6s - loss: 0.5081 - accuracy: 0.79 - ETA: 6s - loss: 0.5100 - accuracy: 0.79 - ETA: 6s - loss: 0.5093 - accuracy: 0.79 - ETA: 6s - loss: 0.5100 - accuracy: 0.79 - ETA: 5s - loss: 0.5123 - accuracy: 0.79 - ETA: 5s - loss: 0.5095 - accuracy: 0.79 - ETA: 5s - loss: 0.5085 - accuracy: 0.79 - ETA: 5s - loss: 0.5087 - accuracy: 0.79 - ETA: 5s - loss: 0.5088 - accuracy: 0.79 - ETA: 5s - loss: 0.5097 - accuracy: 0.79 - ETA: 5s - loss: 0.5078 - accuracy: 0.79 - ETA: 5s - loss: 0.5100 - accuracy: 0.79 - ETA: 5s - loss: 0.5101 - accuracy: 0.79 - ETA: 5s - loss: 0.5086 - accuracy: 0.79 - ETA: 5s - loss: 0.5078 - accuracy: 0.79 - ETA: 5s - loss: 0.5072 - accuracy: 0.79 - ETA: 4s - loss: 0.5081 - accuracy: 0.79 - ETA: 4s - loss: 0.5077 - accuracy: 0.79 - ETA: 4s - loss: 0.5078 - accuracy: 0.79 - ETA: 4s - loss: 0.5087 - accuracy: 0.79 - ETA: 4s - loss: 0.5081 - accuracy: 0.79 - ETA: 4s - loss: 0.5086 - accuracy: 0.79 - ETA: 4s - loss: 0.5089 - accuracy: 0.79 - ETA: 4s - loss: 0.5098 - accuracy: 0.79 - ETA: 4s - loss: 0.5083 - accuracy: 0.79 - ETA: 4s - loss: 0.5058 - accuracy: 0.79 - ETA: 4s - loss: 0.5051 - accuracy: 0.79 - ETA: 4s - loss: 0.5048 - accuracy: 0.79 - ETA: 3s - loss: 0.5056 - accuracy: 0.79 - ETA: 3s - loss: 0.5048 - accuracy: 0.79 - ETA: 3s - loss: 0.5048 - accuracy: 0.79 - ETA: 3s - loss: 0.5059 - accuracy: 0.79 - ETA: 3s - loss: 0.5055 - accuracy: 0.79 - ETA: 3s - loss: 0.5050 - accuracy: 0.79 - ETA: 3s - loss: 0.5048 - accuracy: 0.79 - ETA: 3s - loss: 0.5044 - accuracy: 0.79 - ETA: 3s - loss: 0.5047 - accuracy: 0.79 - ETA: 3s - loss: 0.5047 - accuracy: 0.79 - ETA: 3s - loss: 0.5041 - accuracy: 0.79 - ETA: 3s - loss: 0.5047 - accuracy: 0.79 - ETA: 3s - loss: 0.5041 - accuracy: 0.79 - ETA: 2s - loss: 0.5048 - accuracy: 0.79 - ETA: 2s - loss: 0.5044 - accuracy: 0.79 - ETA: 2s - loss: 0.5041 - accuracy: 0.79 - ETA: 2s - loss: 0.5042 - accuracy: 0.79 - ETA: 2s - loss: 0.5033 - accuracy: 0.79 - ETA: 2s - loss: 0.5032 - accuracy: 0.79 - ETA: 2s - loss: 0.5025 - accuracy: 0.79 - ETA: 2s - loss: 0.5021 - accuracy: 0.79 - ETA: 2s - loss: 0.5015 - accuracy: 0.80 - ETA: 2s - loss: 0.5018 - accuracy: 0.79 - ETA: 2s - loss: 0.5012 - accuracy: 0.80 - ETA: 2s - loss: 0.5024 - accuracy: 0.79 - ETA: 2s - loss: 0.5023 - accuracy: 0.79 - ETA: 2s - loss: 0.5027 - accuracy: 0.79 - ETA: 2s - loss: 0.5020 - accuracy: 0.79 - ETA: 2s - loss: 0.5021 - accuracy: 0.79 - ETA: 2s - loss: 0.5017 - accuracy: 0.79 - ETA: 2s - loss: 0.5024 - accuracy: 0.79 - ETA: 1s - loss: 0.5037 - accuracy: 0.79 - ETA: 1s - loss: 0.5033 - accuracy: 0.79 - ETA: 1s - loss: 0.5042 - accuracy: 0.79 - ETA: 1s - loss: 0.5040 - accuracy: 0.79 - ETA: 1s - loss: 0.5042 - accuracy: 0.79 - ETA: 1s - loss: 0.5038 - accuracy: 0.79 - ETA: 1s - loss: 0.5039 - accuracy: 0.79 - ETA: 1s - loss: 0.5038 - accuracy: 0.79 - ETA: 1s - loss: 0.5044 - accuracy: 0.79 - ETA: 1s - loss: 0.5037 - accuracy: 0.79 - ETA: 1s - loss: 0.5030 - accuracy: 0.79 - ETA: 1s - loss: 0.5022 - accuracy: 0.79 - ETA: 1s - loss: 0.5023 - accuracy: 0.79 - ETA: 1s - loss: 0.5020 - accuracy: 0.79 - ETA: 1s - loss: 0.5023 - accuracy: 0.79 - ETA: 1s - loss: 0.5027 - accuracy: 0.79 - ETA: 1s - loss: 0.5028 - accuracy: 0.79 - ETA: 0s - loss: 0.5027 - accuracy: 0.79 - ETA: 0s - loss: 0.5028 - accuracy: 0.79 - ETA: 0s - loss: 0.5031 - accuracy: 0.79 - ETA: 0s - loss: 0.5027 - accuracy: 0.79 - ETA: 0s - loss: 0.5029 - accuracy: 0.79 - ETA: 0s - loss: 0.5029 - accuracy: 0.79 - ETA: 0s - loss: 0.5035 - accuracy: 0.79 - ETA: 0s - loss: 0.5034 - accuracy: 0.79 - ETA: 0s - loss: 0.5036 - accuracy: 0.79 - ETA: 0s - loss: 0.5039 - accuracy: 0.79 - ETA: 0s - loss: 0.5027 - accuracy: 0.79 - ETA: 0s - loss: 0.5030 - accuracy: 0.79 - ETA: 0s - loss: 0.5037 - accuracy: 0.79 - ETA: 0s - loss: 0.5038 - accuracy: 0.79 - ETA: 0s - loss: 0.5041 - accuracy: 0.79 - ETA: 0s - loss: 0.5045 - accuracy: 0.79 - 12s 2ms/sample - loss: 0.5049 - accuracy: 0.7974 - val_loss: 0.5098 - val_accuracy: 0.7937\n",
      "Epoch 5/5\n",
      "7000/7000 [==============================] - ETA: 11s - loss: 0.6073 - accuracy: 0.718 - ETA: 12s - loss: 0.5461 - accuracy: 0.765 - ETA: 12s - loss: 0.4727 - accuracy: 0.822 - ETA: 11s - loss: 0.4460 - accuracy: 0.843 - ETA: 11s - loss: 0.4619 - accuracy: 0.831 - ETA: 10s - loss: 0.4678 - accuracy: 0.825 - ETA: 10s - loss: 0.4801 - accuracy: 0.816 - ETA: 10s - loss: 0.5136 - accuracy: 0.790 - ETA: 10s - loss: 0.5110 - accuracy: 0.792 - ETA: 10s - loss: 0.5015 - accuracy: 0.799 - ETA: 11s - loss: 0.4910 - accuracy: 0.807 - ETA: 11s - loss: 0.4906 - accuracy: 0.808 - ETA: 11s - loss: 0.4956 - accuracy: 0.804 - ETA: 12s - loss: 0.5077 - accuracy: 0.794 - ETA: 12s - loss: 0.4991 - accuracy: 0.801 - ETA: 12s - loss: 0.5097 - accuracy: 0.793 - ETA: 12s - loss: 0.5104 - accuracy: 0.792 - ETA: 12s - loss: 0.5132 - accuracy: 0.790 - ETA: 12s - loss: 0.5137 - accuracy: 0.790 - ETA: 13s - loss: 0.5124 - accuracy: 0.791 - ETA: 12s - loss: 0.5095 - accuracy: 0.793 - ETA: 12s - loss: 0.5152 - accuracy: 0.789 - ETA: 12s - loss: 0.5156 - accuracy: 0.788 - ETA: 12s - loss: 0.5175 - accuracy: 0.787 - ETA: 12s - loss: 0.5104 - accuracy: 0.792 - ETA: 12s - loss: 0.5110 - accuracy: 0.792 - ETA: 12s - loss: 0.5142 - accuracy: 0.789 - ETA: 12s - loss: 0.5106 - accuracy: 0.792 - ETA: 11s - loss: 0.5085 - accuracy: 0.794 - ETA: 11s - loss: 0.5058 - accuracy: 0.796 - ETA: 11s - loss: 0.5129 - accuracy: 0.791 - ETA: 10s - loss: 0.5146 - accuracy: 0.789 - ETA: 10s - loss: 0.5163 - accuracy: 0.788 - ETA: 10s - loss: 0.5137 - accuracy: 0.790 - ETA: 10s - loss: 0.5179 - accuracy: 0.787 - ETA: 9s - loss: 0.5145 - accuracy: 0.789 - ETA: 9s - loss: 0.5101 - accuracy: 0.79 - ETA: 9s - loss: 0.5073 - accuracy: 0.79 - ETA: 9s - loss: 0.5003 - accuracy: 0.80 - ETA: 9s - loss: 0.4971 - accuracy: 0.80 - ETA: 8s - loss: 0.4948 - accuracy: 0.80 - ETA: 8s - loss: 0.4899 - accuracy: 0.80 - ETA: 8s - loss: 0.4916 - accuracy: 0.80 - ETA: 8s - loss: 0.4933 - accuracy: 0.80 - ETA: 8s - loss: 0.4947 - accuracy: 0.80 - ETA: 8s - loss: 0.4952 - accuracy: 0.80 - ETA: 8s - loss: 0.4998 - accuracy: 0.80 - ETA: 7s - loss: 0.5011 - accuracy: 0.80 - ETA: 7s - loss: 0.5027 - accuracy: 0.79 - ETA: 7s - loss: 0.5001 - accuracy: 0.80 - ETA: 7s - loss: 0.4998 - accuracy: 0.80 - ETA: 7s - loss: 0.4987 - accuracy: 0.80 - ETA: 7s - loss: 0.5006 - accuracy: 0.80 - ETA: 7s - loss: 0.4997 - accuracy: 0.80 - ETA: 7s - loss: 0.4977 - accuracy: 0.80 - ETA: 6s - loss: 0.4952 - accuracy: 0.80 - ETA: 6s - loss: 0.4943 - accuracy: 0.80 - ETA: 6s - loss: 0.4961 - accuracy: 0.80 - ETA: 6s - loss: 0.4965 - accuracy: 0.80 - ETA: 6s - loss: 0.4957 - accuracy: 0.80 - ETA: 6s - loss: 0.4949 - accuracy: 0.80 - ETA: 6s - loss: 0.4945 - accuracy: 0.80 - ETA: 6s - loss: 0.4954 - accuracy: 0.80 - ETA: 6s - loss: 0.4965 - accuracy: 0.80 - ETA: 6s - loss: 0.4973 - accuracy: 0.80 - ETA: 5s - loss: 0.4960 - accuracy: 0.80 - ETA: 5s - loss: 0.4959 - accuracy: 0.80 - ETA: 5s - loss: 0.4980 - accuracy: 0.80 - ETA: 5s - loss: 0.4999 - accuracy: 0.80 - ETA: 5s - loss: 0.4997 - accuracy: 0.80 - ETA: 5s - loss: 0.4982 - accuracy: 0.80 - ETA: 5s - loss: 0.4987 - accuracy: 0.80 - ETA: 5s - loss: 0.4997 - accuracy: 0.80 - ETA: 5s - loss: 0.4998 - accuracy: 0.80 - ETA: 5s - loss: 0.4994 - accuracy: 0.80 - ETA: 5s - loss: 0.4989 - accuracy: 0.80 - ETA: 5s - loss: 0.5008 - accuracy: 0.80 - ETA: 5s - loss: 0.5003 - accuracy: 0.80 - ETA: 4s - loss: 0.5002 - accuracy: 0.80 - ETA: 4s - loss: 0.5002 - accuracy: 0.80 - ETA: 4s - loss: 0.5017 - accuracy: 0.80 - ETA: 4s - loss: 0.5013 - accuracy: 0.80 - ETA: 4s - loss: 0.5018 - accuracy: 0.80 - ETA: 4s - loss: 0.5025 - accuracy: 0.79 - ETA: 4s - loss: 0.5028 - accuracy: 0.79 - ETA: 4s - loss: 0.5032 - accuracy: 0.79 - ETA: 4s - loss: 0.5030 - accuracy: 0.79 - ETA: 4s - loss: 0.5038 - accuracy: 0.79 - ETA: 4s - loss: 0.5043 - accuracy: 0.79 - ETA: 4s - loss: 0.5034 - accuracy: 0.79 - ETA: 4s - loss: 0.5035 - accuracy: 0.79 - ETA: 3s - loss: 0.5048 - accuracy: 0.79 - ETA: 3s - loss: 0.5052 - accuracy: 0.79 - ETA: 3s - loss: 0.5045 - accuracy: 0.79 - ETA: 3s - loss: 0.5041 - accuracy: 0.79 - ETA: 3s - loss: 0.5054 - accuracy: 0.79 - ETA: 3s - loss: 0.5047 - accuracy: 0.79 - ETA: 3s - loss: 0.5043 - accuracy: 0.79 - ETA: 3s - loss: 0.5047 - accuracy: 0.79 - ETA: 3s - loss: 0.5049 - accuracy: 0.79 - ETA: 3s - loss: 0.5044 - accuracy: 0.79 - ETA: 3s - loss: 0.5044 - accuracy: 0.79 - ETA: 3s - loss: 0.5043 - accuracy: 0.79 - ETA: 3s - loss: 0.5047 - accuracy: 0.79 - ETA: 3s - loss: 0.5034 - accuracy: 0.79 - ETA: 3s - loss: 0.5038 - accuracy: 0.79 - ETA: 3s - loss: 0.5027 - accuracy: 0.79 - ETA: 3s - loss: 0.5033 - accuracy: 0.79 - ETA: 2s - loss: 0.5041 - accuracy: 0.79 - ETA: 2s - loss: 0.5042 - accuracy: 0.79 - ETA: 2s - loss: 0.5040 - accuracy: 0.79 - ETA: 2s - loss: 0.5037 - accuracy: 0.79 - ETA: 2s - loss: 0.5049 - accuracy: 0.79 - ETA: 2s - loss: 0.5059 - accuracy: 0.79 - ETA: 2s - loss: 0.5055 - accuracy: 0.79 - ETA: 2s - loss: 0.5044 - accuracy: 0.79 - ETA: 2s - loss: 0.5040 - accuracy: 0.79 - ETA: 2s - loss: 0.5039 - accuracy: 0.79 - ETA: 2s - loss: 0.5046 - accuracy: 0.79 - ETA: 2s - loss: 0.5041 - accuracy: 0.79 - ETA: 2s - loss: 0.5039 - accuracy: 0.79 - ETA: 2s - loss: 0.5041 - accuracy: 0.79 - ETA: 2s - loss: 0.5043 - accuracy: 0.79 - ETA: 1s - loss: 0.5041 - accuracy: 0.79 - ETA: 1s - loss: 0.5041 - accuracy: 0.79 - ETA: 1s - loss: 0.5031 - accuracy: 0.79 - ETA: 1s - loss: 0.5035 - accuracy: 0.79 - ETA: 1s - loss: 0.5046 - accuracy: 0.79 - ETA: 1s - loss: 0.5057 - accuracy: 0.79 - ETA: 1s - loss: 0.5055 - accuracy: 0.79 - ETA: 1s - loss: 0.5054 - accuracy: 0.79 - ETA: 1s - loss: 0.5055 - accuracy: 0.79 - ETA: 1s - loss: 0.5057 - accuracy: 0.79 - ETA: 1s - loss: 0.5060 - accuracy: 0.79 - ETA: 1s - loss: 0.5057 - accuracy: 0.79 - ETA: 1s - loss: 0.5058 - accuracy: 0.79 - ETA: 1s - loss: 0.5057 - accuracy: 0.79 - ETA: 1s - loss: 0.5055 - accuracy: 0.79 - ETA: 1s - loss: 0.5060 - accuracy: 0.79 - ETA: 0s - loss: 0.5059 - accuracy: 0.79 - ETA: 0s - loss: 0.5064 - accuracy: 0.79 - ETA: 0s - loss: 0.5069 - accuracy: 0.79 - ETA: 0s - loss: 0.5075 - accuracy: 0.79 - ETA: 0s - loss: 0.5079 - accuracy: 0.79 - ETA: 0s - loss: 0.5082 - accuracy: 0.79 - ETA: 0s - loss: 0.5086 - accuracy: 0.79 - ETA: 0s - loss: 0.5084 - accuracy: 0.79 - ETA: 0s - loss: 0.5079 - accuracy: 0.79 - ETA: 0s - loss: 0.5075 - accuracy: 0.79 - ETA: 0s - loss: 0.5068 - accuracy: 0.79 - ETA: 0s - loss: 0.5071 - accuracy: 0.79 - ETA: 0s - loss: 0.5070 - accuracy: 0.79 - ETA: 0s - loss: 0.5073 - accuracy: 0.79 - ETA: 0s - loss: 0.5070 - accuracy: 0.79 - ETA: 0s - loss: 0.5063 - accuracy: 0.79 - ETA: 0s - loss: 0.5063 - accuracy: 0.79 - ETA: 0s - loss: 0.5059 - accuracy: 0.79 - ETA: 0s - loss: 0.5056 - accuracy: 0.79 - 11s 2ms/sample - loss: 0.5056 - accuracy: 0.7974 - val_loss: 0.5091 - val_accuracy: 0.7937\n"
     ]
    },
    {
     "data": {
      "text/html": [
       "<span style=\"color:#4527A0\"><h1 style=\"font-size:18px\">Trial complete</h1></span>"
      ],
      "text/plain": [
       "<IPython.core.display.HTML object>"
      ]
     },
     "metadata": {},
     "output_type": "display_data"
    },
    {
     "data": {
      "text/html": [
       "<span style=\"color:#4527A0\"><h1 style=\"font-size:18px\">Trial summary</h1></span>"
      ],
      "text/plain": [
       "<IPython.core.display.HTML object>"
      ]
     },
     "metadata": {},
     "output_type": "display_data"
    },
    {
     "data": {
      "text/html": [
       "<span style=\"color:cyan\"> |-Trial ID: 43992d4281f57df6a3469ed6c6cd3a24</span>"
      ],
      "text/plain": [
       "<IPython.core.display.HTML object>"
      ]
     },
     "metadata": {},
     "output_type": "display_data"
    },
    {
     "data": {
      "text/html": [
       "<span style=\"color:cyan\"> |-Score: 0.793666660785675</span>"
      ],
      "text/plain": [
       "<IPython.core.display.HTML object>"
      ]
     },
     "metadata": {},
     "output_type": "display_data"
    },
    {
     "data": {
      "text/html": [
       "<span style=\"color:cyan\"> |-Best step: 0</span>"
      ],
      "text/plain": [
       "<IPython.core.display.HTML object>"
      ]
     },
     "metadata": {},
     "output_type": "display_data"
    },
    {
     "data": {
      "text/html": [
       "<span style=\"color:#7E57C2\"><h2 style=\"font-size:16px\">Hyperparameters:</h2></span>"
      ],
      "text/plain": [
       "<IPython.core.display.HTML object>"
      ]
     },
     "metadata": {},
     "output_type": "display_data"
    },
    {
     "data": {
      "text/html": [
       "<span style=\"color:cyan\"> |-learning_rate: 0.001</span>"
      ],
      "text/plain": [
       "<IPython.core.display.HTML object>"
      ]
     },
     "metadata": {},
     "output_type": "display_data"
    },
    {
     "data": {
      "text/html": [
       "<span style=\"color:blue\"> |-num_layers: 12</span>"
      ],
      "text/plain": [
       "<IPython.core.display.HTML object>"
      ]
     },
     "metadata": {},
     "output_type": "display_data"
    },
    {
     "data": {
      "text/html": [
       "<span style=\"color:cyan\"> |-units_0: 64</span>"
      ],
      "text/plain": [
       "<IPython.core.display.HTML object>"
      ]
     },
     "metadata": {},
     "output_type": "display_data"
    },
    {
     "data": {
      "text/html": [
       "<span style=\"color:blue\"> |-units_1: 480</span>"
      ],
      "text/plain": [
       "<IPython.core.display.HTML object>"
      ]
     },
     "metadata": {},
     "output_type": "display_data"
    },
    {
     "data": {
      "text/html": [
       "<span style=\"color:cyan\"> |-units_10: 256</span>"
      ],
      "text/plain": [
       "<IPython.core.display.HTML object>"
      ]
     },
     "metadata": {},
     "output_type": "display_data"
    },
    {
     "data": {
      "text/html": [
       "<span style=\"color:blue\"> |-units_11: 384</span>"
      ],
      "text/plain": [
       "<IPython.core.display.HTML object>"
      ]
     },
     "metadata": {},
     "output_type": "display_data"
    },
    {
     "data": {
      "text/html": [
       "<span style=\"color:cyan\"> |-units_12: 448</span>"
      ],
      "text/plain": [
       "<IPython.core.display.HTML object>"
      ]
     },
     "metadata": {},
     "output_type": "display_data"
    },
    {
     "data": {
      "text/html": [
       "<span style=\"color:blue\"> |-units_13: 96</span>"
      ],
      "text/plain": [
       "<IPython.core.display.HTML object>"
      ]
     },
     "metadata": {},
     "output_type": "display_data"
    },
    {
     "data": {
      "text/html": [
       "<span style=\"color:cyan\"> |-units_14: 448</span>"
      ],
      "text/plain": [
       "<IPython.core.display.HTML object>"
      ]
     },
     "metadata": {},
     "output_type": "display_data"
    },
    {
     "data": {
      "text/html": [
       "<span style=\"color:blue\"> |-units_15: 384</span>"
      ],
      "text/plain": [
       "<IPython.core.display.HTML object>"
      ]
     },
     "metadata": {},
     "output_type": "display_data"
    },
    {
     "data": {
      "text/html": [
       "<span style=\"color:cyan\"> |-units_16: 224</span>"
      ],
      "text/plain": [
       "<IPython.core.display.HTML object>"
      ]
     },
     "metadata": {},
     "output_type": "display_data"
    },
    {
     "data": {
      "text/html": [
       "<span style=\"color:blue\"> |-units_17: 480</span>"
      ],
      "text/plain": [
       "<IPython.core.display.HTML object>"
      ]
     },
     "metadata": {},
     "output_type": "display_data"
    },
    {
     "data": {
      "text/html": [
       "<span style=\"color:cyan\"> |-units_2: 64</span>"
      ],
      "text/plain": [
       "<IPython.core.display.HTML object>"
      ]
     },
     "metadata": {},
     "output_type": "display_data"
    },
    {
     "data": {
      "text/html": [
       "<span style=\"color:blue\"> |-units_3: 224</span>"
      ],
      "text/plain": [
       "<IPython.core.display.HTML object>"
      ]
     },
     "metadata": {},
     "output_type": "display_data"
    },
    {
     "data": {
      "text/html": [
       "<span style=\"color:cyan\"> |-units_4: 64</span>"
      ],
      "text/plain": [
       "<IPython.core.display.HTML object>"
      ]
     },
     "metadata": {},
     "output_type": "display_data"
    },
    {
     "data": {
      "text/html": [
       "<span style=\"color:blue\"> |-units_5: 416</span>"
      ],
      "text/plain": [
       "<IPython.core.display.HTML object>"
      ]
     },
     "metadata": {},
     "output_type": "display_data"
    },
    {
     "data": {
      "text/html": [
       "<span style=\"color:cyan\"> |-units_6: 288</span>"
      ],
      "text/plain": [
       "<IPython.core.display.HTML object>"
      ]
     },
     "metadata": {},
     "output_type": "display_data"
    },
    {
     "data": {
      "text/html": [
       "<span style=\"color:blue\"> |-units_7: 288</span>"
      ],
      "text/plain": [
       "<IPython.core.display.HTML object>"
      ]
     },
     "metadata": {},
     "output_type": "display_data"
    },
    {
     "data": {
      "text/html": [
       "<span style=\"color:cyan\"> |-units_8: 384</span>"
      ],
      "text/plain": [
       "<IPython.core.display.HTML object>"
      ]
     },
     "metadata": {},
     "output_type": "display_data"
    },
    {
     "data": {
      "text/html": [
       "<span style=\"color:blue\"> |-units_9: 416</span>"
      ],
      "text/plain": [
       "<IPython.core.display.HTML object>"
      ]
     },
     "metadata": {},
     "output_type": "display_data"
    },
    {
     "name": "stdout",
     "output_type": "stream",
     "text": [
      "INFO:tensorflow:Oracle triggered exit\n"
     ]
    }
   ],
   "source": [
    "tuner.search(x_train,y_train,epochs=5,validation_data=(x_test, y_test))"
   ]
  },
  {
   "cell_type": "code",
   "execution_count": 179,
   "id": "2c69e337",
   "metadata": {},
   "outputs": [],
   "source": [
    "models = tuner.get_best_models(num_models=2)"
   ]
  },
  {
   "cell_type": "code",
   "execution_count": 182,
   "id": "976eca88",
   "metadata": {},
   "outputs": [
    {
     "data": {
      "text/plain": [
       "[<tensorflow.python.keras.engine.sequential.Sequential at 0x7fd5d49701d0>,\n",
       " <tensorflow.python.keras.engine.sequential.Sequential at 0x7fd5d4970110>]"
      ]
     },
     "execution_count": 182,
     "metadata": {},
     "output_type": "execute_result"
    }
   ],
   "source": [
    "models"
   ]
  },
  {
   "cell_type": "code",
   "execution_count": 180,
   "id": "839bf149",
   "metadata": {},
   "outputs": [
    {
     "data": {
      "text/html": [
       "<span style=\"color:#4527A0\"><h1 style=\"font-size:18px\">Results summary</h1></span>"
      ],
      "text/plain": [
       "<IPython.core.display.HTML object>"
      ]
     },
     "metadata": {},
     "output_type": "display_data"
    },
    {
     "data": {
      "text/html": [
       "<span style=\"color:cyan\"> |-Results in project/Air Quality Index</span>"
      ],
      "text/plain": [
       "<IPython.core.display.HTML object>"
      ]
     },
     "metadata": {},
     "output_type": "display_data"
    },
    {
     "data": {
      "text/html": [
       "<span style=\"color:cyan\"> |-Showing 10 best trials</span>"
      ],
      "text/plain": [
       "<IPython.core.display.HTML object>"
      ]
     },
     "metadata": {},
     "output_type": "display_data"
    },
    {
     "data": {
      "text/html": [
       "<span style=\"color:cyan\"> |-Objective(name='val_accuracy', direction='max')</span>"
      ],
      "text/plain": [
       "<IPython.core.display.HTML object>"
      ]
     },
     "metadata": {},
     "output_type": "display_data"
    },
    {
     "data": {
      "text/html": [
       "<span style=\"color:#4527A0\"><h1 style=\"font-size:18px\">Trial summary</h1></span>"
      ],
      "text/plain": [
       "<IPython.core.display.HTML object>"
      ]
     },
     "metadata": {},
     "output_type": "display_data"
    },
    {
     "data": {
      "text/html": [
       "<span style=\"color:cyan\"> |-Trial ID: dccedf96579a3bfaa6c44000becefc20</span>"
      ],
      "text/plain": [
       "<IPython.core.display.HTML object>"
      ]
     },
     "metadata": {},
     "output_type": "display_data"
    },
    {
     "data": {
      "text/html": [
       "<span style=\"color:cyan\"> |-Score: 0.793666660785675</span>"
      ],
      "text/plain": [
       "<IPython.core.display.HTML object>"
      ]
     },
     "metadata": {},
     "output_type": "display_data"
    },
    {
     "data": {
      "text/html": [
       "<span style=\"color:cyan\"> |-Best step: 0</span>"
      ],
      "text/plain": [
       "<IPython.core.display.HTML object>"
      ]
     },
     "metadata": {},
     "output_type": "display_data"
    },
    {
     "data": {
      "text/html": [
       "<span style=\"color:#7E57C2\"><h2 style=\"font-size:16px\">Hyperparameters:</h2></span>"
      ],
      "text/plain": [
       "<IPython.core.display.HTML object>"
      ]
     },
     "metadata": {},
     "output_type": "display_data"
    },
    {
     "data": {
      "text/html": [
       "<span style=\"color:cyan\"> |-learning_rate: 0.001</span>"
      ],
      "text/plain": [
       "<IPython.core.display.HTML object>"
      ]
     },
     "metadata": {},
     "output_type": "display_data"
    },
    {
     "data": {
      "text/html": [
       "<span style=\"color:blue\"> |-num_layers: 10</span>"
      ],
      "text/plain": [
       "<IPython.core.display.HTML object>"
      ]
     },
     "metadata": {},
     "output_type": "display_data"
    },
    {
     "data": {
      "text/html": [
       "<span style=\"color:cyan\"> |-units_0: 256</span>"
      ],
      "text/plain": [
       "<IPython.core.display.HTML object>"
      ]
     },
     "metadata": {},
     "output_type": "display_data"
    },
    {
     "data": {
      "text/html": [
       "<span style=\"color:blue\"> |-units_1: 384</span>"
      ],
      "text/plain": [
       "<IPython.core.display.HTML object>"
      ]
     },
     "metadata": {},
     "output_type": "display_data"
    },
    {
     "data": {
      "text/html": [
       "<span style=\"color:cyan\"> |-units_2: 32</span>"
      ],
      "text/plain": [
       "<IPython.core.display.HTML object>"
      ]
     },
     "metadata": {},
     "output_type": "display_data"
    },
    {
     "data": {
      "text/html": [
       "<span style=\"color:blue\"> |-units_3: 32</span>"
      ],
      "text/plain": [
       "<IPython.core.display.HTML object>"
      ]
     },
     "metadata": {},
     "output_type": "display_data"
    },
    {
     "data": {
      "text/html": [
       "<span style=\"color:cyan\"> |-units_4: 32</span>"
      ],
      "text/plain": [
       "<IPython.core.display.HTML object>"
      ]
     },
     "metadata": {},
     "output_type": "display_data"
    },
    {
     "data": {
      "text/html": [
       "<span style=\"color:blue\"> |-units_5: 32</span>"
      ],
      "text/plain": [
       "<IPython.core.display.HTML object>"
      ]
     },
     "metadata": {},
     "output_type": "display_data"
    },
    {
     "data": {
      "text/html": [
       "<span style=\"color:cyan\"> |-units_6: 32</span>"
      ],
      "text/plain": [
       "<IPython.core.display.HTML object>"
      ]
     },
     "metadata": {},
     "output_type": "display_data"
    },
    {
     "data": {
      "text/html": [
       "<span style=\"color:blue\"> |-units_7: 32</span>"
      ],
      "text/plain": [
       "<IPython.core.display.HTML object>"
      ]
     },
     "metadata": {},
     "output_type": "display_data"
    },
    {
     "data": {
      "text/html": [
       "<span style=\"color:cyan\"> |-units_8: 32</span>"
      ],
      "text/plain": [
       "<IPython.core.display.HTML object>"
      ]
     },
     "metadata": {},
     "output_type": "display_data"
    },
    {
     "data": {
      "text/html": [
       "<span style=\"color:blue\"> |-units_9: 32</span>"
      ],
      "text/plain": [
       "<IPython.core.display.HTML object>"
      ]
     },
     "metadata": {},
     "output_type": "display_data"
    },
    {
     "data": {
      "text/html": [
       "<span style=\"color:#4527A0\"><h1 style=\"font-size:18px\">Trial summary</h1></span>"
      ],
      "text/plain": [
       "<IPython.core.display.HTML object>"
      ]
     },
     "metadata": {},
     "output_type": "display_data"
    },
    {
     "data": {
      "text/html": [
       "<span style=\"color:cyan\"> |-Trial ID: 5116076db8e751b066d73194625c85be</span>"
      ],
      "text/plain": [
       "<IPython.core.display.HTML object>"
      ]
     },
     "metadata": {},
     "output_type": "display_data"
    },
    {
     "data": {
      "text/html": [
       "<span style=\"color:cyan\"> |-Score: 0.793666660785675</span>"
      ],
      "text/plain": [
       "<IPython.core.display.HTML object>"
      ]
     },
     "metadata": {},
     "output_type": "display_data"
    },
    {
     "data": {
      "text/html": [
       "<span style=\"color:cyan\"> |-Best step: 0</span>"
      ],
      "text/plain": [
       "<IPython.core.display.HTML object>"
      ]
     },
     "metadata": {},
     "output_type": "display_data"
    },
    {
     "data": {
      "text/html": [
       "<span style=\"color:#7E57C2\"><h2 style=\"font-size:16px\">Hyperparameters:</h2></span>"
      ],
      "text/plain": [
       "<IPython.core.display.HTML object>"
      ]
     },
     "metadata": {},
     "output_type": "display_data"
    },
    {
     "data": {
      "text/html": [
       "<span style=\"color:cyan\"> |-learning_rate: 0.0001</span>"
      ],
      "text/plain": [
       "<IPython.core.display.HTML object>"
      ]
     },
     "metadata": {},
     "output_type": "display_data"
    },
    {
     "data": {
      "text/html": [
       "<span style=\"color:blue\"> |-num_layers: 18</span>"
      ],
      "text/plain": [
       "<IPython.core.display.HTML object>"
      ]
     },
     "metadata": {},
     "output_type": "display_data"
    },
    {
     "data": {
      "text/html": [
       "<span style=\"color:cyan\"> |-units_0: 416</span>"
      ],
      "text/plain": [
       "<IPython.core.display.HTML object>"
      ]
     },
     "metadata": {},
     "output_type": "display_data"
    },
    {
     "data": {
      "text/html": [
       "<span style=\"color:blue\"> |-units_1: 384</span>"
      ],
      "text/plain": [
       "<IPython.core.display.HTML object>"
      ]
     },
     "metadata": {},
     "output_type": "display_data"
    },
    {
     "data": {
      "text/html": [
       "<span style=\"color:cyan\"> |-units_10: 32</span>"
      ],
      "text/plain": [
       "<IPython.core.display.HTML object>"
      ]
     },
     "metadata": {},
     "output_type": "display_data"
    },
    {
     "data": {
      "text/html": [
       "<span style=\"color:blue\"> |-units_11: 32</span>"
      ],
      "text/plain": [
       "<IPython.core.display.HTML object>"
      ]
     },
     "metadata": {},
     "output_type": "display_data"
    },
    {
     "data": {
      "text/html": [
       "<span style=\"color:cyan\"> |-units_12: 32</span>"
      ],
      "text/plain": [
       "<IPython.core.display.HTML object>"
      ]
     },
     "metadata": {},
     "output_type": "display_data"
    },
    {
     "data": {
      "text/html": [
       "<span style=\"color:blue\"> |-units_13: 32</span>"
      ],
      "text/plain": [
       "<IPython.core.display.HTML object>"
      ]
     },
     "metadata": {},
     "output_type": "display_data"
    },
    {
     "data": {
      "text/html": [
       "<span style=\"color:cyan\"> |-units_14: 32</span>"
      ],
      "text/plain": [
       "<IPython.core.display.HTML object>"
      ]
     },
     "metadata": {},
     "output_type": "display_data"
    },
    {
     "data": {
      "text/html": [
       "<span style=\"color:blue\"> |-units_15: 32</span>"
      ],
      "text/plain": [
       "<IPython.core.display.HTML object>"
      ]
     },
     "metadata": {},
     "output_type": "display_data"
    },
    {
     "data": {
      "text/html": [
       "<span style=\"color:cyan\"> |-units_16: 32</span>"
      ],
      "text/plain": [
       "<IPython.core.display.HTML object>"
      ]
     },
     "metadata": {},
     "output_type": "display_data"
    },
    {
     "data": {
      "text/html": [
       "<span style=\"color:blue\"> |-units_17: 32</span>"
      ],
      "text/plain": [
       "<IPython.core.display.HTML object>"
      ]
     },
     "metadata": {},
     "output_type": "display_data"
    },
    {
     "data": {
      "text/html": [
       "<span style=\"color:cyan\"> |-units_2: 448</span>"
      ],
      "text/plain": [
       "<IPython.core.display.HTML object>"
      ]
     },
     "metadata": {},
     "output_type": "display_data"
    },
    {
     "data": {
      "text/html": [
       "<span style=\"color:blue\"> |-units_3: 64</span>"
      ],
      "text/plain": [
       "<IPython.core.display.HTML object>"
      ]
     },
     "metadata": {},
     "output_type": "display_data"
    },
    {
     "data": {
      "text/html": [
       "<span style=\"color:cyan\"> |-units_4: 96</span>"
      ],
      "text/plain": [
       "<IPython.core.display.HTML object>"
      ]
     },
     "metadata": {},
     "output_type": "display_data"
    },
    {
     "data": {
      "text/html": [
       "<span style=\"color:blue\"> |-units_5: 160</span>"
      ],
      "text/plain": [
       "<IPython.core.display.HTML object>"
      ]
     },
     "metadata": {},
     "output_type": "display_data"
    },
    {
     "data": {
      "text/html": [
       "<span style=\"color:cyan\"> |-units_6: 320</span>"
      ],
      "text/plain": [
       "<IPython.core.display.HTML object>"
      ]
     },
     "metadata": {},
     "output_type": "display_data"
    },
    {
     "data": {
      "text/html": [
       "<span style=\"color:blue\"> |-units_7: 448</span>"
      ],
      "text/plain": [
       "<IPython.core.display.HTML object>"
      ]
     },
     "metadata": {},
     "output_type": "display_data"
    },
    {
     "data": {
      "text/html": [
       "<span style=\"color:cyan\"> |-units_8: 448</span>"
      ],
      "text/plain": [
       "<IPython.core.display.HTML object>"
      ]
     },
     "metadata": {},
     "output_type": "display_data"
    },
    {
     "data": {
      "text/html": [
       "<span style=\"color:blue\"> |-units_9: 32</span>"
      ],
      "text/plain": [
       "<IPython.core.display.HTML object>"
      ]
     },
     "metadata": {},
     "output_type": "display_data"
    },
    {
     "data": {
      "text/html": [
       "<span style=\"color:#4527A0\"><h1 style=\"font-size:18px\">Trial summary</h1></span>"
      ],
      "text/plain": [
       "<IPython.core.display.HTML object>"
      ]
     },
     "metadata": {},
     "output_type": "display_data"
    },
    {
     "data": {
      "text/html": [
       "<span style=\"color:cyan\"> |-Trial ID: f2a039d222a1d785ded0db30ca18988f</span>"
      ],
      "text/plain": [
       "<IPython.core.display.HTML object>"
      ]
     },
     "metadata": {},
     "output_type": "display_data"
    },
    {
     "data": {
      "text/html": [
       "<span style=\"color:cyan\"> |-Score: 0.793666660785675</span>"
      ],
      "text/plain": [
       "<IPython.core.display.HTML object>"
      ]
     },
     "metadata": {},
     "output_type": "display_data"
    },
    {
     "data": {
      "text/html": [
       "<span style=\"color:cyan\"> |-Best step: 0</span>"
      ],
      "text/plain": [
       "<IPython.core.display.HTML object>"
      ]
     },
     "metadata": {},
     "output_type": "display_data"
    },
    {
     "data": {
      "text/html": [
       "<span style=\"color:#7E57C2\"><h2 style=\"font-size:16px\">Hyperparameters:</h2></span>"
      ],
      "text/plain": [
       "<IPython.core.display.HTML object>"
      ]
     },
     "metadata": {},
     "output_type": "display_data"
    },
    {
     "data": {
      "text/html": [
       "<span style=\"color:cyan\"> |-learning_rate: 0.0001</span>"
      ],
      "text/plain": [
       "<IPython.core.display.HTML object>"
      ]
     },
     "metadata": {},
     "output_type": "display_data"
    },
    {
     "data": {
      "text/html": [
       "<span style=\"color:blue\"> |-num_layers: 15</span>"
      ],
      "text/plain": [
       "<IPython.core.display.HTML object>"
      ]
     },
     "metadata": {},
     "output_type": "display_data"
    },
    {
     "data": {
      "text/html": [
       "<span style=\"color:cyan\"> |-units_0: 448</span>"
      ],
      "text/plain": [
       "<IPython.core.display.HTML object>"
      ]
     },
     "metadata": {},
     "output_type": "display_data"
    },
    {
     "data": {
      "text/html": [
       "<span style=\"color:blue\"> |-units_1: 352</span>"
      ],
      "text/plain": [
       "<IPython.core.display.HTML object>"
      ]
     },
     "metadata": {},
     "output_type": "display_data"
    },
    {
     "data": {
      "text/html": [
       "<span style=\"color:cyan\"> |-units_10: 448</span>"
      ],
      "text/plain": [
       "<IPython.core.display.HTML object>"
      ]
     },
     "metadata": {},
     "output_type": "display_data"
    },
    {
     "data": {
      "text/html": [
       "<span style=\"color:blue\"> |-units_11: 384</span>"
      ],
      "text/plain": [
       "<IPython.core.display.HTML object>"
      ]
     },
     "metadata": {},
     "output_type": "display_data"
    },
    {
     "data": {
      "text/html": [
       "<span style=\"color:cyan\"> |-units_12: 480</span>"
      ],
      "text/plain": [
       "<IPython.core.display.HTML object>"
      ]
     },
     "metadata": {},
     "output_type": "display_data"
    },
    {
     "data": {
      "text/html": [
       "<span style=\"color:blue\"> |-units_13: 352</span>"
      ],
      "text/plain": [
       "<IPython.core.display.HTML object>"
      ]
     },
     "metadata": {},
     "output_type": "display_data"
    },
    {
     "data": {
      "text/html": [
       "<span style=\"color:cyan\"> |-units_14: 352</span>"
      ],
      "text/plain": [
       "<IPython.core.display.HTML object>"
      ]
     },
     "metadata": {},
     "output_type": "display_data"
    },
    {
     "data": {
      "text/html": [
       "<span style=\"color:blue\"> |-units_15: 64</span>"
      ],
      "text/plain": [
       "<IPython.core.display.HTML object>"
      ]
     },
     "metadata": {},
     "output_type": "display_data"
    },
    {
     "data": {
      "text/html": [
       "<span style=\"color:cyan\"> |-units_16: 256</span>"
      ],
      "text/plain": [
       "<IPython.core.display.HTML object>"
      ]
     },
     "metadata": {},
     "output_type": "display_data"
    },
    {
     "data": {
      "text/html": [
       "<span style=\"color:blue\"> |-units_17: 288</span>"
      ],
      "text/plain": [
       "<IPython.core.display.HTML object>"
      ]
     },
     "metadata": {},
     "output_type": "display_data"
    },
    {
     "data": {
      "text/html": [
       "<span style=\"color:cyan\"> |-units_2: 256</span>"
      ],
      "text/plain": [
       "<IPython.core.display.HTML object>"
      ]
     },
     "metadata": {},
     "output_type": "display_data"
    },
    {
     "data": {
      "text/html": [
       "<span style=\"color:blue\"> |-units_3: 384</span>"
      ],
      "text/plain": [
       "<IPython.core.display.HTML object>"
      ]
     },
     "metadata": {},
     "output_type": "display_data"
    },
    {
     "data": {
      "text/html": [
       "<span style=\"color:cyan\"> |-units_4: 128</span>"
      ],
      "text/plain": [
       "<IPython.core.display.HTML object>"
      ]
     },
     "metadata": {},
     "output_type": "display_data"
    },
    {
     "data": {
      "text/html": [
       "<span style=\"color:blue\"> |-units_5: 96</span>"
      ],
      "text/plain": [
       "<IPython.core.display.HTML object>"
      ]
     },
     "metadata": {},
     "output_type": "display_data"
    },
    {
     "data": {
      "text/html": [
       "<span style=\"color:cyan\"> |-units_6: 64</span>"
      ],
      "text/plain": [
       "<IPython.core.display.HTML object>"
      ]
     },
     "metadata": {},
     "output_type": "display_data"
    },
    {
     "data": {
      "text/html": [
       "<span style=\"color:blue\"> |-units_7: 224</span>"
      ],
      "text/plain": [
       "<IPython.core.display.HTML object>"
      ]
     },
     "metadata": {},
     "output_type": "display_data"
    },
    {
     "data": {
      "text/html": [
       "<span style=\"color:cyan\"> |-units_8: 288</span>"
      ],
      "text/plain": [
       "<IPython.core.display.HTML object>"
      ]
     },
     "metadata": {},
     "output_type": "display_data"
    },
    {
     "data": {
      "text/html": [
       "<span style=\"color:blue\"> |-units_9: 224</span>"
      ],
      "text/plain": [
       "<IPython.core.display.HTML object>"
      ]
     },
     "metadata": {},
     "output_type": "display_data"
    },
    {
     "data": {
      "text/html": [
       "<span style=\"color:#4527A0\"><h1 style=\"font-size:18px\">Trial summary</h1></span>"
      ],
      "text/plain": [
       "<IPython.core.display.HTML object>"
      ]
     },
     "metadata": {},
     "output_type": "display_data"
    },
    {
     "data": {
      "text/html": [
       "<span style=\"color:cyan\"> |-Trial ID: 281715988b88e09cd8af905aec6c6e22</span>"
      ],
      "text/plain": [
       "<IPython.core.display.HTML object>"
      ]
     },
     "metadata": {},
     "output_type": "display_data"
    },
    {
     "data": {
      "text/html": [
       "<span style=\"color:cyan\"> |-Score: 0.793666660785675</span>"
      ],
      "text/plain": [
       "<IPython.core.display.HTML object>"
      ]
     },
     "metadata": {},
     "output_type": "display_data"
    },
    {
     "data": {
      "text/html": [
       "<span style=\"color:cyan\"> |-Best step: 0</span>"
      ],
      "text/plain": [
       "<IPython.core.display.HTML object>"
      ]
     },
     "metadata": {},
     "output_type": "display_data"
    },
    {
     "data": {
      "text/html": [
       "<span style=\"color:#7E57C2\"><h2 style=\"font-size:16px\">Hyperparameters:</h2></span>"
      ],
      "text/plain": [
       "<IPython.core.display.HTML object>"
      ]
     },
     "metadata": {},
     "output_type": "display_data"
    },
    {
     "data": {
      "text/html": [
       "<span style=\"color:cyan\"> |-learning_rate: 0.0001</span>"
      ],
      "text/plain": [
       "<IPython.core.display.HTML object>"
      ]
     },
     "metadata": {},
     "output_type": "display_data"
    },
    {
     "data": {
      "text/html": [
       "<span style=\"color:blue\"> |-num_layers: 4</span>"
      ],
      "text/plain": [
       "<IPython.core.display.HTML object>"
      ]
     },
     "metadata": {},
     "output_type": "display_data"
    },
    {
     "data": {
      "text/html": [
       "<span style=\"color:cyan\"> |-units_0: 128</span>"
      ],
      "text/plain": [
       "<IPython.core.display.HTML object>"
      ]
     },
     "metadata": {},
     "output_type": "display_data"
    },
    {
     "data": {
      "text/html": [
       "<span style=\"color:blue\"> |-units_1: 352</span>"
      ],
      "text/plain": [
       "<IPython.core.display.HTML object>"
      ]
     },
     "metadata": {},
     "output_type": "display_data"
    },
    {
     "data": {
      "text/html": [
       "<span style=\"color:cyan\"> |-units_10: 192</span>"
      ],
      "text/plain": [
       "<IPython.core.display.HTML object>"
      ]
     },
     "metadata": {},
     "output_type": "display_data"
    },
    {
     "data": {
      "text/html": [
       "<span style=\"color:blue\"> |-units_11: 192</span>"
      ],
      "text/plain": [
       "<IPython.core.display.HTML object>"
      ]
     },
     "metadata": {},
     "output_type": "display_data"
    },
    {
     "data": {
      "text/html": [
       "<span style=\"color:cyan\"> |-units_12: 256</span>"
      ],
      "text/plain": [
       "<IPython.core.display.HTML object>"
      ]
     },
     "metadata": {},
     "output_type": "display_data"
    },
    {
     "data": {
      "text/html": [
       "<span style=\"color:blue\"> |-units_13: 64</span>"
      ],
      "text/plain": [
       "<IPython.core.display.HTML object>"
      ]
     },
     "metadata": {},
     "output_type": "display_data"
    },
    {
     "data": {
      "text/html": [
       "<span style=\"color:cyan\"> |-units_14: 416</span>"
      ],
      "text/plain": [
       "<IPython.core.display.HTML object>"
      ]
     },
     "metadata": {},
     "output_type": "display_data"
    },
    {
     "data": {
      "text/html": [
       "<span style=\"color:blue\"> |-units_15: 224</span>"
      ],
      "text/plain": [
       "<IPython.core.display.HTML object>"
      ]
     },
     "metadata": {},
     "output_type": "display_data"
    },
    {
     "data": {
      "text/html": [
       "<span style=\"color:cyan\"> |-units_16: 192</span>"
      ],
      "text/plain": [
       "<IPython.core.display.HTML object>"
      ]
     },
     "metadata": {},
     "output_type": "display_data"
    },
    {
     "data": {
      "text/html": [
       "<span style=\"color:blue\"> |-units_17: 352</span>"
      ],
      "text/plain": [
       "<IPython.core.display.HTML object>"
      ]
     },
     "metadata": {},
     "output_type": "display_data"
    },
    {
     "data": {
      "text/html": [
       "<span style=\"color:cyan\"> |-units_2: 288</span>"
      ],
      "text/plain": [
       "<IPython.core.display.HTML object>"
      ]
     },
     "metadata": {},
     "output_type": "display_data"
    },
    {
     "data": {
      "text/html": [
       "<span style=\"color:blue\"> |-units_3: 224</span>"
      ],
      "text/plain": [
       "<IPython.core.display.HTML object>"
      ]
     },
     "metadata": {},
     "output_type": "display_data"
    },
    {
     "data": {
      "text/html": [
       "<span style=\"color:cyan\"> |-units_4: 320</span>"
      ],
      "text/plain": [
       "<IPython.core.display.HTML object>"
      ]
     },
     "metadata": {},
     "output_type": "display_data"
    },
    {
     "data": {
      "text/html": [
       "<span style=\"color:blue\"> |-units_5: 128</span>"
      ],
      "text/plain": [
       "<IPython.core.display.HTML object>"
      ]
     },
     "metadata": {},
     "output_type": "display_data"
    },
    {
     "data": {
      "text/html": [
       "<span style=\"color:cyan\"> |-units_6: 416</span>"
      ],
      "text/plain": [
       "<IPython.core.display.HTML object>"
      ]
     },
     "metadata": {},
     "output_type": "display_data"
    },
    {
     "data": {
      "text/html": [
       "<span style=\"color:blue\"> |-units_7: 128</span>"
      ],
      "text/plain": [
       "<IPython.core.display.HTML object>"
      ]
     },
     "metadata": {},
     "output_type": "display_data"
    },
    {
     "data": {
      "text/html": [
       "<span style=\"color:cyan\"> |-units_8: 384</span>"
      ],
      "text/plain": [
       "<IPython.core.display.HTML object>"
      ]
     },
     "metadata": {},
     "output_type": "display_data"
    },
    {
     "data": {
      "text/html": [
       "<span style=\"color:blue\"> |-units_9: 224</span>"
      ],
      "text/plain": [
       "<IPython.core.display.HTML object>"
      ]
     },
     "metadata": {},
     "output_type": "display_data"
    },
    {
     "data": {
      "text/html": [
       "<span style=\"color:#4527A0\"><h1 style=\"font-size:18px\">Trial summary</h1></span>"
      ],
      "text/plain": [
       "<IPython.core.display.HTML object>"
      ]
     },
     "metadata": {},
     "output_type": "display_data"
    },
    {
     "data": {
      "text/html": [
       "<span style=\"color:cyan\"> |-Trial ID: 43992d4281f57df6a3469ed6c6cd3a24</span>"
      ],
      "text/plain": [
       "<IPython.core.display.HTML object>"
      ]
     },
     "metadata": {},
     "output_type": "display_data"
    },
    {
     "data": {
      "text/html": [
       "<span style=\"color:cyan\"> |-Score: 0.793666660785675</span>"
      ],
      "text/plain": [
       "<IPython.core.display.HTML object>"
      ]
     },
     "metadata": {},
     "output_type": "display_data"
    },
    {
     "data": {
      "text/html": [
       "<span style=\"color:cyan\"> |-Best step: 0</span>"
      ],
      "text/plain": [
       "<IPython.core.display.HTML object>"
      ]
     },
     "metadata": {},
     "output_type": "display_data"
    },
    {
     "data": {
      "text/html": [
       "<span style=\"color:#7E57C2\"><h2 style=\"font-size:16px\">Hyperparameters:</h2></span>"
      ],
      "text/plain": [
       "<IPython.core.display.HTML object>"
      ]
     },
     "metadata": {},
     "output_type": "display_data"
    },
    {
     "data": {
      "text/html": [
       "<span style=\"color:cyan\"> |-learning_rate: 0.001</span>"
      ],
      "text/plain": [
       "<IPython.core.display.HTML object>"
      ]
     },
     "metadata": {},
     "output_type": "display_data"
    },
    {
     "data": {
      "text/html": [
       "<span style=\"color:blue\"> |-num_layers: 12</span>"
      ],
      "text/plain": [
       "<IPython.core.display.HTML object>"
      ]
     },
     "metadata": {},
     "output_type": "display_data"
    },
    {
     "data": {
      "text/html": [
       "<span style=\"color:cyan\"> |-units_0: 64</span>"
      ],
      "text/plain": [
       "<IPython.core.display.HTML object>"
      ]
     },
     "metadata": {},
     "output_type": "display_data"
    },
    {
     "data": {
      "text/html": [
       "<span style=\"color:blue\"> |-units_1: 480</span>"
      ],
      "text/plain": [
       "<IPython.core.display.HTML object>"
      ]
     },
     "metadata": {},
     "output_type": "display_data"
    },
    {
     "data": {
      "text/html": [
       "<span style=\"color:cyan\"> |-units_10: 256</span>"
      ],
      "text/plain": [
       "<IPython.core.display.HTML object>"
      ]
     },
     "metadata": {},
     "output_type": "display_data"
    },
    {
     "data": {
      "text/html": [
       "<span style=\"color:blue\"> |-units_11: 384</span>"
      ],
      "text/plain": [
       "<IPython.core.display.HTML object>"
      ]
     },
     "metadata": {},
     "output_type": "display_data"
    },
    {
     "data": {
      "text/html": [
       "<span style=\"color:cyan\"> |-units_12: 448</span>"
      ],
      "text/plain": [
       "<IPython.core.display.HTML object>"
      ]
     },
     "metadata": {},
     "output_type": "display_data"
    },
    {
     "data": {
      "text/html": [
       "<span style=\"color:blue\"> |-units_13: 96</span>"
      ],
      "text/plain": [
       "<IPython.core.display.HTML object>"
      ]
     },
     "metadata": {},
     "output_type": "display_data"
    },
    {
     "data": {
      "text/html": [
       "<span style=\"color:cyan\"> |-units_14: 448</span>"
      ],
      "text/plain": [
       "<IPython.core.display.HTML object>"
      ]
     },
     "metadata": {},
     "output_type": "display_data"
    },
    {
     "data": {
      "text/html": [
       "<span style=\"color:blue\"> |-units_15: 384</span>"
      ],
      "text/plain": [
       "<IPython.core.display.HTML object>"
      ]
     },
     "metadata": {},
     "output_type": "display_data"
    },
    {
     "data": {
      "text/html": [
       "<span style=\"color:cyan\"> |-units_16: 224</span>"
      ],
      "text/plain": [
       "<IPython.core.display.HTML object>"
      ]
     },
     "metadata": {},
     "output_type": "display_data"
    },
    {
     "data": {
      "text/html": [
       "<span style=\"color:blue\"> |-units_17: 480</span>"
      ],
      "text/plain": [
       "<IPython.core.display.HTML object>"
      ]
     },
     "metadata": {},
     "output_type": "display_data"
    },
    {
     "data": {
      "text/html": [
       "<span style=\"color:cyan\"> |-units_2: 64</span>"
      ],
      "text/plain": [
       "<IPython.core.display.HTML object>"
      ]
     },
     "metadata": {},
     "output_type": "display_data"
    },
    {
     "data": {
      "text/html": [
       "<span style=\"color:blue\"> |-units_3: 224</span>"
      ],
      "text/plain": [
       "<IPython.core.display.HTML object>"
      ]
     },
     "metadata": {},
     "output_type": "display_data"
    },
    {
     "data": {
      "text/html": [
       "<span style=\"color:cyan\"> |-units_4: 64</span>"
      ],
      "text/plain": [
       "<IPython.core.display.HTML object>"
      ]
     },
     "metadata": {},
     "output_type": "display_data"
    },
    {
     "data": {
      "text/html": [
       "<span style=\"color:blue\"> |-units_5: 416</span>"
      ],
      "text/plain": [
       "<IPython.core.display.HTML object>"
      ]
     },
     "metadata": {},
     "output_type": "display_data"
    },
    {
     "data": {
      "text/html": [
       "<span style=\"color:cyan\"> |-units_6: 288</span>"
      ],
      "text/plain": [
       "<IPython.core.display.HTML object>"
      ]
     },
     "metadata": {},
     "output_type": "display_data"
    },
    {
     "data": {
      "text/html": [
       "<span style=\"color:blue\"> |-units_7: 288</span>"
      ],
      "text/plain": [
       "<IPython.core.display.HTML object>"
      ]
     },
     "metadata": {},
     "output_type": "display_data"
    },
    {
     "data": {
      "text/html": [
       "<span style=\"color:cyan\"> |-units_8: 384</span>"
      ],
      "text/plain": [
       "<IPython.core.display.HTML object>"
      ]
     },
     "metadata": {},
     "output_type": "display_data"
    },
    {
     "data": {
      "text/html": [
       "<span style=\"color:blue\"> |-units_9: 416</span>"
      ],
      "text/plain": [
       "<IPython.core.display.HTML object>"
      ]
     },
     "metadata": {},
     "output_type": "display_data"
    }
   ],
   "source": [
    "tuner.results_summary()"
   ]
  },
  {
   "cell_type": "code",
   "execution_count": null,
   "id": "5a3d333d",
   "metadata": {},
   "outputs": [],
   "source": []
  }
 ],
 "metadata": {
  "kernelspec": {
   "display_name": "Python 3",
   "language": "python",
   "name": "python3"
  },
  "language_info": {
   "codemirror_mode": {
    "name": "ipython",
    "version": 3
   },
   "file_extension": ".py",
   "mimetype": "text/x-python",
   "name": "python",
   "nbconvert_exporter": "python",
   "pygments_lexer": "ipython3",
   "version": "3.7.10"
  }
 },
 "nbformat": 4,
 "nbformat_minor": 5
}
